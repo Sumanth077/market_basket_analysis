{
 "cells": [
  {
   "cell_type": "code",
   "execution_count": 3,
   "metadata": {},
   "outputs": [],
   "source": [
    "import pandas as pd\n",
    "import warnings\n",
    "import seaborn as sns\n",
    "import matplotlib.pyplot as plt\n",
    "%matplotlib inline\n",
    "warnings.filterwarnings('ignore')"
   ]
  },
  {
   "cell_type": "code",
   "execution_count": 2,
   "metadata": {},
   "outputs": [],
   "source": [
    "reviews=pd.read_csv('olist_order_reviews_dataset.csv')\n",
    "payments=pd.read_csv('olist_order_payments_dataset.csv')\n",
    "orders=pd.read_csv('olist_orders_dataset.csv')\n",
    "coustomers=pd.read_csv('olist_customers_dataset.csv')"
   ]
  },
  {
   "cell_type": "code",
   "execution_count": 4,
   "metadata": {},
   "outputs": [
    {
     "data": {
      "text/html": [
       "<div>\n",
       "<style scoped>\n",
       "    .dataframe tbody tr th:only-of-type {\n",
       "        vertical-align: middle;\n",
       "    }\n",
       "\n",
       "    .dataframe tbody tr th {\n",
       "        vertical-align: top;\n",
       "    }\n",
       "\n",
       "    .dataframe thead th {\n",
       "        text-align: right;\n",
       "    }\n",
       "</style>\n",
       "<table border=\"1\" class=\"dataframe\">\n",
       "  <thead>\n",
       "    <tr style=\"text-align: right;\">\n",
       "      <th></th>\n",
       "      <th>review_id</th>\n",
       "      <th>order_id</th>\n",
       "      <th>review_score</th>\n",
       "      <th>review_comment_title</th>\n",
       "      <th>review_comment_message</th>\n",
       "      <th>review_creation_date</th>\n",
       "      <th>review_answer_timestamp</th>\n",
       "    </tr>\n",
       "  </thead>\n",
       "  <tbody>\n",
       "    <tr>\n",
       "      <th>0</th>\n",
       "      <td>7bc2406110b926393aa56f80a40eba40</td>\n",
       "      <td>73fc7af87114b39712e6da79b0a377eb</td>\n",
       "      <td>4</td>\n",
       "      <td>NaN</td>\n",
       "      <td>NaN</td>\n",
       "      <td>2018-01-18 00:00:00</td>\n",
       "      <td>2018-01-18 21:46:59</td>\n",
       "    </tr>\n",
       "    <tr>\n",
       "      <th>1</th>\n",
       "      <td>80e641a11e56f04c1ad469d5645fdfde</td>\n",
       "      <td>a548910a1c6147796b98fdf73dbeba33</td>\n",
       "      <td>5</td>\n",
       "      <td>NaN</td>\n",
       "      <td>NaN</td>\n",
       "      <td>2018-03-10 00:00:00</td>\n",
       "      <td>2018-03-11 03:05:13</td>\n",
       "    </tr>\n",
       "    <tr>\n",
       "      <th>2</th>\n",
       "      <td>228ce5500dc1d8e020d8d1322874b6f0</td>\n",
       "      <td>f9e4b658b201a9f2ecdecbb34bed034b</td>\n",
       "      <td>5</td>\n",
       "      <td>NaN</td>\n",
       "      <td>NaN</td>\n",
       "      <td>2018-02-17 00:00:00</td>\n",
       "      <td>2018-02-18 14:36:24</td>\n",
       "    </tr>\n",
       "    <tr>\n",
       "      <th>3</th>\n",
       "      <td>e64fb393e7b32834bb789ff8bb30750e</td>\n",
       "      <td>658677c97b385a9be170737859d3511b</td>\n",
       "      <td>5</td>\n",
       "      <td>NaN</td>\n",
       "      <td>Recebi bem antes do prazo estipulado.</td>\n",
       "      <td>2017-04-21 00:00:00</td>\n",
       "      <td>2017-04-21 22:02:06</td>\n",
       "    </tr>\n",
       "    <tr>\n",
       "      <th>4</th>\n",
       "      <td>f7c4243c7fe1938f181bec41a392bdeb</td>\n",
       "      <td>8e6bfb81e283fa7e4f11123a3fb894f1</td>\n",
       "      <td>5</td>\n",
       "      <td>NaN</td>\n",
       "      <td>Parabéns lojas lannister adorei comprar pela I...</td>\n",
       "      <td>2018-03-01 00:00:00</td>\n",
       "      <td>2018-03-02 10:26:53</td>\n",
       "    </tr>\n",
       "  </tbody>\n",
       "</table>\n",
       "</div>"
      ],
      "text/plain": [
       "                          review_id                          order_id  \\\n",
       "0  7bc2406110b926393aa56f80a40eba40  73fc7af87114b39712e6da79b0a377eb   \n",
       "1  80e641a11e56f04c1ad469d5645fdfde  a548910a1c6147796b98fdf73dbeba33   \n",
       "2  228ce5500dc1d8e020d8d1322874b6f0  f9e4b658b201a9f2ecdecbb34bed034b   \n",
       "3  e64fb393e7b32834bb789ff8bb30750e  658677c97b385a9be170737859d3511b   \n",
       "4  f7c4243c7fe1938f181bec41a392bdeb  8e6bfb81e283fa7e4f11123a3fb894f1   \n",
       "\n",
       "   review_score review_comment_title  \\\n",
       "0             4                  NaN   \n",
       "1             5                  NaN   \n",
       "2             5                  NaN   \n",
       "3             5                  NaN   \n",
       "4             5                  NaN   \n",
       "\n",
       "                              review_comment_message review_creation_date  \\\n",
       "0                                                NaN  2018-01-18 00:00:00   \n",
       "1                                                NaN  2018-03-10 00:00:00   \n",
       "2                                                NaN  2018-02-17 00:00:00   \n",
       "3              Recebi bem antes do prazo estipulado.  2017-04-21 00:00:00   \n",
       "4  Parabéns lojas lannister adorei comprar pela I...  2018-03-01 00:00:00   \n",
       "\n",
       "  review_answer_timestamp  \n",
       "0     2018-01-18 21:46:59  \n",
       "1     2018-03-11 03:05:13  \n",
       "2     2018-02-18 14:36:24  \n",
       "3     2017-04-21 22:02:06  \n",
       "4     2018-03-02 10:26:53  "
      ]
     },
     "execution_count": 4,
     "metadata": {},
     "output_type": "execute_result"
    }
   ],
   "source": [
    "reviews.head()"
   ]
  },
  {
   "cell_type": "code",
   "execution_count": 5,
   "metadata": {},
   "outputs": [
    {
     "data": {
      "text/plain": [
       "(100000, 7)"
      ]
     },
     "execution_count": 5,
     "metadata": {},
     "output_type": "execute_result"
    }
   ],
   "source": [
    "reviews.shape"
   ]
  },
  {
   "cell_type": "code",
   "execution_count": 7,
   "metadata": {},
   "outputs": [
    {
     "data": {
      "text/plain": [
       "array(['73fc7af87114b39712e6da79b0a377eb',\n",
       "       'a548910a1c6147796b98fdf73dbeba33',\n",
       "       'f9e4b658b201a9f2ecdecbb34bed034b', ...,\n",
       "       '7725825d039fc1f0ceb7635e3f7d9206',\n",
       "       'f8bd3f2000c28c5342fedeb5e50f2e75',\n",
       "       '90531360ecb1eec2a1fbb265a0db0508'], dtype=object)"
      ]
     },
     "execution_count": 7,
     "metadata": {},
     "output_type": "execute_result"
    }
   ],
   "source": [
    "reviews['order_id'].unique()"
   ]
  },
  {
   "cell_type": "code",
   "execution_count": 8,
   "metadata": {},
   "outputs": [
    {
     "data": {
      "text/html": [
       "<div>\n",
       "<style scoped>\n",
       "    .dataframe tbody tr th:only-of-type {\n",
       "        vertical-align: middle;\n",
       "    }\n",
       "\n",
       "    .dataframe tbody tr th {\n",
       "        vertical-align: top;\n",
       "    }\n",
       "\n",
       "    .dataframe thead th {\n",
       "        text-align: right;\n",
       "    }\n",
       "</style>\n",
       "<table border=\"1\" class=\"dataframe\">\n",
       "  <thead>\n",
       "    <tr style=\"text-align: right;\">\n",
       "      <th></th>\n",
       "      <th>order_id</th>\n",
       "      <th>payment_sequential</th>\n",
       "      <th>payment_type</th>\n",
       "      <th>payment_installments</th>\n",
       "      <th>payment_value</th>\n",
       "    </tr>\n",
       "  </thead>\n",
       "  <tbody>\n",
       "    <tr>\n",
       "      <th>0</th>\n",
       "      <td>b81ef226f3fe1789b1e8b2acac839d17</td>\n",
       "      <td>1</td>\n",
       "      <td>credit_card</td>\n",
       "      <td>8</td>\n",
       "      <td>99.33</td>\n",
       "    </tr>\n",
       "    <tr>\n",
       "      <th>1</th>\n",
       "      <td>a9810da82917af2d9aefd1278f1dcfa0</td>\n",
       "      <td>1</td>\n",
       "      <td>credit_card</td>\n",
       "      <td>1</td>\n",
       "      <td>24.39</td>\n",
       "    </tr>\n",
       "    <tr>\n",
       "      <th>2</th>\n",
       "      <td>25e8ea4e93396b6fa0d3dd708e76c1bd</td>\n",
       "      <td>1</td>\n",
       "      <td>credit_card</td>\n",
       "      <td>1</td>\n",
       "      <td>65.71</td>\n",
       "    </tr>\n",
       "    <tr>\n",
       "      <th>3</th>\n",
       "      <td>ba78997921bbcdc1373bb41e913ab953</td>\n",
       "      <td>1</td>\n",
       "      <td>credit_card</td>\n",
       "      <td>8</td>\n",
       "      <td>107.78</td>\n",
       "    </tr>\n",
       "    <tr>\n",
       "      <th>4</th>\n",
       "      <td>42fdf880ba16b47b59251dd489d4441a</td>\n",
       "      <td>1</td>\n",
       "      <td>credit_card</td>\n",
       "      <td>2</td>\n",
       "      <td>128.45</td>\n",
       "    </tr>\n",
       "  </tbody>\n",
       "</table>\n",
       "</div>"
      ],
      "text/plain": [
       "                           order_id  payment_sequential payment_type  \\\n",
       "0  b81ef226f3fe1789b1e8b2acac839d17                   1  credit_card   \n",
       "1  a9810da82917af2d9aefd1278f1dcfa0                   1  credit_card   \n",
       "2  25e8ea4e93396b6fa0d3dd708e76c1bd                   1  credit_card   \n",
       "3  ba78997921bbcdc1373bb41e913ab953                   1  credit_card   \n",
       "4  42fdf880ba16b47b59251dd489d4441a                   1  credit_card   \n",
       "\n",
       "   payment_installments  payment_value  \n",
       "0                     8          99.33  \n",
       "1                     1          24.39  \n",
       "2                     1          65.71  \n",
       "3                     8         107.78  \n",
       "4                     2         128.45  "
      ]
     },
     "execution_count": 8,
     "metadata": {},
     "output_type": "execute_result"
    }
   ],
   "source": [
    "payments.head()"
   ]
  },
  {
   "cell_type": "code",
   "execution_count": 9,
   "metadata": {},
   "outputs": [
    {
     "data": {
      "text/html": [
       "<div>\n",
       "<style scoped>\n",
       "    .dataframe tbody tr th:only-of-type {\n",
       "        vertical-align: middle;\n",
       "    }\n",
       "\n",
       "    .dataframe tbody tr th {\n",
       "        vertical-align: top;\n",
       "    }\n",
       "\n",
       "    .dataframe thead th {\n",
       "        text-align: right;\n",
       "    }\n",
       "</style>\n",
       "<table border=\"1\" class=\"dataframe\">\n",
       "  <thead>\n",
       "    <tr style=\"text-align: right;\">\n",
       "      <th></th>\n",
       "      <th>order_id</th>\n",
       "      <th>customer_id</th>\n",
       "      <th>order_status</th>\n",
       "      <th>order_purchase_timestamp</th>\n",
       "      <th>order_approved_at</th>\n",
       "      <th>order_delivered_carrier_date</th>\n",
       "      <th>order_delivered_customer_date</th>\n",
       "      <th>order_estimated_delivery_date</th>\n",
       "    </tr>\n",
       "  </thead>\n",
       "  <tbody>\n",
       "    <tr>\n",
       "      <th>0</th>\n",
       "      <td>e481f51cbdc54678b7cc49136f2d6af7</td>\n",
       "      <td>9ef432eb6251297304e76186b10a928d</td>\n",
       "      <td>delivered</td>\n",
       "      <td>2017-10-02 10:56:33</td>\n",
       "      <td>2017-10-02 11:07:15</td>\n",
       "      <td>2017-10-04 19:55:00</td>\n",
       "      <td>2017-10-10 21:25:13</td>\n",
       "      <td>2017-10-18 00:00:00</td>\n",
       "    </tr>\n",
       "    <tr>\n",
       "      <th>1</th>\n",
       "      <td>53cdb2fc8bc7dce0b6741e2150273451</td>\n",
       "      <td>b0830fb4747a6c6d20dea0b8c802d7ef</td>\n",
       "      <td>delivered</td>\n",
       "      <td>2018-07-24 20:41:37</td>\n",
       "      <td>2018-07-26 03:24:27</td>\n",
       "      <td>2018-07-26 14:31:00</td>\n",
       "      <td>2018-08-07 15:27:45</td>\n",
       "      <td>2018-08-13 00:00:00</td>\n",
       "    </tr>\n",
       "    <tr>\n",
       "      <th>2</th>\n",
       "      <td>47770eb9100c2d0c44946d9cf07ec65d</td>\n",
       "      <td>41ce2a54c0b03bf3443c3d931a367089</td>\n",
       "      <td>delivered</td>\n",
       "      <td>2018-08-08 08:38:49</td>\n",
       "      <td>2018-08-08 08:55:23</td>\n",
       "      <td>2018-08-08 13:50:00</td>\n",
       "      <td>2018-08-17 18:06:29</td>\n",
       "      <td>2018-09-04 00:00:00</td>\n",
       "    </tr>\n",
       "    <tr>\n",
       "      <th>3</th>\n",
       "      <td>949d5b44dbf5de918fe9c16f97b45f8a</td>\n",
       "      <td>f88197465ea7920adcdbec7375364d82</td>\n",
       "      <td>delivered</td>\n",
       "      <td>2017-11-18 19:28:06</td>\n",
       "      <td>2017-11-18 19:45:59</td>\n",
       "      <td>2017-11-22 13:39:59</td>\n",
       "      <td>2017-12-02 00:28:42</td>\n",
       "      <td>2017-12-15 00:00:00</td>\n",
       "    </tr>\n",
       "    <tr>\n",
       "      <th>4</th>\n",
       "      <td>ad21c59c0840e6cb83a9ceb5573f8159</td>\n",
       "      <td>8ab97904e6daea8866dbdbc4fb7aad2c</td>\n",
       "      <td>delivered</td>\n",
       "      <td>2018-02-13 21:18:39</td>\n",
       "      <td>2018-02-13 22:20:29</td>\n",
       "      <td>2018-02-14 19:46:34</td>\n",
       "      <td>2018-02-16 18:17:02</td>\n",
       "      <td>2018-02-26 00:00:00</td>\n",
       "    </tr>\n",
       "  </tbody>\n",
       "</table>\n",
       "</div>"
      ],
      "text/plain": [
       "                           order_id                       customer_id  \\\n",
       "0  e481f51cbdc54678b7cc49136f2d6af7  9ef432eb6251297304e76186b10a928d   \n",
       "1  53cdb2fc8bc7dce0b6741e2150273451  b0830fb4747a6c6d20dea0b8c802d7ef   \n",
       "2  47770eb9100c2d0c44946d9cf07ec65d  41ce2a54c0b03bf3443c3d931a367089   \n",
       "3  949d5b44dbf5de918fe9c16f97b45f8a  f88197465ea7920adcdbec7375364d82   \n",
       "4  ad21c59c0840e6cb83a9ceb5573f8159  8ab97904e6daea8866dbdbc4fb7aad2c   \n",
       "\n",
       "  order_status order_purchase_timestamp    order_approved_at  \\\n",
       "0    delivered      2017-10-02 10:56:33  2017-10-02 11:07:15   \n",
       "1    delivered      2018-07-24 20:41:37  2018-07-26 03:24:27   \n",
       "2    delivered      2018-08-08 08:38:49  2018-08-08 08:55:23   \n",
       "3    delivered      2017-11-18 19:28:06  2017-11-18 19:45:59   \n",
       "4    delivered      2018-02-13 21:18:39  2018-02-13 22:20:29   \n",
       "\n",
       "  order_delivered_carrier_date order_delivered_customer_date  \\\n",
       "0          2017-10-04 19:55:00           2017-10-10 21:25:13   \n",
       "1          2018-07-26 14:31:00           2018-08-07 15:27:45   \n",
       "2          2018-08-08 13:50:00           2018-08-17 18:06:29   \n",
       "3          2017-11-22 13:39:59           2017-12-02 00:28:42   \n",
       "4          2018-02-14 19:46:34           2018-02-16 18:17:02   \n",
       "\n",
       "  order_estimated_delivery_date  \n",
       "0           2017-10-18 00:00:00  \n",
       "1           2018-08-13 00:00:00  \n",
       "2           2018-09-04 00:00:00  \n",
       "3           2017-12-15 00:00:00  \n",
       "4           2018-02-26 00:00:00  "
      ]
     },
     "execution_count": 9,
     "metadata": {},
     "output_type": "execute_result"
    }
   ],
   "source": [
    "orders.head()"
   ]
  },
  {
   "cell_type": "code",
   "execution_count": 10,
   "metadata": {},
   "outputs": [
    {
     "data": {
      "text/plain": [
       "(99441, 8)"
      ]
     },
     "execution_count": 10,
     "metadata": {},
     "output_type": "execute_result"
    }
   ],
   "source": [
    "orders.shape"
   ]
  },
  {
   "cell_type": "code",
   "execution_count": 11,
   "metadata": {},
   "outputs": [
    {
     "data": {
      "text/html": [
       "<div>\n",
       "<style scoped>\n",
       "    .dataframe tbody tr th:only-of-type {\n",
       "        vertical-align: middle;\n",
       "    }\n",
       "\n",
       "    .dataframe tbody tr th {\n",
       "        vertical-align: top;\n",
       "    }\n",
       "\n",
       "    .dataframe thead th {\n",
       "        text-align: right;\n",
       "    }\n",
       "</style>\n",
       "<table border=\"1\" class=\"dataframe\">\n",
       "  <thead>\n",
       "    <tr style=\"text-align: right;\">\n",
       "      <th></th>\n",
       "      <th>customer_id</th>\n",
       "      <th>customer_unique_id</th>\n",
       "      <th>customer_zip_code_prefix</th>\n",
       "      <th>customer_city</th>\n",
       "      <th>customer_state</th>\n",
       "    </tr>\n",
       "  </thead>\n",
       "  <tbody>\n",
       "    <tr>\n",
       "      <th>0</th>\n",
       "      <td>06b8999e2fba1a1fbc88172c00ba8bc7</td>\n",
       "      <td>861eff4711a542e4b93843c6dd7febb0</td>\n",
       "      <td>14409</td>\n",
       "      <td>franca</td>\n",
       "      <td>SP</td>\n",
       "    </tr>\n",
       "    <tr>\n",
       "      <th>1</th>\n",
       "      <td>18955e83d337fd6b2def6b18a428ac77</td>\n",
       "      <td>290c77bc529b7ac935b93aa66c333dc3</td>\n",
       "      <td>9790</td>\n",
       "      <td>sao bernardo do campo</td>\n",
       "      <td>SP</td>\n",
       "    </tr>\n",
       "    <tr>\n",
       "      <th>2</th>\n",
       "      <td>4e7b3e00288586ebd08712fdd0374a03</td>\n",
       "      <td>060e732b5b29e8181a18229c7b0b2b5e</td>\n",
       "      <td>1151</td>\n",
       "      <td>sao paulo</td>\n",
       "      <td>SP</td>\n",
       "    </tr>\n",
       "    <tr>\n",
       "      <th>3</th>\n",
       "      <td>b2b6027bc5c5109e529d4dc6358b12c3</td>\n",
       "      <td>259dac757896d24d7702b9acbbff3f3c</td>\n",
       "      <td>8775</td>\n",
       "      <td>mogi das cruzes</td>\n",
       "      <td>SP</td>\n",
       "    </tr>\n",
       "    <tr>\n",
       "      <th>4</th>\n",
       "      <td>4f2d8ab171c80ec8364f7c12e35b23ad</td>\n",
       "      <td>345ecd01c38d18a9036ed96c73b8d066</td>\n",
       "      <td>13056</td>\n",
       "      <td>campinas</td>\n",
       "      <td>SP</td>\n",
       "    </tr>\n",
       "  </tbody>\n",
       "</table>\n",
       "</div>"
      ],
      "text/plain": [
       "                        customer_id                customer_unique_id  \\\n",
       "0  06b8999e2fba1a1fbc88172c00ba8bc7  861eff4711a542e4b93843c6dd7febb0   \n",
       "1  18955e83d337fd6b2def6b18a428ac77  290c77bc529b7ac935b93aa66c333dc3   \n",
       "2  4e7b3e00288586ebd08712fdd0374a03  060e732b5b29e8181a18229c7b0b2b5e   \n",
       "3  b2b6027bc5c5109e529d4dc6358b12c3  259dac757896d24d7702b9acbbff3f3c   \n",
       "4  4f2d8ab171c80ec8364f7c12e35b23ad  345ecd01c38d18a9036ed96c73b8d066   \n",
       "\n",
       "   customer_zip_code_prefix          customer_city customer_state  \n",
       "0                     14409                 franca             SP  \n",
       "1                      9790  sao bernardo do campo             SP  \n",
       "2                      1151              sao paulo             SP  \n",
       "3                      8775        mogi das cruzes             SP  \n",
       "4                     13056               campinas             SP  "
      ]
     },
     "execution_count": 11,
     "metadata": {},
     "output_type": "execute_result"
    }
   ],
   "source": [
    "coustomers.head()"
   ]
  },
  {
   "cell_type": "code",
   "execution_count": 12,
   "metadata": {},
   "outputs": [],
   "source": [
    "reviews_orders=reviews.merge(orders,on='order_id')"
   ]
  },
  {
   "cell_type": "code",
   "execution_count": 13,
   "metadata": {},
   "outputs": [
    {
     "data": {
      "text/plain": [
       "(100000, 14)"
      ]
     },
     "execution_count": 13,
     "metadata": {},
     "output_type": "execute_result"
    }
   ],
   "source": [
    "reviews_orders.shape"
   ]
  },
  {
   "cell_type": "code",
   "execution_count": 14,
   "metadata": {},
   "outputs": [
    {
     "data": {
      "text/plain": [
       "(103886, 5)"
      ]
     },
     "execution_count": 14,
     "metadata": {},
     "output_type": "execute_result"
    }
   ],
   "source": [
    "payments.shape"
   ]
  },
  {
   "cell_type": "code",
   "execution_count": 15,
   "metadata": {},
   "outputs": [
    {
     "data": {
      "text/html": [
       "<div>\n",
       "<style scoped>\n",
       "    .dataframe tbody tr th:only-of-type {\n",
       "        vertical-align: middle;\n",
       "    }\n",
       "\n",
       "    .dataframe tbody tr th {\n",
       "        vertical-align: top;\n",
       "    }\n",
       "\n",
       "    .dataframe thead th {\n",
       "        text-align: right;\n",
       "    }\n",
       "</style>\n",
       "<table border=\"1\" class=\"dataframe\">\n",
       "  <thead>\n",
       "    <tr style=\"text-align: right;\">\n",
       "      <th></th>\n",
       "      <th>order_id</th>\n",
       "      <th>payment_sequential</th>\n",
       "      <th>payment_type</th>\n",
       "      <th>payment_installments</th>\n",
       "      <th>payment_value</th>\n",
       "    </tr>\n",
       "  </thead>\n",
       "  <tbody>\n",
       "    <tr>\n",
       "      <th>0</th>\n",
       "      <td>b81ef226f3fe1789b1e8b2acac839d17</td>\n",
       "      <td>1</td>\n",
       "      <td>credit_card</td>\n",
       "      <td>8</td>\n",
       "      <td>99.33</td>\n",
       "    </tr>\n",
       "    <tr>\n",
       "      <th>1</th>\n",
       "      <td>a9810da82917af2d9aefd1278f1dcfa0</td>\n",
       "      <td>1</td>\n",
       "      <td>credit_card</td>\n",
       "      <td>1</td>\n",
       "      <td>24.39</td>\n",
       "    </tr>\n",
       "    <tr>\n",
       "      <th>2</th>\n",
       "      <td>25e8ea4e93396b6fa0d3dd708e76c1bd</td>\n",
       "      <td>1</td>\n",
       "      <td>credit_card</td>\n",
       "      <td>1</td>\n",
       "      <td>65.71</td>\n",
       "    </tr>\n",
       "    <tr>\n",
       "      <th>3</th>\n",
       "      <td>ba78997921bbcdc1373bb41e913ab953</td>\n",
       "      <td>1</td>\n",
       "      <td>credit_card</td>\n",
       "      <td>8</td>\n",
       "      <td>107.78</td>\n",
       "    </tr>\n",
       "    <tr>\n",
       "      <th>4</th>\n",
       "      <td>42fdf880ba16b47b59251dd489d4441a</td>\n",
       "      <td>1</td>\n",
       "      <td>credit_card</td>\n",
       "      <td>2</td>\n",
       "      <td>128.45</td>\n",
       "    </tr>\n",
       "  </tbody>\n",
       "</table>\n",
       "</div>"
      ],
      "text/plain": [
       "                           order_id  payment_sequential payment_type  \\\n",
       "0  b81ef226f3fe1789b1e8b2acac839d17                   1  credit_card   \n",
       "1  a9810da82917af2d9aefd1278f1dcfa0                   1  credit_card   \n",
       "2  25e8ea4e93396b6fa0d3dd708e76c1bd                   1  credit_card   \n",
       "3  ba78997921bbcdc1373bb41e913ab953                   1  credit_card   \n",
       "4  42fdf880ba16b47b59251dd489d4441a                   1  credit_card   \n",
       "\n",
       "   payment_installments  payment_value  \n",
       "0                     8          99.33  \n",
       "1                     1          24.39  \n",
       "2                     1          65.71  \n",
       "3                     8         107.78  \n",
       "4                     2         128.45  "
      ]
     },
     "execution_count": 15,
     "metadata": {},
     "output_type": "execute_result"
    }
   ],
   "source": [
    "payments.head()"
   ]
  },
  {
   "cell_type": "code",
   "execution_count": 16,
   "metadata": {},
   "outputs": [],
   "source": [
    "reviews_orders_payment=reviews_orders.merge(payments,on='order_id')"
   ]
  },
  {
   "cell_type": "code",
   "execution_count": 17,
   "metadata": {},
   "outputs": [
    {
     "data": {
      "text/plain": [
       "(104485, 18)"
      ]
     },
     "execution_count": 17,
     "metadata": {},
     "output_type": "execute_result"
    }
   ],
   "source": [
    "reviews_orders_payment.shape"
   ]
  },
  {
   "cell_type": "code",
   "execution_count": 18,
   "metadata": {},
   "outputs": [
    {
     "data": {
      "text/html": [
       "<div>\n",
       "<style scoped>\n",
       "    .dataframe tbody tr th:only-of-type {\n",
       "        vertical-align: middle;\n",
       "    }\n",
       "\n",
       "    .dataframe tbody tr th {\n",
       "        vertical-align: top;\n",
       "    }\n",
       "\n",
       "    .dataframe thead th {\n",
       "        text-align: right;\n",
       "    }\n",
       "</style>\n",
       "<table border=\"1\" class=\"dataframe\">\n",
       "  <thead>\n",
       "    <tr style=\"text-align: right;\">\n",
       "      <th></th>\n",
       "      <th>review_id</th>\n",
       "      <th>order_id</th>\n",
       "      <th>review_score</th>\n",
       "      <th>review_comment_title</th>\n",
       "      <th>review_comment_message</th>\n",
       "      <th>review_creation_date</th>\n",
       "      <th>review_answer_timestamp</th>\n",
       "      <th>customer_id</th>\n",
       "      <th>order_status</th>\n",
       "      <th>order_purchase_timestamp</th>\n",
       "      <th>order_approved_at</th>\n",
       "      <th>order_delivered_carrier_date</th>\n",
       "      <th>order_delivered_customer_date</th>\n",
       "      <th>order_estimated_delivery_date</th>\n",
       "      <th>payment_sequential</th>\n",
       "      <th>payment_type</th>\n",
       "      <th>payment_installments</th>\n",
       "      <th>payment_value</th>\n",
       "    </tr>\n",
       "  </thead>\n",
       "  <tbody>\n",
       "    <tr>\n",
       "      <th>0</th>\n",
       "      <td>7bc2406110b926393aa56f80a40eba40</td>\n",
       "      <td>73fc7af87114b39712e6da79b0a377eb</td>\n",
       "      <td>4</td>\n",
       "      <td>NaN</td>\n",
       "      <td>NaN</td>\n",
       "      <td>2018-01-18 00:00:00</td>\n",
       "      <td>2018-01-18 21:46:59</td>\n",
       "      <td>41dcb106f807e993532d446263290104</td>\n",
       "      <td>delivered</td>\n",
       "      <td>2018-01-11 15:30:49</td>\n",
       "      <td>2018-01-11 15:47:59</td>\n",
       "      <td>2018-01-12 21:57:22</td>\n",
       "      <td>2018-01-17 18:42:41</td>\n",
       "      <td>2018-02-02 00:00:00</td>\n",
       "      <td>1</td>\n",
       "      <td>credit_card</td>\n",
       "      <td>8</td>\n",
       "      <td>397.26</td>\n",
       "    </tr>\n",
       "    <tr>\n",
       "      <th>1</th>\n",
       "      <td>80e641a11e56f04c1ad469d5645fdfde</td>\n",
       "      <td>a548910a1c6147796b98fdf73dbeba33</td>\n",
       "      <td>5</td>\n",
       "      <td>NaN</td>\n",
       "      <td>NaN</td>\n",
       "      <td>2018-03-10 00:00:00</td>\n",
       "      <td>2018-03-11 03:05:13</td>\n",
       "      <td>8a2e7ef9053dea531e4dc76bd6d853e6</td>\n",
       "      <td>delivered</td>\n",
       "      <td>2018-02-28 12:25:19</td>\n",
       "      <td>2018-02-28 12:48:39</td>\n",
       "      <td>2018-03-02 19:08:15</td>\n",
       "      <td>2018-03-09 23:17:20</td>\n",
       "      <td>2018-03-14 00:00:00</td>\n",
       "      <td>1</td>\n",
       "      <td>credit_card</td>\n",
       "      <td>1</td>\n",
       "      <td>88.09</td>\n",
       "    </tr>\n",
       "    <tr>\n",
       "      <th>2</th>\n",
       "      <td>228ce5500dc1d8e020d8d1322874b6f0</td>\n",
       "      <td>f9e4b658b201a9f2ecdecbb34bed034b</td>\n",
       "      <td>5</td>\n",
       "      <td>NaN</td>\n",
       "      <td>NaN</td>\n",
       "      <td>2018-02-17 00:00:00</td>\n",
       "      <td>2018-02-18 14:36:24</td>\n",
       "      <td>e226dfed6544df5b7b87a48208690feb</td>\n",
       "      <td>delivered</td>\n",
       "      <td>2018-02-03 09:56:22</td>\n",
       "      <td>2018-02-03 10:33:41</td>\n",
       "      <td>2018-02-06 16:18:28</td>\n",
       "      <td>2018-02-16 17:28:48</td>\n",
       "      <td>2018-03-09 00:00:00</td>\n",
       "      <td>1</td>\n",
       "      <td>credit_card</td>\n",
       "      <td>1</td>\n",
       "      <td>194.12</td>\n",
       "    </tr>\n",
       "    <tr>\n",
       "      <th>3</th>\n",
       "      <td>e64fb393e7b32834bb789ff8bb30750e</td>\n",
       "      <td>658677c97b385a9be170737859d3511b</td>\n",
       "      <td>5</td>\n",
       "      <td>NaN</td>\n",
       "      <td>Recebi bem antes do prazo estipulado.</td>\n",
       "      <td>2017-04-21 00:00:00</td>\n",
       "      <td>2017-04-21 22:02:06</td>\n",
       "      <td>de6dff97e5f1ba84a3cd9a3bc97df5f6</td>\n",
       "      <td>delivered</td>\n",
       "      <td>2017-04-09 17:41:13</td>\n",
       "      <td>2017-04-09 17:55:19</td>\n",
       "      <td>2017-04-10 14:24:47</td>\n",
       "      <td>2017-04-20 09:08:35</td>\n",
       "      <td>2017-05-10 00:00:00</td>\n",
       "      <td>1</td>\n",
       "      <td>credit_card</td>\n",
       "      <td>1</td>\n",
       "      <td>222.84</td>\n",
       "    </tr>\n",
       "    <tr>\n",
       "      <th>4</th>\n",
       "      <td>f7c4243c7fe1938f181bec41a392bdeb</td>\n",
       "      <td>8e6bfb81e283fa7e4f11123a3fb894f1</td>\n",
       "      <td>5</td>\n",
       "      <td>NaN</td>\n",
       "      <td>Parabéns lojas lannister adorei comprar pela I...</td>\n",
       "      <td>2018-03-01 00:00:00</td>\n",
       "      <td>2018-03-02 10:26:53</td>\n",
       "      <td>5986b333ca0d44534a156a52a8e33a83</td>\n",
       "      <td>delivered</td>\n",
       "      <td>2018-02-10 10:59:03</td>\n",
       "      <td>2018-02-10 15:48:21</td>\n",
       "      <td>2018-02-15 19:36:14</td>\n",
       "      <td>2018-02-28 16:33:35</td>\n",
       "      <td>2018-03-09 00:00:00</td>\n",
       "      <td>1</td>\n",
       "      <td>credit_card</td>\n",
       "      <td>10</td>\n",
       "      <td>1333.25</td>\n",
       "    </tr>\n",
       "  </tbody>\n",
       "</table>\n",
       "</div>"
      ],
      "text/plain": [
       "                          review_id                          order_id  \\\n",
       "0  7bc2406110b926393aa56f80a40eba40  73fc7af87114b39712e6da79b0a377eb   \n",
       "1  80e641a11e56f04c1ad469d5645fdfde  a548910a1c6147796b98fdf73dbeba33   \n",
       "2  228ce5500dc1d8e020d8d1322874b6f0  f9e4b658b201a9f2ecdecbb34bed034b   \n",
       "3  e64fb393e7b32834bb789ff8bb30750e  658677c97b385a9be170737859d3511b   \n",
       "4  f7c4243c7fe1938f181bec41a392bdeb  8e6bfb81e283fa7e4f11123a3fb894f1   \n",
       "\n",
       "   review_score review_comment_title  \\\n",
       "0             4                  NaN   \n",
       "1             5                  NaN   \n",
       "2             5                  NaN   \n",
       "3             5                  NaN   \n",
       "4             5                  NaN   \n",
       "\n",
       "                              review_comment_message review_creation_date  \\\n",
       "0                                                NaN  2018-01-18 00:00:00   \n",
       "1                                                NaN  2018-03-10 00:00:00   \n",
       "2                                                NaN  2018-02-17 00:00:00   \n",
       "3              Recebi bem antes do prazo estipulado.  2017-04-21 00:00:00   \n",
       "4  Parabéns lojas lannister adorei comprar pela I...  2018-03-01 00:00:00   \n",
       "\n",
       "  review_answer_timestamp                       customer_id order_status  \\\n",
       "0     2018-01-18 21:46:59  41dcb106f807e993532d446263290104    delivered   \n",
       "1     2018-03-11 03:05:13  8a2e7ef9053dea531e4dc76bd6d853e6    delivered   \n",
       "2     2018-02-18 14:36:24  e226dfed6544df5b7b87a48208690feb    delivered   \n",
       "3     2017-04-21 22:02:06  de6dff97e5f1ba84a3cd9a3bc97df5f6    delivered   \n",
       "4     2018-03-02 10:26:53  5986b333ca0d44534a156a52a8e33a83    delivered   \n",
       "\n",
       "  order_purchase_timestamp    order_approved_at order_delivered_carrier_date  \\\n",
       "0      2018-01-11 15:30:49  2018-01-11 15:47:59          2018-01-12 21:57:22   \n",
       "1      2018-02-28 12:25:19  2018-02-28 12:48:39          2018-03-02 19:08:15   \n",
       "2      2018-02-03 09:56:22  2018-02-03 10:33:41          2018-02-06 16:18:28   \n",
       "3      2017-04-09 17:41:13  2017-04-09 17:55:19          2017-04-10 14:24:47   \n",
       "4      2018-02-10 10:59:03  2018-02-10 15:48:21          2018-02-15 19:36:14   \n",
       "\n",
       "  order_delivered_customer_date order_estimated_delivery_date  \\\n",
       "0           2018-01-17 18:42:41           2018-02-02 00:00:00   \n",
       "1           2018-03-09 23:17:20           2018-03-14 00:00:00   \n",
       "2           2018-02-16 17:28:48           2018-03-09 00:00:00   \n",
       "3           2017-04-20 09:08:35           2017-05-10 00:00:00   \n",
       "4           2018-02-28 16:33:35           2018-03-09 00:00:00   \n",
       "\n",
       "   payment_sequential payment_type  payment_installments  payment_value  \n",
       "0                   1  credit_card                     8         397.26  \n",
       "1                   1  credit_card                     1          88.09  \n",
       "2                   1  credit_card                     1         194.12  \n",
       "3                   1  credit_card                     1         222.84  \n",
       "4                   1  credit_card                    10        1333.25  "
      ]
     },
     "execution_count": 18,
     "metadata": {},
     "output_type": "execute_result"
    }
   ],
   "source": [
    "reviews_orders_payment.head()"
   ]
  },
  {
   "cell_type": "code",
   "execution_count": 19,
   "metadata": {},
   "outputs": [],
   "source": [
    "reviews_orders_payment_coustomer=reviews_orders_payment.merge(coustomers,on='customer_id')"
   ]
  },
  {
   "cell_type": "code",
   "execution_count": 20,
   "metadata": {},
   "outputs": [
    {
     "data": {
      "text/html": [
       "<div>\n",
       "<style scoped>\n",
       "    .dataframe tbody tr th:only-of-type {\n",
       "        vertical-align: middle;\n",
       "    }\n",
       "\n",
       "    .dataframe tbody tr th {\n",
       "        vertical-align: top;\n",
       "    }\n",
       "\n",
       "    .dataframe thead th {\n",
       "        text-align: right;\n",
       "    }\n",
       "</style>\n",
       "<table border=\"1\" class=\"dataframe\">\n",
       "  <thead>\n",
       "    <tr style=\"text-align: right;\">\n",
       "      <th></th>\n",
       "      <th>review_id</th>\n",
       "      <th>order_id</th>\n",
       "      <th>review_score</th>\n",
       "      <th>review_comment_title</th>\n",
       "      <th>review_comment_message</th>\n",
       "      <th>review_creation_date</th>\n",
       "      <th>review_answer_timestamp</th>\n",
       "      <th>customer_id</th>\n",
       "      <th>order_status</th>\n",
       "      <th>order_purchase_timestamp</th>\n",
       "      <th>...</th>\n",
       "      <th>order_delivered_customer_date</th>\n",
       "      <th>order_estimated_delivery_date</th>\n",
       "      <th>payment_sequential</th>\n",
       "      <th>payment_type</th>\n",
       "      <th>payment_installments</th>\n",
       "      <th>payment_value</th>\n",
       "      <th>customer_unique_id</th>\n",
       "      <th>customer_zip_code_prefix</th>\n",
       "      <th>customer_city</th>\n",
       "      <th>customer_state</th>\n",
       "    </tr>\n",
       "  </thead>\n",
       "  <tbody>\n",
       "    <tr>\n",
       "      <th>0</th>\n",
       "      <td>7bc2406110b926393aa56f80a40eba40</td>\n",
       "      <td>73fc7af87114b39712e6da79b0a377eb</td>\n",
       "      <td>4</td>\n",
       "      <td>NaN</td>\n",
       "      <td>NaN</td>\n",
       "      <td>2018-01-18 00:00:00</td>\n",
       "      <td>2018-01-18 21:46:59</td>\n",
       "      <td>41dcb106f807e993532d446263290104</td>\n",
       "      <td>delivered</td>\n",
       "      <td>2018-01-11 15:30:49</td>\n",
       "      <td>...</td>\n",
       "      <td>2018-01-17 18:42:41</td>\n",
       "      <td>2018-02-02 00:00:00</td>\n",
       "      <td>1</td>\n",
       "      <td>credit_card</td>\n",
       "      <td>8</td>\n",
       "      <td>397.26</td>\n",
       "      <td>68a5590b9926689be4e10f4ae2db21a8</td>\n",
       "      <td>6030</td>\n",
       "      <td>osasco</td>\n",
       "      <td>SP</td>\n",
       "    </tr>\n",
       "    <tr>\n",
       "      <th>1</th>\n",
       "      <td>80e641a11e56f04c1ad469d5645fdfde</td>\n",
       "      <td>a548910a1c6147796b98fdf73dbeba33</td>\n",
       "      <td>5</td>\n",
       "      <td>NaN</td>\n",
       "      <td>NaN</td>\n",
       "      <td>2018-03-10 00:00:00</td>\n",
       "      <td>2018-03-11 03:05:13</td>\n",
       "      <td>8a2e7ef9053dea531e4dc76bd6d853e6</td>\n",
       "      <td>delivered</td>\n",
       "      <td>2018-02-28 12:25:19</td>\n",
       "      <td>...</td>\n",
       "      <td>2018-03-09 23:17:20</td>\n",
       "      <td>2018-03-14 00:00:00</td>\n",
       "      <td>1</td>\n",
       "      <td>credit_card</td>\n",
       "      <td>1</td>\n",
       "      <td>88.09</td>\n",
       "      <td>64190b91b656ab8f37eb89b93dc84584</td>\n",
       "      <td>13380</td>\n",
       "      <td>nova odessa</td>\n",
       "      <td>SP</td>\n",
       "    </tr>\n",
       "    <tr>\n",
       "      <th>2</th>\n",
       "      <td>228ce5500dc1d8e020d8d1322874b6f0</td>\n",
       "      <td>f9e4b658b201a9f2ecdecbb34bed034b</td>\n",
       "      <td>5</td>\n",
       "      <td>NaN</td>\n",
       "      <td>NaN</td>\n",
       "      <td>2018-02-17 00:00:00</td>\n",
       "      <td>2018-02-18 14:36:24</td>\n",
       "      <td>e226dfed6544df5b7b87a48208690feb</td>\n",
       "      <td>delivered</td>\n",
       "      <td>2018-02-03 09:56:22</td>\n",
       "      <td>...</td>\n",
       "      <td>2018-02-16 17:28:48</td>\n",
       "      <td>2018-03-09 00:00:00</td>\n",
       "      <td>1</td>\n",
       "      <td>credit_card</td>\n",
       "      <td>1</td>\n",
       "      <td>194.12</td>\n",
       "      <td>1d47144362c14e94ccdd213e8ec277d5</td>\n",
       "      <td>44571</td>\n",
       "      <td>santo antonio de jesus</td>\n",
       "      <td>BA</td>\n",
       "    </tr>\n",
       "    <tr>\n",
       "      <th>3</th>\n",
       "      <td>e64fb393e7b32834bb789ff8bb30750e</td>\n",
       "      <td>658677c97b385a9be170737859d3511b</td>\n",
       "      <td>5</td>\n",
       "      <td>NaN</td>\n",
       "      <td>Recebi bem antes do prazo estipulado.</td>\n",
       "      <td>2017-04-21 00:00:00</td>\n",
       "      <td>2017-04-21 22:02:06</td>\n",
       "      <td>de6dff97e5f1ba84a3cd9a3bc97df5f6</td>\n",
       "      <td>delivered</td>\n",
       "      <td>2017-04-09 17:41:13</td>\n",
       "      <td>...</td>\n",
       "      <td>2017-04-20 09:08:35</td>\n",
       "      <td>2017-05-10 00:00:00</td>\n",
       "      <td>1</td>\n",
       "      <td>credit_card</td>\n",
       "      <td>1</td>\n",
       "      <td>222.84</td>\n",
       "      <td>c8cf6cb6b838dc7a33ed199b825e8616</td>\n",
       "      <td>88735</td>\n",
       "      <td>gravatal</td>\n",
       "      <td>SC</td>\n",
       "    </tr>\n",
       "    <tr>\n",
       "      <th>4</th>\n",
       "      <td>f7c4243c7fe1938f181bec41a392bdeb</td>\n",
       "      <td>8e6bfb81e283fa7e4f11123a3fb894f1</td>\n",
       "      <td>5</td>\n",
       "      <td>NaN</td>\n",
       "      <td>Parabéns lojas lannister adorei comprar pela I...</td>\n",
       "      <td>2018-03-01 00:00:00</td>\n",
       "      <td>2018-03-02 10:26:53</td>\n",
       "      <td>5986b333ca0d44534a156a52a8e33a83</td>\n",
       "      <td>delivered</td>\n",
       "      <td>2018-02-10 10:59:03</td>\n",
       "      <td>...</td>\n",
       "      <td>2018-02-28 16:33:35</td>\n",
       "      <td>2018-03-09 00:00:00</td>\n",
       "      <td>1</td>\n",
       "      <td>credit_card</td>\n",
       "      <td>10</td>\n",
       "      <td>1333.25</td>\n",
       "      <td>d16000272660a1fef81482ad75ba572a</td>\n",
       "      <td>89520</td>\n",
       "      <td>curitibanos</td>\n",
       "      <td>SC</td>\n",
       "    </tr>\n",
       "  </tbody>\n",
       "</table>\n",
       "<p>5 rows × 22 columns</p>\n",
       "</div>"
      ],
      "text/plain": [
       "                          review_id                          order_id  \\\n",
       "0  7bc2406110b926393aa56f80a40eba40  73fc7af87114b39712e6da79b0a377eb   \n",
       "1  80e641a11e56f04c1ad469d5645fdfde  a548910a1c6147796b98fdf73dbeba33   \n",
       "2  228ce5500dc1d8e020d8d1322874b6f0  f9e4b658b201a9f2ecdecbb34bed034b   \n",
       "3  e64fb393e7b32834bb789ff8bb30750e  658677c97b385a9be170737859d3511b   \n",
       "4  f7c4243c7fe1938f181bec41a392bdeb  8e6bfb81e283fa7e4f11123a3fb894f1   \n",
       "\n",
       "   review_score review_comment_title  \\\n",
       "0             4                  NaN   \n",
       "1             5                  NaN   \n",
       "2             5                  NaN   \n",
       "3             5                  NaN   \n",
       "4             5                  NaN   \n",
       "\n",
       "                              review_comment_message review_creation_date  \\\n",
       "0                                                NaN  2018-01-18 00:00:00   \n",
       "1                                                NaN  2018-03-10 00:00:00   \n",
       "2                                                NaN  2018-02-17 00:00:00   \n",
       "3              Recebi bem antes do prazo estipulado.  2017-04-21 00:00:00   \n",
       "4  Parabéns lojas lannister adorei comprar pela I...  2018-03-01 00:00:00   \n",
       "\n",
       "  review_answer_timestamp                       customer_id order_status  \\\n",
       "0     2018-01-18 21:46:59  41dcb106f807e993532d446263290104    delivered   \n",
       "1     2018-03-11 03:05:13  8a2e7ef9053dea531e4dc76bd6d853e6    delivered   \n",
       "2     2018-02-18 14:36:24  e226dfed6544df5b7b87a48208690feb    delivered   \n",
       "3     2017-04-21 22:02:06  de6dff97e5f1ba84a3cd9a3bc97df5f6    delivered   \n",
       "4     2018-03-02 10:26:53  5986b333ca0d44534a156a52a8e33a83    delivered   \n",
       "\n",
       "  order_purchase_timestamp  ... order_delivered_customer_date  \\\n",
       "0      2018-01-11 15:30:49  ...           2018-01-17 18:42:41   \n",
       "1      2018-02-28 12:25:19  ...           2018-03-09 23:17:20   \n",
       "2      2018-02-03 09:56:22  ...           2018-02-16 17:28:48   \n",
       "3      2017-04-09 17:41:13  ...           2017-04-20 09:08:35   \n",
       "4      2018-02-10 10:59:03  ...           2018-02-28 16:33:35   \n",
       "\n",
       "  order_estimated_delivery_date payment_sequential payment_type  \\\n",
       "0           2018-02-02 00:00:00                  1  credit_card   \n",
       "1           2018-03-14 00:00:00                  1  credit_card   \n",
       "2           2018-03-09 00:00:00                  1  credit_card   \n",
       "3           2017-05-10 00:00:00                  1  credit_card   \n",
       "4           2018-03-09 00:00:00                  1  credit_card   \n",
       "\n",
       "   payment_installments payment_value                customer_unique_id  \\\n",
       "0                     8        397.26  68a5590b9926689be4e10f4ae2db21a8   \n",
       "1                     1         88.09  64190b91b656ab8f37eb89b93dc84584   \n",
       "2                     1        194.12  1d47144362c14e94ccdd213e8ec277d5   \n",
       "3                     1        222.84  c8cf6cb6b838dc7a33ed199b825e8616   \n",
       "4                    10       1333.25  d16000272660a1fef81482ad75ba572a   \n",
       "\n",
       "   customer_zip_code_prefix           customer_city  customer_state  \n",
       "0                      6030                  osasco              SP  \n",
       "1                     13380             nova odessa              SP  \n",
       "2                     44571  santo antonio de jesus              BA  \n",
       "3                     88735                gravatal              SC  \n",
       "4                     89520             curitibanos              SC  \n",
       "\n",
       "[5 rows x 22 columns]"
      ]
     },
     "execution_count": 20,
     "metadata": {},
     "output_type": "execute_result"
    }
   ],
   "source": [
    "reviews_orders_payment_coustomer.head()"
   ]
  },
  {
   "cell_type": "code",
   "execution_count": 21,
   "metadata": {},
   "outputs": [],
   "source": [
    "orders_items=pd.read_csv('olist_order_items_dataset.csv')\n",
    "products=pd.read_csv('olist_products_dataset.csv')\n",
    "sellers=pd.read_csv('olist_sellers_dataset.csv')\n",
    "geo_location=pd.read_csv('olist_geolocation_dataset.csv')"
   ]
  },
  {
   "cell_type": "code",
   "execution_count": 22,
   "metadata": {},
   "outputs": [
    {
     "data": {
      "text/html": [
       "<div>\n",
       "<style scoped>\n",
       "    .dataframe tbody tr th:only-of-type {\n",
       "        vertical-align: middle;\n",
       "    }\n",
       "\n",
       "    .dataframe tbody tr th {\n",
       "        vertical-align: top;\n",
       "    }\n",
       "\n",
       "    .dataframe thead th {\n",
       "        text-align: right;\n",
       "    }\n",
       "</style>\n",
       "<table border=\"1\" class=\"dataframe\">\n",
       "  <thead>\n",
       "    <tr style=\"text-align: right;\">\n",
       "      <th></th>\n",
       "      <th>order_id</th>\n",
       "      <th>order_item_id</th>\n",
       "      <th>product_id</th>\n",
       "      <th>seller_id</th>\n",
       "      <th>shipping_limit_date</th>\n",
       "      <th>price</th>\n",
       "      <th>freight_value</th>\n",
       "    </tr>\n",
       "  </thead>\n",
       "  <tbody>\n",
       "    <tr>\n",
       "      <th>0</th>\n",
       "      <td>00010242fe8c5a6d1ba2dd792cb16214</td>\n",
       "      <td>1</td>\n",
       "      <td>4244733e06e7ecb4970a6e2683c13e61</td>\n",
       "      <td>48436dade18ac8b2bce089ec2a041202</td>\n",
       "      <td>2017-09-19 09:45:35</td>\n",
       "      <td>58.90</td>\n",
       "      <td>13.29</td>\n",
       "    </tr>\n",
       "    <tr>\n",
       "      <th>1</th>\n",
       "      <td>00018f77f2f0320c557190d7a144bdd3</td>\n",
       "      <td>1</td>\n",
       "      <td>e5f2d52b802189ee658865ca93d83a8f</td>\n",
       "      <td>dd7ddc04e1b6c2c614352b383efe2d36</td>\n",
       "      <td>2017-05-03 11:05:13</td>\n",
       "      <td>239.90</td>\n",
       "      <td>19.93</td>\n",
       "    </tr>\n",
       "    <tr>\n",
       "      <th>2</th>\n",
       "      <td>000229ec398224ef6ca0657da4fc703e</td>\n",
       "      <td>1</td>\n",
       "      <td>c777355d18b72b67abbeef9df44fd0fd</td>\n",
       "      <td>5b51032eddd242adc84c38acab88f23d</td>\n",
       "      <td>2018-01-18 14:48:30</td>\n",
       "      <td>199.00</td>\n",
       "      <td>17.87</td>\n",
       "    </tr>\n",
       "    <tr>\n",
       "      <th>3</th>\n",
       "      <td>00024acbcdf0a6daa1e931b038114c75</td>\n",
       "      <td>1</td>\n",
       "      <td>7634da152a4610f1595efa32f14722fc</td>\n",
       "      <td>9d7a1d34a5052409006425275ba1c2b4</td>\n",
       "      <td>2018-08-15 10:10:18</td>\n",
       "      <td>12.99</td>\n",
       "      <td>12.79</td>\n",
       "    </tr>\n",
       "    <tr>\n",
       "      <th>4</th>\n",
       "      <td>00042b26cf59d7ce69dfabb4e55b4fd9</td>\n",
       "      <td>1</td>\n",
       "      <td>ac6c3623068f30de03045865e4e10089</td>\n",
       "      <td>df560393f3a51e74553ab94004ba5c87</td>\n",
       "      <td>2017-02-13 13:57:51</td>\n",
       "      <td>199.90</td>\n",
       "      <td>18.14</td>\n",
       "    </tr>\n",
       "  </tbody>\n",
       "</table>\n",
       "</div>"
      ],
      "text/plain": [
       "                           order_id  order_item_id  \\\n",
       "0  00010242fe8c5a6d1ba2dd792cb16214              1   \n",
       "1  00018f77f2f0320c557190d7a144bdd3              1   \n",
       "2  000229ec398224ef6ca0657da4fc703e              1   \n",
       "3  00024acbcdf0a6daa1e931b038114c75              1   \n",
       "4  00042b26cf59d7ce69dfabb4e55b4fd9              1   \n",
       "\n",
       "                         product_id                         seller_id  \\\n",
       "0  4244733e06e7ecb4970a6e2683c13e61  48436dade18ac8b2bce089ec2a041202   \n",
       "1  e5f2d52b802189ee658865ca93d83a8f  dd7ddc04e1b6c2c614352b383efe2d36   \n",
       "2  c777355d18b72b67abbeef9df44fd0fd  5b51032eddd242adc84c38acab88f23d   \n",
       "3  7634da152a4610f1595efa32f14722fc  9d7a1d34a5052409006425275ba1c2b4   \n",
       "4  ac6c3623068f30de03045865e4e10089  df560393f3a51e74553ab94004ba5c87   \n",
       "\n",
       "   shipping_limit_date   price  freight_value  \n",
       "0  2017-09-19 09:45:35   58.90          13.29  \n",
       "1  2017-05-03 11:05:13  239.90          19.93  \n",
       "2  2018-01-18 14:48:30  199.00          17.87  \n",
       "3  2018-08-15 10:10:18   12.99          12.79  \n",
       "4  2017-02-13 13:57:51  199.90          18.14  "
      ]
     },
     "execution_count": 22,
     "metadata": {},
     "output_type": "execute_result"
    }
   ],
   "source": [
    "orders_items.head()"
   ]
  },
  {
   "cell_type": "code",
   "execution_count": 23,
   "metadata": {},
   "outputs": [
    {
     "data": {
      "text/plain": [
       "(112650, 7)"
      ]
     },
     "execution_count": 23,
     "metadata": {},
     "output_type": "execute_result"
    }
   ],
   "source": [
    "orders_items.shape"
   ]
  },
  {
   "cell_type": "code",
   "execution_count": 24,
   "metadata": {},
   "outputs": [],
   "source": [
    "ropc_items=reviews_orders_payment_coustomer.merge(orders_items,on='order_id')"
   ]
  },
  {
   "cell_type": "code",
   "execution_count": 25,
   "metadata": {},
   "outputs": [
    {
     "data": {
      "text/plain": [
       "(118315, 28)"
      ]
     },
     "execution_count": 25,
     "metadata": {},
     "output_type": "execute_result"
    }
   ],
   "source": [
    "ropc_items.shape"
   ]
  },
  {
   "cell_type": "code",
   "execution_count": 26,
   "metadata": {},
   "outputs": [
    {
     "data": {
      "text/plain": [
       "32951"
      ]
     },
     "execution_count": 26,
     "metadata": {},
     "output_type": "execute_result"
    }
   ],
   "source": [
    "len(ropc_items['product_id'].unique())"
   ]
  },
  {
   "cell_type": "code",
   "execution_count": 27,
   "metadata": {},
   "outputs": [
    {
     "data": {
      "text/plain": [
       "(32951, 9)"
      ]
     },
     "execution_count": 27,
     "metadata": {},
     "output_type": "execute_result"
    }
   ],
   "source": [
    "products.shape"
   ]
  },
  {
   "cell_type": "code",
   "execution_count": 28,
   "metadata": {},
   "outputs": [
    {
     "data": {
      "text/html": [
       "<div>\n",
       "<style scoped>\n",
       "    .dataframe tbody tr th:only-of-type {\n",
       "        vertical-align: middle;\n",
       "    }\n",
       "\n",
       "    .dataframe tbody tr th {\n",
       "        vertical-align: top;\n",
       "    }\n",
       "\n",
       "    .dataframe thead th {\n",
       "        text-align: right;\n",
       "    }\n",
       "</style>\n",
       "<table border=\"1\" class=\"dataframe\">\n",
       "  <thead>\n",
       "    <tr style=\"text-align: right;\">\n",
       "      <th></th>\n",
       "      <th>product_id</th>\n",
       "      <th>product_category_name</th>\n",
       "      <th>product_name_lenght</th>\n",
       "      <th>product_description_lenght</th>\n",
       "      <th>product_photos_qty</th>\n",
       "      <th>product_weight_g</th>\n",
       "      <th>product_length_cm</th>\n",
       "      <th>product_height_cm</th>\n",
       "      <th>product_width_cm</th>\n",
       "    </tr>\n",
       "  </thead>\n",
       "  <tbody>\n",
       "    <tr>\n",
       "      <th>0</th>\n",
       "      <td>1e9e8ef04dbcff4541ed26657ea517e5</td>\n",
       "      <td>perfumaria</td>\n",
       "      <td>40.0</td>\n",
       "      <td>287.0</td>\n",
       "      <td>1.0</td>\n",
       "      <td>225.0</td>\n",
       "      <td>16.0</td>\n",
       "      <td>10.0</td>\n",
       "      <td>14.0</td>\n",
       "    </tr>\n",
       "    <tr>\n",
       "      <th>1</th>\n",
       "      <td>3aa071139cb16b67ca9e5dea641aaa2f</td>\n",
       "      <td>artes</td>\n",
       "      <td>44.0</td>\n",
       "      <td>276.0</td>\n",
       "      <td>1.0</td>\n",
       "      <td>1000.0</td>\n",
       "      <td>30.0</td>\n",
       "      <td>18.0</td>\n",
       "      <td>20.0</td>\n",
       "    </tr>\n",
       "    <tr>\n",
       "      <th>2</th>\n",
       "      <td>96bd76ec8810374ed1b65e291975717f</td>\n",
       "      <td>esporte_lazer</td>\n",
       "      <td>46.0</td>\n",
       "      <td>250.0</td>\n",
       "      <td>1.0</td>\n",
       "      <td>154.0</td>\n",
       "      <td>18.0</td>\n",
       "      <td>9.0</td>\n",
       "      <td>15.0</td>\n",
       "    </tr>\n",
       "    <tr>\n",
       "      <th>3</th>\n",
       "      <td>cef67bcfe19066a932b7673e239eb23d</td>\n",
       "      <td>bebes</td>\n",
       "      <td>27.0</td>\n",
       "      <td>261.0</td>\n",
       "      <td>1.0</td>\n",
       "      <td>371.0</td>\n",
       "      <td>26.0</td>\n",
       "      <td>4.0</td>\n",
       "      <td>26.0</td>\n",
       "    </tr>\n",
       "    <tr>\n",
       "      <th>4</th>\n",
       "      <td>9dc1a7de274444849c219cff195d0b71</td>\n",
       "      <td>utilidades_domesticas</td>\n",
       "      <td>37.0</td>\n",
       "      <td>402.0</td>\n",
       "      <td>4.0</td>\n",
       "      <td>625.0</td>\n",
       "      <td>20.0</td>\n",
       "      <td>17.0</td>\n",
       "      <td>13.0</td>\n",
       "    </tr>\n",
       "  </tbody>\n",
       "</table>\n",
       "</div>"
      ],
      "text/plain": [
       "                         product_id  product_category_name  \\\n",
       "0  1e9e8ef04dbcff4541ed26657ea517e5             perfumaria   \n",
       "1  3aa071139cb16b67ca9e5dea641aaa2f                  artes   \n",
       "2  96bd76ec8810374ed1b65e291975717f          esporte_lazer   \n",
       "3  cef67bcfe19066a932b7673e239eb23d                  bebes   \n",
       "4  9dc1a7de274444849c219cff195d0b71  utilidades_domesticas   \n",
       "\n",
       "   product_name_lenght  product_description_lenght  product_photos_qty  \\\n",
       "0                 40.0                       287.0                 1.0   \n",
       "1                 44.0                       276.0                 1.0   \n",
       "2                 46.0                       250.0                 1.0   \n",
       "3                 27.0                       261.0                 1.0   \n",
       "4                 37.0                       402.0                 4.0   \n",
       "\n",
       "   product_weight_g  product_length_cm  product_height_cm  product_width_cm  \n",
       "0             225.0               16.0               10.0              14.0  \n",
       "1            1000.0               30.0               18.0              20.0  \n",
       "2             154.0               18.0                9.0              15.0  \n",
       "3             371.0               26.0                4.0              26.0  \n",
       "4             625.0               20.0               17.0              13.0  "
      ]
     },
     "execution_count": 28,
     "metadata": {},
     "output_type": "execute_result"
    }
   ],
   "source": [
    "products.head()"
   ]
  },
  {
   "cell_type": "code",
   "execution_count": 29,
   "metadata": {},
   "outputs": [],
   "source": [
    "ropc_items_products=ropc_items.merge(products,on='product_id')"
   ]
  },
  {
   "cell_type": "code",
   "execution_count": 30,
   "metadata": {},
   "outputs": [
    {
     "data": {
      "text/plain": [
       "(118315, 36)"
      ]
     },
     "execution_count": 30,
     "metadata": {},
     "output_type": "execute_result"
    }
   ],
   "source": [
    "ropc_items_products.shape"
   ]
  },
  {
   "cell_type": "code",
   "execution_count": 31,
   "metadata": {},
   "outputs": [
    {
     "data": {
      "text/plain": [
       "3095"
      ]
     },
     "execution_count": 31,
     "metadata": {},
     "output_type": "execute_result"
    }
   ],
   "source": [
    "len(ropc_items_products['seller_id'].unique())"
   ]
  },
  {
   "cell_type": "code",
   "execution_count": 32,
   "metadata": {},
   "outputs": [
    {
     "data": {
      "text/html": [
       "<div>\n",
       "<style scoped>\n",
       "    .dataframe tbody tr th:only-of-type {\n",
       "        vertical-align: middle;\n",
       "    }\n",
       "\n",
       "    .dataframe tbody tr th {\n",
       "        vertical-align: top;\n",
       "    }\n",
       "\n",
       "    .dataframe thead th {\n",
       "        text-align: right;\n",
       "    }\n",
       "</style>\n",
       "<table border=\"1\" class=\"dataframe\">\n",
       "  <thead>\n",
       "    <tr style=\"text-align: right;\">\n",
       "      <th></th>\n",
       "      <th>seller_id</th>\n",
       "      <th>seller_zip_code_prefix</th>\n",
       "      <th>seller_city</th>\n",
       "      <th>seller_state</th>\n",
       "    </tr>\n",
       "  </thead>\n",
       "  <tbody>\n",
       "    <tr>\n",
       "      <th>0</th>\n",
       "      <td>3442f8959a84dea7ee197c632cb2df15</td>\n",
       "      <td>13023</td>\n",
       "      <td>campinas</td>\n",
       "      <td>SP</td>\n",
       "    </tr>\n",
       "    <tr>\n",
       "      <th>1</th>\n",
       "      <td>d1b65fc7debc3361ea86b5f14c68d2e2</td>\n",
       "      <td>13844</td>\n",
       "      <td>mogi guacu</td>\n",
       "      <td>SP</td>\n",
       "    </tr>\n",
       "    <tr>\n",
       "      <th>2</th>\n",
       "      <td>ce3ad9de960102d0677a81f5d0bb7b2d</td>\n",
       "      <td>20031</td>\n",
       "      <td>rio de janeiro</td>\n",
       "      <td>RJ</td>\n",
       "    </tr>\n",
       "    <tr>\n",
       "      <th>3</th>\n",
       "      <td>c0f3eea2e14555b6faeea3dd58c1b1c3</td>\n",
       "      <td>4195</td>\n",
       "      <td>sao paulo</td>\n",
       "      <td>SP</td>\n",
       "    </tr>\n",
       "    <tr>\n",
       "      <th>4</th>\n",
       "      <td>51a04a8a6bdcb23deccc82b0b80742cf</td>\n",
       "      <td>12914</td>\n",
       "      <td>braganca paulista</td>\n",
       "      <td>SP</td>\n",
       "    </tr>\n",
       "  </tbody>\n",
       "</table>\n",
       "</div>"
      ],
      "text/plain": [
       "                          seller_id  seller_zip_code_prefix  \\\n",
       "0  3442f8959a84dea7ee197c632cb2df15                   13023   \n",
       "1  d1b65fc7debc3361ea86b5f14c68d2e2                   13844   \n",
       "2  ce3ad9de960102d0677a81f5d0bb7b2d                   20031   \n",
       "3  c0f3eea2e14555b6faeea3dd58c1b1c3                    4195   \n",
       "4  51a04a8a6bdcb23deccc82b0b80742cf                   12914   \n",
       "\n",
       "         seller_city seller_state  \n",
       "0           campinas           SP  \n",
       "1         mogi guacu           SP  \n",
       "2     rio de janeiro           RJ  \n",
       "3          sao paulo           SP  \n",
       "4  braganca paulista           SP  "
      ]
     },
     "execution_count": 32,
     "metadata": {},
     "output_type": "execute_result"
    }
   ],
   "source": [
    "sellers.head()"
   ]
  },
  {
   "cell_type": "code",
   "execution_count": 33,
   "metadata": {},
   "outputs": [
    {
     "data": {
      "text/plain": [
       "(3095, 4)"
      ]
     },
     "execution_count": 33,
     "metadata": {},
     "output_type": "execute_result"
    }
   ],
   "source": [
    "sellers.shape"
   ]
  },
  {
   "cell_type": "code",
   "execution_count": 34,
   "metadata": {},
   "outputs": [
    {
     "data": {
      "text/plain": [
       "(1000163, 5)"
      ]
     },
     "execution_count": 34,
     "metadata": {},
     "output_type": "execute_result"
    }
   ],
   "source": [
    "geo_location.shape"
   ]
  },
  {
   "cell_type": "code",
   "execution_count": 35,
   "metadata": {},
   "outputs": [
    {
     "data": {
      "text/html": [
       "<div>\n",
       "<style scoped>\n",
       "    .dataframe tbody tr th:only-of-type {\n",
       "        vertical-align: middle;\n",
       "    }\n",
       "\n",
       "    .dataframe tbody tr th {\n",
       "        vertical-align: top;\n",
       "    }\n",
       "\n",
       "    .dataframe thead th {\n",
       "        text-align: right;\n",
       "    }\n",
       "</style>\n",
       "<table border=\"1\" class=\"dataframe\">\n",
       "  <thead>\n",
       "    <tr style=\"text-align: right;\">\n",
       "      <th></th>\n",
       "      <th>geolocation_zip_code_prefix</th>\n",
       "      <th>geolocation_lat</th>\n",
       "      <th>geolocation_lng</th>\n",
       "      <th>geolocation_city</th>\n",
       "      <th>geolocation_state</th>\n",
       "    </tr>\n",
       "  </thead>\n",
       "  <tbody>\n",
       "    <tr>\n",
       "      <th>0</th>\n",
       "      <td>1037</td>\n",
       "      <td>-23.545621</td>\n",
       "      <td>-46.639292</td>\n",
       "      <td>sao paulo</td>\n",
       "      <td>SP</td>\n",
       "    </tr>\n",
       "    <tr>\n",
       "      <th>1</th>\n",
       "      <td>1046</td>\n",
       "      <td>-23.546081</td>\n",
       "      <td>-46.644820</td>\n",
       "      <td>sao paulo</td>\n",
       "      <td>SP</td>\n",
       "    </tr>\n",
       "    <tr>\n",
       "      <th>2</th>\n",
       "      <td>1046</td>\n",
       "      <td>-23.546129</td>\n",
       "      <td>-46.642951</td>\n",
       "      <td>sao paulo</td>\n",
       "      <td>SP</td>\n",
       "    </tr>\n",
       "    <tr>\n",
       "      <th>3</th>\n",
       "      <td>1041</td>\n",
       "      <td>-23.544392</td>\n",
       "      <td>-46.639499</td>\n",
       "      <td>sao paulo</td>\n",
       "      <td>SP</td>\n",
       "    </tr>\n",
       "    <tr>\n",
       "      <th>4</th>\n",
       "      <td>1035</td>\n",
       "      <td>-23.541578</td>\n",
       "      <td>-46.641607</td>\n",
       "      <td>sao paulo</td>\n",
       "      <td>SP</td>\n",
       "    </tr>\n",
       "  </tbody>\n",
       "</table>\n",
       "</div>"
      ],
      "text/plain": [
       "   geolocation_zip_code_prefix  geolocation_lat  geolocation_lng  \\\n",
       "0                         1037       -23.545621       -46.639292   \n",
       "1                         1046       -23.546081       -46.644820   \n",
       "2                         1046       -23.546129       -46.642951   \n",
       "3                         1041       -23.544392       -46.639499   \n",
       "4                         1035       -23.541578       -46.641607   \n",
       "\n",
       "  geolocation_city geolocation_state  \n",
       "0        sao paulo                SP  \n",
       "1        sao paulo                SP  \n",
       "2        sao paulo                SP  \n",
       "3        sao paulo                SP  \n",
       "4        sao paulo                SP  "
      ]
     },
     "execution_count": 35,
     "metadata": {},
     "output_type": "execute_result"
    }
   ],
   "source": [
    "geo_location.head()"
   ]
  },
  {
   "cell_type": "code",
   "execution_count": 36,
   "metadata": {},
   "outputs": [
    {
     "data": {
      "text/plain": [
       "19015"
      ]
     },
     "execution_count": 36,
     "metadata": {},
     "output_type": "execute_result"
    }
   ],
   "source": [
    "len(geo_location['geolocation_zip_code_prefix'].unique())"
   ]
  },
  {
   "cell_type": "code",
   "execution_count": 37,
   "metadata": {},
   "outputs": [],
   "source": [
    "ropc_items_products_sellers=ropc_items_products.merge(sellers,on='seller_id')"
   ]
  },
  {
   "cell_type": "code",
   "execution_count": 38,
   "metadata": {},
   "outputs": [
    {
     "data": {
      "text/plain": [
       "Index(['review_id', 'order_id', 'review_score', 'review_comment_title',\n",
       "       'review_comment_message', 'review_creation_date',\n",
       "       'review_answer_timestamp', 'customer_id', 'order_status',\n",
       "       'order_purchase_timestamp', 'order_approved_at',\n",
       "       'order_delivered_carrier_date', 'order_delivered_customer_date',\n",
       "       'order_estimated_delivery_date', 'payment_sequential', 'payment_type',\n",
       "       'payment_installments', 'payment_value', 'customer_unique_id',\n",
       "       'customer_zip_code_prefix', 'customer_city', 'customer_state',\n",
       "       'order_item_id', 'product_id', 'seller_id', 'shipping_limit_date',\n",
       "       'price', 'freight_value', 'product_category_name',\n",
       "       'product_name_lenght', 'product_description_lenght',\n",
       "       'product_photos_qty', 'product_weight_g', 'product_length_cm',\n",
       "       'product_height_cm', 'product_width_cm', 'seller_zip_code_prefix',\n",
       "       'seller_city', 'seller_state'],\n",
       "      dtype='object')"
      ]
     },
     "execution_count": 38,
     "metadata": {},
     "output_type": "execute_result"
    }
   ],
   "source": [
    "ropc_items_products_sellers.columns"
   ]
  },
  {
   "cell_type": "code",
   "execution_count": 39,
   "metadata": {},
   "outputs": [
    {
     "data": {
      "text/html": [
       "<div>\n",
       "<style scoped>\n",
       "    .dataframe tbody tr th:only-of-type {\n",
       "        vertical-align: middle;\n",
       "    }\n",
       "\n",
       "    .dataframe tbody tr th {\n",
       "        vertical-align: top;\n",
       "    }\n",
       "\n",
       "    .dataframe thead th {\n",
       "        text-align: right;\n",
       "    }\n",
       "</style>\n",
       "<table border=\"1\" class=\"dataframe\">\n",
       "  <thead>\n",
       "    <tr style=\"text-align: right;\">\n",
       "      <th></th>\n",
       "      <th>review_id</th>\n",
       "      <th>order_id</th>\n",
       "      <th>review_score</th>\n",
       "      <th>review_comment_title</th>\n",
       "      <th>review_comment_message</th>\n",
       "      <th>review_creation_date</th>\n",
       "      <th>review_answer_timestamp</th>\n",
       "      <th>customer_id</th>\n",
       "      <th>order_status</th>\n",
       "      <th>order_purchase_timestamp</th>\n",
       "      <th>...</th>\n",
       "      <th>product_name_lenght</th>\n",
       "      <th>product_description_lenght</th>\n",
       "      <th>product_photos_qty</th>\n",
       "      <th>product_weight_g</th>\n",
       "      <th>product_length_cm</th>\n",
       "      <th>product_height_cm</th>\n",
       "      <th>product_width_cm</th>\n",
       "      <th>seller_zip_code_prefix</th>\n",
       "      <th>seller_city</th>\n",
       "      <th>seller_state</th>\n",
       "    </tr>\n",
       "  </thead>\n",
       "  <tbody>\n",
       "    <tr>\n",
       "      <th>0</th>\n",
       "      <td>7bc2406110b926393aa56f80a40eba40</td>\n",
       "      <td>73fc7af87114b39712e6da79b0a377eb</td>\n",
       "      <td>4</td>\n",
       "      <td>NaN</td>\n",
       "      <td>NaN</td>\n",
       "      <td>2018-01-18 00:00:00</td>\n",
       "      <td>2018-01-18 21:46:59</td>\n",
       "      <td>41dcb106f807e993532d446263290104</td>\n",
       "      <td>delivered</td>\n",
       "      <td>2018-01-11 15:30:49</td>\n",
       "      <td>...</td>\n",
       "      <td>42.0</td>\n",
       "      <td>858.0</td>\n",
       "      <td>1.0</td>\n",
       "      <td>1300.0</td>\n",
       "      <td>30.0</td>\n",
       "      <td>30.0</td>\n",
       "      <td>35.0</td>\n",
       "      <td>14600</td>\n",
       "      <td>sao joaquim da barra</td>\n",
       "      <td>SP</td>\n",
       "    </tr>\n",
       "    <tr>\n",
       "      <th>1</th>\n",
       "      <td>7bc2406110b926393aa56f80a40eba40</td>\n",
       "      <td>73fc7af87114b39712e6da79b0a377eb</td>\n",
       "      <td>4</td>\n",
       "      <td>NaN</td>\n",
       "      <td>NaN</td>\n",
       "      <td>2018-01-18 00:00:00</td>\n",
       "      <td>2018-01-18 21:46:59</td>\n",
       "      <td>41dcb106f807e993532d446263290104</td>\n",
       "      <td>delivered</td>\n",
       "      <td>2018-01-11 15:30:49</td>\n",
       "      <td>...</td>\n",
       "      <td>42.0</td>\n",
       "      <td>858.0</td>\n",
       "      <td>1.0</td>\n",
       "      <td>1300.0</td>\n",
       "      <td>30.0</td>\n",
       "      <td>30.0</td>\n",
       "      <td>35.0</td>\n",
       "      <td>14600</td>\n",
       "      <td>sao joaquim da barra</td>\n",
       "      <td>SP</td>\n",
       "    </tr>\n",
       "    <tr>\n",
       "      <th>2</th>\n",
       "      <td>e2655da8bccce2ddc2f43cc2c80d24f3</td>\n",
       "      <td>19721d59a9764437477eff0730b48665</td>\n",
       "      <td>5</td>\n",
       "      <td>NaN</td>\n",
       "      <td>NaN</td>\n",
       "      <td>2018-04-10 00:00:00</td>\n",
       "      <td>2018-04-11 11:30:43</td>\n",
       "      <td>b1757da2a461d581e1a3b280ca181b7c</td>\n",
       "      <td>delivered</td>\n",
       "      <td>2018-03-26 11:02:31</td>\n",
       "      <td>...</td>\n",
       "      <td>42.0</td>\n",
       "      <td>858.0</td>\n",
       "      <td>1.0</td>\n",
       "      <td>1300.0</td>\n",
       "      <td>30.0</td>\n",
       "      <td>30.0</td>\n",
       "      <td>35.0</td>\n",
       "      <td>14600</td>\n",
       "      <td>sao joaquim da barra</td>\n",
       "      <td>SP</td>\n",
       "    </tr>\n",
       "    <tr>\n",
       "      <th>3</th>\n",
       "      <td>cb18f53b563f0bdeb76be0376ddd6b6a</td>\n",
       "      <td>efd626e6a12a82d76e456e34093f8356</td>\n",
       "      <td>5</td>\n",
       "      <td>NaN</td>\n",
       "      <td>NaN</td>\n",
       "      <td>2017-12-28 00:00:00</td>\n",
       "      <td>2017-12-30 12:07:50</td>\n",
       "      <td>da2bd16b131bc90653b87fe4d8fd266e</td>\n",
       "      <td>delivered</td>\n",
       "      <td>2017-12-07 20:33:24</td>\n",
       "      <td>...</td>\n",
       "      <td>42.0</td>\n",
       "      <td>858.0</td>\n",
       "      <td>1.0</td>\n",
       "      <td>1300.0</td>\n",
       "      <td>30.0</td>\n",
       "      <td>30.0</td>\n",
       "      <td>35.0</td>\n",
       "      <td>14600</td>\n",
       "      <td>sao joaquim da barra</td>\n",
       "      <td>SP</td>\n",
       "    </tr>\n",
       "    <tr>\n",
       "      <th>4</th>\n",
       "      <td>5fdb2ed7aa0f1b1c9642175b302e38af</td>\n",
       "      <td>b0bc656fed47584c160f8cff2d7b8bbd</td>\n",
       "      <td>5</td>\n",
       "      <td>NaN</td>\n",
       "      <td>NaN</td>\n",
       "      <td>2018-03-17 00:00:00</td>\n",
       "      <td>2018-03-17 17:36:27</td>\n",
       "      <td>f4ad1c9eb0bed4469cbe0ff8f47bf634</td>\n",
       "      <td>delivered</td>\n",
       "      <td>2018-02-27 13:56:12</td>\n",
       "      <td>...</td>\n",
       "      <td>47.0</td>\n",
       "      <td>858.0</td>\n",
       "      <td>1.0</td>\n",
       "      <td>1600.0</td>\n",
       "      <td>30.0</td>\n",
       "      <td>30.0</td>\n",
       "      <td>35.0</td>\n",
       "      <td>14600</td>\n",
       "      <td>sao joaquim da barra</td>\n",
       "      <td>SP</td>\n",
       "    </tr>\n",
       "  </tbody>\n",
       "</table>\n",
       "<p>5 rows × 39 columns</p>\n",
       "</div>"
      ],
      "text/plain": [
       "                          review_id                          order_id  \\\n",
       "0  7bc2406110b926393aa56f80a40eba40  73fc7af87114b39712e6da79b0a377eb   \n",
       "1  7bc2406110b926393aa56f80a40eba40  73fc7af87114b39712e6da79b0a377eb   \n",
       "2  e2655da8bccce2ddc2f43cc2c80d24f3  19721d59a9764437477eff0730b48665   \n",
       "3  cb18f53b563f0bdeb76be0376ddd6b6a  efd626e6a12a82d76e456e34093f8356   \n",
       "4  5fdb2ed7aa0f1b1c9642175b302e38af  b0bc656fed47584c160f8cff2d7b8bbd   \n",
       "\n",
       "   review_score review_comment_title review_comment_message  \\\n",
       "0             4                  NaN                    NaN   \n",
       "1             4                  NaN                    NaN   \n",
       "2             5                  NaN                    NaN   \n",
       "3             5                  NaN                    NaN   \n",
       "4             5                  NaN                    NaN   \n",
       "\n",
       "  review_creation_date review_answer_timestamp  \\\n",
       "0  2018-01-18 00:00:00     2018-01-18 21:46:59   \n",
       "1  2018-01-18 00:00:00     2018-01-18 21:46:59   \n",
       "2  2018-04-10 00:00:00     2018-04-11 11:30:43   \n",
       "3  2017-12-28 00:00:00     2017-12-30 12:07:50   \n",
       "4  2018-03-17 00:00:00     2018-03-17 17:36:27   \n",
       "\n",
       "                        customer_id order_status order_purchase_timestamp  \\\n",
       "0  41dcb106f807e993532d446263290104    delivered      2018-01-11 15:30:49   \n",
       "1  41dcb106f807e993532d446263290104    delivered      2018-01-11 15:30:49   \n",
       "2  b1757da2a461d581e1a3b280ca181b7c    delivered      2018-03-26 11:02:31   \n",
       "3  da2bd16b131bc90653b87fe4d8fd266e    delivered      2017-12-07 20:33:24   \n",
       "4  f4ad1c9eb0bed4469cbe0ff8f47bf634    delivered      2018-02-27 13:56:12   \n",
       "\n",
       "   ... product_name_lenght product_description_lenght product_photos_qty  \\\n",
       "0  ...                42.0                      858.0                1.0   \n",
       "1  ...                42.0                      858.0                1.0   \n",
       "2  ...                42.0                      858.0                1.0   \n",
       "3  ...                42.0                      858.0                1.0   \n",
       "4  ...                47.0                      858.0                1.0   \n",
       "\n",
       "  product_weight_g  product_length_cm product_height_cm  product_width_cm  \\\n",
       "0           1300.0               30.0              30.0              35.0   \n",
       "1           1300.0               30.0              30.0              35.0   \n",
       "2           1300.0               30.0              30.0              35.0   \n",
       "3           1300.0               30.0              30.0              35.0   \n",
       "4           1600.0               30.0              30.0              35.0   \n",
       "\n",
       "   seller_zip_code_prefix           seller_city  seller_state  \n",
       "0                   14600  sao joaquim da barra            SP  \n",
       "1                   14600  sao joaquim da barra            SP  \n",
       "2                   14600  sao joaquim da barra            SP  \n",
       "3                   14600  sao joaquim da barra            SP  \n",
       "4                   14600  sao joaquim da barra            SP  \n",
       "\n",
       "[5 rows x 39 columns]"
      ]
     },
     "execution_count": 39,
     "metadata": {},
     "output_type": "execute_result"
    }
   ],
   "source": [
    "ropc_items_products_sellers.head()"
   ]
  },
  {
   "cell_type": "code",
   "execution_count": 40,
   "metadata": {},
   "outputs": [
    {
     "data": {
      "text/plain": [
       "14976"
      ]
     },
     "execution_count": 40,
     "metadata": {},
     "output_type": "execute_result"
    }
   ],
   "source": [
    "len(ropc_items_products_sellers['customer_zip_code_prefix'].unique())"
   ]
  },
  {
   "cell_type": "code",
   "execution_count": 41,
   "metadata": {},
   "outputs": [
    {
     "data": {
      "text/plain": [
       "2246"
      ]
     },
     "execution_count": 41,
     "metadata": {},
     "output_type": "execute_result"
    }
   ],
   "source": [
    "len(ropc_items_products_sellers['seller_zip_code_prefix'].unique())"
   ]
  },
  {
   "cell_type": "code",
   "execution_count": 42,
   "metadata": {},
   "outputs": [],
   "source": [
    "geoloc_df = geo_location.groupby('geolocation_zip_code_prefix').mean().reset_index()\n"
   ]
  },
  {
   "cell_type": "code",
   "execution_count": 43,
   "metadata": {},
   "outputs": [
    {
     "data": {
      "text/html": [
       "<div>\n",
       "<style scoped>\n",
       "    .dataframe tbody tr th:only-of-type {\n",
       "        vertical-align: middle;\n",
       "    }\n",
       "\n",
       "    .dataframe tbody tr th {\n",
       "        vertical-align: top;\n",
       "    }\n",
       "\n",
       "    .dataframe thead th {\n",
       "        text-align: right;\n",
       "    }\n",
       "</style>\n",
       "<table border=\"1\" class=\"dataframe\">\n",
       "  <thead>\n",
       "    <tr style=\"text-align: right;\">\n",
       "      <th></th>\n",
       "      <th>geolocation_zip_code_prefix</th>\n",
       "      <th>geolocation_lat</th>\n",
       "      <th>geolocation_lng</th>\n",
       "    </tr>\n",
       "  </thead>\n",
       "  <tbody>\n",
       "    <tr>\n",
       "      <th>0</th>\n",
       "      <td>1001</td>\n",
       "      <td>-23.550190</td>\n",
       "      <td>-46.634024</td>\n",
       "    </tr>\n",
       "    <tr>\n",
       "      <th>1</th>\n",
       "      <td>1002</td>\n",
       "      <td>-23.548146</td>\n",
       "      <td>-46.634979</td>\n",
       "    </tr>\n",
       "    <tr>\n",
       "      <th>2</th>\n",
       "      <td>1003</td>\n",
       "      <td>-23.548994</td>\n",
       "      <td>-46.635731</td>\n",
       "    </tr>\n",
       "    <tr>\n",
       "      <th>3</th>\n",
       "      <td>1004</td>\n",
       "      <td>-23.549799</td>\n",
       "      <td>-46.634757</td>\n",
       "    </tr>\n",
       "    <tr>\n",
       "      <th>4</th>\n",
       "      <td>1005</td>\n",
       "      <td>-23.549456</td>\n",
       "      <td>-46.636733</td>\n",
       "    </tr>\n",
       "    <tr>\n",
       "      <th>...</th>\n",
       "      <td>...</td>\n",
       "      <td>...</td>\n",
       "      <td>...</td>\n",
       "    </tr>\n",
       "    <tr>\n",
       "      <th>19010</th>\n",
       "      <td>99960</td>\n",
       "      <td>-27.953722</td>\n",
       "      <td>-52.025511</td>\n",
       "    </tr>\n",
       "    <tr>\n",
       "      <th>19011</th>\n",
       "      <td>99965</td>\n",
       "      <td>-28.183372</td>\n",
       "      <td>-52.039850</td>\n",
       "    </tr>\n",
       "    <tr>\n",
       "      <th>19012</th>\n",
       "      <td>99970</td>\n",
       "      <td>-28.343766</td>\n",
       "      <td>-51.874689</td>\n",
       "    </tr>\n",
       "    <tr>\n",
       "      <th>19013</th>\n",
       "      <td>99980</td>\n",
       "      <td>-28.389129</td>\n",
       "      <td>-51.843836</td>\n",
       "    </tr>\n",
       "    <tr>\n",
       "      <th>19014</th>\n",
       "      <td>99990</td>\n",
       "      <td>-28.329595</td>\n",
       "      <td>-51.769362</td>\n",
       "    </tr>\n",
       "  </tbody>\n",
       "</table>\n",
       "<p>19015 rows × 3 columns</p>\n",
       "</div>"
      ],
      "text/plain": [
       "       geolocation_zip_code_prefix  geolocation_lat  geolocation_lng\n",
       "0                             1001       -23.550190       -46.634024\n",
       "1                             1002       -23.548146       -46.634979\n",
       "2                             1003       -23.548994       -46.635731\n",
       "3                             1004       -23.549799       -46.634757\n",
       "4                             1005       -23.549456       -46.636733\n",
       "...                            ...              ...              ...\n",
       "19010                        99960       -27.953722       -52.025511\n",
       "19011                        99965       -28.183372       -52.039850\n",
       "19012                        99970       -28.343766       -51.874689\n",
       "19013                        99980       -28.389129       -51.843836\n",
       "19014                        99990       -28.329595       -51.769362\n",
       "\n",
       "[19015 rows x 3 columns]"
      ]
     },
     "execution_count": 43,
     "metadata": {},
     "output_type": "execute_result"
    }
   ],
   "source": [
    "geoloc_df"
   ]
  },
  {
   "cell_type": "code",
   "execution_count": 44,
   "metadata": {},
   "outputs": [],
   "source": [
    "#Final Data after Merging\n",
    "final_df=ropc_items_products_sellers.merge(geoloc_df,left_on='customer_zip_code_prefix',right_on='geolocation_zip_code_prefix')"
   ]
  },
  {
   "cell_type": "code",
   "execution_count": 45,
   "metadata": {},
   "outputs": [
    {
     "data": {
      "text/html": [
       "<div>\n",
       "<style scoped>\n",
       "    .dataframe tbody tr th:only-of-type {\n",
       "        vertical-align: middle;\n",
       "    }\n",
       "\n",
       "    .dataframe tbody tr th {\n",
       "        vertical-align: top;\n",
       "    }\n",
       "\n",
       "    .dataframe thead th {\n",
       "        text-align: right;\n",
       "    }\n",
       "</style>\n",
       "<table border=\"1\" class=\"dataframe\">\n",
       "  <thead>\n",
       "    <tr style=\"text-align: right;\">\n",
       "      <th></th>\n",
       "      <th>review_id</th>\n",
       "      <th>order_id</th>\n",
       "      <th>review_score</th>\n",
       "      <th>review_comment_title</th>\n",
       "      <th>review_comment_message</th>\n",
       "      <th>review_creation_date</th>\n",
       "      <th>review_answer_timestamp</th>\n",
       "      <th>customer_id</th>\n",
       "      <th>order_status</th>\n",
       "      <th>order_purchase_timestamp</th>\n",
       "      <th>...</th>\n",
       "      <th>product_weight_g</th>\n",
       "      <th>product_length_cm</th>\n",
       "      <th>product_height_cm</th>\n",
       "      <th>product_width_cm</th>\n",
       "      <th>seller_zip_code_prefix</th>\n",
       "      <th>seller_city</th>\n",
       "      <th>seller_state</th>\n",
       "      <th>geolocation_zip_code_prefix</th>\n",
       "      <th>geolocation_lat</th>\n",
       "      <th>geolocation_lng</th>\n",
       "    </tr>\n",
       "  </thead>\n",
       "  <tbody>\n",
       "    <tr>\n",
       "      <th>0</th>\n",
       "      <td>7bc2406110b926393aa56f80a40eba40</td>\n",
       "      <td>73fc7af87114b39712e6da79b0a377eb</td>\n",
       "      <td>4</td>\n",
       "      <td>NaN</td>\n",
       "      <td>NaN</td>\n",
       "      <td>2018-01-18 00:00:00</td>\n",
       "      <td>2018-01-18 21:46:59</td>\n",
       "      <td>41dcb106f807e993532d446263290104</td>\n",
       "      <td>delivered</td>\n",
       "      <td>2018-01-11 15:30:49</td>\n",
       "      <td>...</td>\n",
       "      <td>1300.0</td>\n",
       "      <td>30.0</td>\n",
       "      <td>30.0</td>\n",
       "      <td>35.0</td>\n",
       "      <td>14600</td>\n",
       "      <td>sao joaquim da barra</td>\n",
       "      <td>SP</td>\n",
       "      <td>6030</td>\n",
       "      <td>-23.557079</td>\n",
       "      <td>-46.767579</td>\n",
       "    </tr>\n",
       "    <tr>\n",
       "      <th>1</th>\n",
       "      <td>7bc2406110b926393aa56f80a40eba40</td>\n",
       "      <td>73fc7af87114b39712e6da79b0a377eb</td>\n",
       "      <td>4</td>\n",
       "      <td>NaN</td>\n",
       "      <td>NaN</td>\n",
       "      <td>2018-01-18 00:00:00</td>\n",
       "      <td>2018-01-18 21:46:59</td>\n",
       "      <td>41dcb106f807e993532d446263290104</td>\n",
       "      <td>delivered</td>\n",
       "      <td>2018-01-11 15:30:49</td>\n",
       "      <td>...</td>\n",
       "      <td>1300.0</td>\n",
       "      <td>30.0</td>\n",
       "      <td>30.0</td>\n",
       "      <td>35.0</td>\n",
       "      <td>14600</td>\n",
       "      <td>sao joaquim da barra</td>\n",
       "      <td>SP</td>\n",
       "      <td>6030</td>\n",
       "      <td>-23.557079</td>\n",
       "      <td>-46.767579</td>\n",
       "    </tr>\n",
       "    <tr>\n",
       "      <th>2</th>\n",
       "      <td>238e50e85af6df5121c9978eb61f52dc</td>\n",
       "      <td>5a32dae759e50279bf8e1b2be65edd27</td>\n",
       "      <td>4</td>\n",
       "      <td>NaN</td>\n",
       "      <td>NaN</td>\n",
       "      <td>2017-10-02 00:00:00</td>\n",
       "      <td>2017-10-02 16:58:22</td>\n",
       "      <td>6b5aaff0e495149ec28705162bba2fe4</td>\n",
       "      <td>delivered</td>\n",
       "      <td>2017-09-28 23:13:40</td>\n",
       "      <td>...</td>\n",
       "      <td>250.0</td>\n",
       "      <td>17.0</td>\n",
       "      <td>6.0</td>\n",
       "      <td>12.0</td>\n",
       "      <td>13324</td>\n",
       "      <td>salto</td>\n",
       "      <td>SP</td>\n",
       "      <td>6030</td>\n",
       "      <td>-23.557079</td>\n",
       "      <td>-46.767579</td>\n",
       "    </tr>\n",
       "    <tr>\n",
       "      <th>3</th>\n",
       "      <td>f4e0a5f2050ea33c9567478c2c4805ae</td>\n",
       "      <td>c7873fbbe3a42117a53be238d9b734f3</td>\n",
       "      <td>3</td>\n",
       "      <td>NaN</td>\n",
       "      <td>NaN</td>\n",
       "      <td>2018-05-01 00:00:00</td>\n",
       "      <td>2018-05-02 11:09:50</td>\n",
       "      <td>e13363e1db087b7d98c27f9b9405d793</td>\n",
       "      <td>delivered</td>\n",
       "      <td>2018-04-27 08:44:03</td>\n",
       "      <td>...</td>\n",
       "      <td>200.0</td>\n",
       "      <td>25.0</td>\n",
       "      <td>7.0</td>\n",
       "      <td>16.0</td>\n",
       "      <td>1212</td>\n",
       "      <td>sao paulo</td>\n",
       "      <td>SP</td>\n",
       "      <td>6030</td>\n",
       "      <td>-23.557079</td>\n",
       "      <td>-46.767579</td>\n",
       "    </tr>\n",
       "    <tr>\n",
       "      <th>4</th>\n",
       "      <td>314adfed9c9ebb83c3021c3b703daf0f</td>\n",
       "      <td>44fb0b3fb29ddaedf3fe5bd4a99e7495</td>\n",
       "      <td>5</td>\n",
       "      <td>Produto Recusado</td>\n",
       "      <td>O produto chegou a ser entregue, porém foi rec...</td>\n",
       "      <td>2018-07-28 00:00:00</td>\n",
       "      <td>2018-07-28 23:58:51</td>\n",
       "      <td>0d7b652454b643aca094cbdbd5080867</td>\n",
       "      <td>delivered</td>\n",
       "      <td>2018-07-21 19:08:07</td>\n",
       "      <td>...</td>\n",
       "      <td>1650.0</td>\n",
       "      <td>30.0</td>\n",
       "      <td>22.0</td>\n",
       "      <td>30.0</td>\n",
       "      <td>15025</td>\n",
       "      <td>sao jose do rio preto</td>\n",
       "      <td>SP</td>\n",
       "      <td>6030</td>\n",
       "      <td>-23.557079</td>\n",
       "      <td>-46.767579</td>\n",
       "    </tr>\n",
       "  </tbody>\n",
       "</table>\n",
       "<p>5 rows × 42 columns</p>\n",
       "</div>"
      ],
      "text/plain": [
       "                          review_id                          order_id  \\\n",
       "0  7bc2406110b926393aa56f80a40eba40  73fc7af87114b39712e6da79b0a377eb   \n",
       "1  7bc2406110b926393aa56f80a40eba40  73fc7af87114b39712e6da79b0a377eb   \n",
       "2  238e50e85af6df5121c9978eb61f52dc  5a32dae759e50279bf8e1b2be65edd27   \n",
       "3  f4e0a5f2050ea33c9567478c2c4805ae  c7873fbbe3a42117a53be238d9b734f3   \n",
       "4  314adfed9c9ebb83c3021c3b703daf0f  44fb0b3fb29ddaedf3fe5bd4a99e7495   \n",
       "\n",
       "   review_score review_comment_title  \\\n",
       "0             4                  NaN   \n",
       "1             4                  NaN   \n",
       "2             4                  NaN   \n",
       "3             3                  NaN   \n",
       "4             5     Produto Recusado   \n",
       "\n",
       "                              review_comment_message review_creation_date  \\\n",
       "0                                                NaN  2018-01-18 00:00:00   \n",
       "1                                                NaN  2018-01-18 00:00:00   \n",
       "2                                                NaN  2017-10-02 00:00:00   \n",
       "3                                                NaN  2018-05-01 00:00:00   \n",
       "4  O produto chegou a ser entregue, porém foi rec...  2018-07-28 00:00:00   \n",
       "\n",
       "  review_answer_timestamp                       customer_id order_status  \\\n",
       "0     2018-01-18 21:46:59  41dcb106f807e993532d446263290104    delivered   \n",
       "1     2018-01-18 21:46:59  41dcb106f807e993532d446263290104    delivered   \n",
       "2     2017-10-02 16:58:22  6b5aaff0e495149ec28705162bba2fe4    delivered   \n",
       "3     2018-05-02 11:09:50  e13363e1db087b7d98c27f9b9405d793    delivered   \n",
       "4     2018-07-28 23:58:51  0d7b652454b643aca094cbdbd5080867    delivered   \n",
       "\n",
       "  order_purchase_timestamp  ... product_weight_g product_length_cm  \\\n",
       "0      2018-01-11 15:30:49  ...           1300.0              30.0   \n",
       "1      2018-01-11 15:30:49  ...           1300.0              30.0   \n",
       "2      2017-09-28 23:13:40  ...            250.0              17.0   \n",
       "3      2018-04-27 08:44:03  ...            200.0              25.0   \n",
       "4      2018-07-21 19:08:07  ...           1650.0              30.0   \n",
       "\n",
       "  product_height_cm product_width_cm  seller_zip_code_prefix  \\\n",
       "0              30.0             35.0                   14600   \n",
       "1              30.0             35.0                   14600   \n",
       "2               6.0             12.0                   13324   \n",
       "3               7.0             16.0                    1212   \n",
       "4              22.0             30.0                   15025   \n",
       "\n",
       "             seller_city  seller_state  geolocation_zip_code_prefix  \\\n",
       "0   sao joaquim da barra            SP                         6030   \n",
       "1   sao joaquim da barra            SP                         6030   \n",
       "2                  salto            SP                         6030   \n",
       "3              sao paulo            SP                         6030   \n",
       "4  sao jose do rio preto            SP                         6030   \n",
       "\n",
       "  geolocation_lat  geolocation_lng  \n",
       "0      -23.557079       -46.767579  \n",
       "1      -23.557079       -46.767579  \n",
       "2      -23.557079       -46.767579  \n",
       "3      -23.557079       -46.767579  \n",
       "4      -23.557079       -46.767579  \n",
       "\n",
       "[5 rows x 42 columns]"
      ]
     },
     "execution_count": 45,
     "metadata": {},
     "output_type": "execute_result"
    }
   ],
   "source": [
    "final_df.head()"
   ]
  },
  {
   "cell_type": "code",
   "execution_count": 47,
   "metadata": {},
   "outputs": [
    {
     "data": {
      "text/plain": [
       "(117998, 42)"
      ]
     },
     "execution_count": 47,
     "metadata": {},
     "output_type": "execute_result"
    }
   ],
   "source": [
    "final_df.shape"
   ]
  },
  {
   "cell_type": "code",
   "execution_count": 49,
   "metadata": {},
   "outputs": [
    {
     "data": {
      "text/plain": [
       "Index(['review_id', 'order_id', 'review_score', 'review_comment_title',\n",
       "       'review_comment_message', 'review_creation_date',\n",
       "       'review_answer_timestamp', 'customer_id', 'order_status',\n",
       "       'order_purchase_timestamp', 'order_approved_at',\n",
       "       'order_delivered_carrier_date', 'order_delivered_customer_date',\n",
       "       'order_estimated_delivery_date', 'payment_sequential', 'payment_type',\n",
       "       'payment_installments', 'payment_value', 'customer_unique_id',\n",
       "       'customer_zip_code_prefix', 'customer_city', 'customer_state',\n",
       "       'order_item_id', 'product_id', 'seller_id', 'shipping_limit_date',\n",
       "       'price', 'freight_value', 'product_category_name',\n",
       "       'product_name_lenght', 'product_description_lenght',\n",
       "       'product_photos_qty', 'product_weight_g', 'product_length_cm',\n",
       "       'product_height_cm', 'product_width_cm', 'seller_zip_code_prefix',\n",
       "       'seller_city', 'seller_state', 'geolocation_zip_code_prefix',\n",
       "       'geolocation_lat', 'geolocation_lng'],\n",
       "      dtype='object')"
      ]
     },
     "execution_count": 49,
     "metadata": {},
     "output_type": "execute_result"
    }
   ],
   "source": [
    "final_df.columns"
   ]
  },
  {
   "cell_type": "code",
   "execution_count": null,
   "metadata": {},
   "outputs": [],
   "source": [
    "final_df.to_csv('final_df.csv')"
   ]
  },
  {
   "cell_type": "code",
   "execution_count": 51,
   "metadata": {},
   "outputs": [],
   "source": [
    "import pandas as pd\n",
    "df=pd.read_csv('final_df.csv')"
   ]
  },
  {
   "cell_type": "code",
   "execution_count": 52,
   "metadata": {},
   "outputs": [
    {
     "data": {
      "text/html": [
       "<div>\n",
       "<style scoped>\n",
       "    .dataframe tbody tr th:only-of-type {\n",
       "        vertical-align: middle;\n",
       "    }\n",
       "\n",
       "    .dataframe tbody tr th {\n",
       "        vertical-align: top;\n",
       "    }\n",
       "\n",
       "    .dataframe thead th {\n",
       "        text-align: right;\n",
       "    }\n",
       "</style>\n",
       "<table border=\"1\" class=\"dataframe\">\n",
       "  <thead>\n",
       "    <tr style=\"text-align: right;\">\n",
       "      <th></th>\n",
       "      <th>Unnamed: 0</th>\n",
       "      <th>review_id</th>\n",
       "      <th>order_id</th>\n",
       "      <th>review_score</th>\n",
       "      <th>review_comment_title</th>\n",
       "      <th>review_comment_message</th>\n",
       "      <th>review_creation_date</th>\n",
       "      <th>review_answer_timestamp</th>\n",
       "      <th>customer_id</th>\n",
       "      <th>order_status</th>\n",
       "      <th>...</th>\n",
       "      <th>product_weight_g</th>\n",
       "      <th>product_length_cm</th>\n",
       "      <th>product_height_cm</th>\n",
       "      <th>product_width_cm</th>\n",
       "      <th>seller_zip_code_prefix</th>\n",
       "      <th>seller_city</th>\n",
       "      <th>seller_state</th>\n",
       "      <th>geolocation_zip_code_prefix</th>\n",
       "      <th>geolocation_lat</th>\n",
       "      <th>geolocation_lng</th>\n",
       "    </tr>\n",
       "  </thead>\n",
       "  <tbody>\n",
       "    <tr>\n",
       "      <th>0</th>\n",
       "      <td>0</td>\n",
       "      <td>7bc2406110b926393aa56f80a40eba40</td>\n",
       "      <td>73fc7af87114b39712e6da79b0a377eb</td>\n",
       "      <td>4</td>\n",
       "      <td>NaN</td>\n",
       "      <td>NaN</td>\n",
       "      <td>2018-01-18 00:00:00</td>\n",
       "      <td>2018-01-18 21:46:59</td>\n",
       "      <td>41dcb106f807e993532d446263290104</td>\n",
       "      <td>delivered</td>\n",
       "      <td>...</td>\n",
       "      <td>1300.0</td>\n",
       "      <td>30.0</td>\n",
       "      <td>30.0</td>\n",
       "      <td>35.0</td>\n",
       "      <td>14600</td>\n",
       "      <td>sao joaquim da barra</td>\n",
       "      <td>SP</td>\n",
       "      <td>6030</td>\n",
       "      <td>-23.557079</td>\n",
       "      <td>-46.767579</td>\n",
       "    </tr>\n",
       "    <tr>\n",
       "      <th>1</th>\n",
       "      <td>1</td>\n",
       "      <td>7bc2406110b926393aa56f80a40eba40</td>\n",
       "      <td>73fc7af87114b39712e6da79b0a377eb</td>\n",
       "      <td>4</td>\n",
       "      <td>NaN</td>\n",
       "      <td>NaN</td>\n",
       "      <td>2018-01-18 00:00:00</td>\n",
       "      <td>2018-01-18 21:46:59</td>\n",
       "      <td>41dcb106f807e993532d446263290104</td>\n",
       "      <td>delivered</td>\n",
       "      <td>...</td>\n",
       "      <td>1300.0</td>\n",
       "      <td>30.0</td>\n",
       "      <td>30.0</td>\n",
       "      <td>35.0</td>\n",
       "      <td>14600</td>\n",
       "      <td>sao joaquim da barra</td>\n",
       "      <td>SP</td>\n",
       "      <td>6030</td>\n",
       "      <td>-23.557079</td>\n",
       "      <td>-46.767579</td>\n",
       "    </tr>\n",
       "    <tr>\n",
       "      <th>2</th>\n",
       "      <td>2</td>\n",
       "      <td>238e50e85af6df5121c9978eb61f52dc</td>\n",
       "      <td>5a32dae759e50279bf8e1b2be65edd27</td>\n",
       "      <td>4</td>\n",
       "      <td>NaN</td>\n",
       "      <td>NaN</td>\n",
       "      <td>2017-10-02 00:00:00</td>\n",
       "      <td>2017-10-02 16:58:22</td>\n",
       "      <td>6b5aaff0e495149ec28705162bba2fe4</td>\n",
       "      <td>delivered</td>\n",
       "      <td>...</td>\n",
       "      <td>250.0</td>\n",
       "      <td>17.0</td>\n",
       "      <td>6.0</td>\n",
       "      <td>12.0</td>\n",
       "      <td>13324</td>\n",
       "      <td>salto</td>\n",
       "      <td>SP</td>\n",
       "      <td>6030</td>\n",
       "      <td>-23.557079</td>\n",
       "      <td>-46.767579</td>\n",
       "    </tr>\n",
       "    <tr>\n",
       "      <th>3</th>\n",
       "      <td>3</td>\n",
       "      <td>f4e0a5f2050ea33c9567478c2c4805ae</td>\n",
       "      <td>c7873fbbe3a42117a53be238d9b734f3</td>\n",
       "      <td>3</td>\n",
       "      <td>NaN</td>\n",
       "      <td>NaN</td>\n",
       "      <td>2018-05-01 00:00:00</td>\n",
       "      <td>2018-05-02 11:09:50</td>\n",
       "      <td>e13363e1db087b7d98c27f9b9405d793</td>\n",
       "      <td>delivered</td>\n",
       "      <td>...</td>\n",
       "      <td>200.0</td>\n",
       "      <td>25.0</td>\n",
       "      <td>7.0</td>\n",
       "      <td>16.0</td>\n",
       "      <td>1212</td>\n",
       "      <td>sao paulo</td>\n",
       "      <td>SP</td>\n",
       "      <td>6030</td>\n",
       "      <td>-23.557079</td>\n",
       "      <td>-46.767579</td>\n",
       "    </tr>\n",
       "    <tr>\n",
       "      <th>4</th>\n",
       "      <td>4</td>\n",
       "      <td>314adfed9c9ebb83c3021c3b703daf0f</td>\n",
       "      <td>44fb0b3fb29ddaedf3fe5bd4a99e7495</td>\n",
       "      <td>5</td>\n",
       "      <td>Produto Recusado</td>\n",
       "      <td>O produto chegou a ser entregue, porém foi rec...</td>\n",
       "      <td>2018-07-28 00:00:00</td>\n",
       "      <td>2018-07-28 23:58:51</td>\n",
       "      <td>0d7b652454b643aca094cbdbd5080867</td>\n",
       "      <td>delivered</td>\n",
       "      <td>...</td>\n",
       "      <td>1650.0</td>\n",
       "      <td>30.0</td>\n",
       "      <td>22.0</td>\n",
       "      <td>30.0</td>\n",
       "      <td>15025</td>\n",
       "      <td>sao jose do rio preto</td>\n",
       "      <td>SP</td>\n",
       "      <td>6030</td>\n",
       "      <td>-23.557079</td>\n",
       "      <td>-46.767579</td>\n",
       "    </tr>\n",
       "  </tbody>\n",
       "</table>\n",
       "<p>5 rows × 43 columns</p>\n",
       "</div>"
      ],
      "text/plain": [
       "   Unnamed: 0                         review_id  \\\n",
       "0           0  7bc2406110b926393aa56f80a40eba40   \n",
       "1           1  7bc2406110b926393aa56f80a40eba40   \n",
       "2           2  238e50e85af6df5121c9978eb61f52dc   \n",
       "3           3  f4e0a5f2050ea33c9567478c2c4805ae   \n",
       "4           4  314adfed9c9ebb83c3021c3b703daf0f   \n",
       "\n",
       "                           order_id  review_score review_comment_title  \\\n",
       "0  73fc7af87114b39712e6da79b0a377eb             4                  NaN   \n",
       "1  73fc7af87114b39712e6da79b0a377eb             4                  NaN   \n",
       "2  5a32dae759e50279bf8e1b2be65edd27             4                  NaN   \n",
       "3  c7873fbbe3a42117a53be238d9b734f3             3                  NaN   \n",
       "4  44fb0b3fb29ddaedf3fe5bd4a99e7495             5     Produto Recusado   \n",
       "\n",
       "                              review_comment_message review_creation_date  \\\n",
       "0                                                NaN  2018-01-18 00:00:00   \n",
       "1                                                NaN  2018-01-18 00:00:00   \n",
       "2                                                NaN  2017-10-02 00:00:00   \n",
       "3                                                NaN  2018-05-01 00:00:00   \n",
       "4  O produto chegou a ser entregue, porém foi rec...  2018-07-28 00:00:00   \n",
       "\n",
       "  review_answer_timestamp                       customer_id order_status  ...  \\\n",
       "0     2018-01-18 21:46:59  41dcb106f807e993532d446263290104    delivered  ...   \n",
       "1     2018-01-18 21:46:59  41dcb106f807e993532d446263290104    delivered  ...   \n",
       "2     2017-10-02 16:58:22  6b5aaff0e495149ec28705162bba2fe4    delivered  ...   \n",
       "3     2018-05-02 11:09:50  e13363e1db087b7d98c27f9b9405d793    delivered  ...   \n",
       "4     2018-07-28 23:58:51  0d7b652454b643aca094cbdbd5080867    delivered  ...   \n",
       "\n",
       "  product_weight_g product_length_cm product_height_cm product_width_cm  \\\n",
       "0           1300.0              30.0              30.0             35.0   \n",
       "1           1300.0              30.0              30.0             35.0   \n",
       "2            250.0              17.0               6.0             12.0   \n",
       "3            200.0              25.0               7.0             16.0   \n",
       "4           1650.0              30.0              22.0             30.0   \n",
       "\n",
       "  seller_zip_code_prefix            seller_city seller_state  \\\n",
       "0                  14600   sao joaquim da barra           SP   \n",
       "1                  14600   sao joaquim da barra           SP   \n",
       "2                  13324                  salto           SP   \n",
       "3                   1212              sao paulo           SP   \n",
       "4                  15025  sao jose do rio preto           SP   \n",
       "\n",
       "   geolocation_zip_code_prefix  geolocation_lat geolocation_lng  \n",
       "0                         6030       -23.557079      -46.767579  \n",
       "1                         6030       -23.557079      -46.767579  \n",
       "2                         6030       -23.557079      -46.767579  \n",
       "3                         6030       -23.557079      -46.767579  \n",
       "4                         6030       -23.557079      -46.767579  \n",
       "\n",
       "[5 rows x 43 columns]"
      ]
     },
     "execution_count": 52,
     "metadata": {},
     "output_type": "execute_result"
    }
   ],
   "source": [
    "df.head()"
   ]
  },
  {
   "cell_type": "code",
   "execution_count": 26,
   "metadata": {},
   "outputs": [
    {
     "data": {
      "text/plain": [
       "0                 esporte_lazer\n",
       "1                 esporte_lazer\n",
       "2         utilidades_domesticas\n",
       "3                   eletronicos\n",
       "4            ferramentas_jardim\n",
       "                  ...          \n",
       "117993               brinquedos\n",
       "117994             beleza_saude\n",
       "117995               automotivo\n",
       "117996       eletrodomesticos_2\n",
       "117997             beleza_saude\n",
       "Name: product_category_name, Length: 117998, dtype: object"
      ]
     },
     "execution_count": 26,
     "metadata": {},
     "output_type": "execute_result"
    }
   ],
   "source": [
    "df['product_category_name']"
   ]
  },
  {
   "cell_type": "code",
   "execution_count": 3,
   "metadata": {},
   "outputs": [
    {
     "data": {
      "text/plain": [
       "array(['delivered', 'shipped', 'canceled', 'processing', 'invoiced',\n",
       "       'unavailable', 'approved'], dtype=object)"
      ]
     },
     "execution_count": 3,
     "metadata": {},
     "output_type": "execute_result"
    }
   ],
   "source": [
    "df['order_status'].unique()"
   ]
  },
  {
   "cell_type": "code",
   "execution_count": 13,
   "metadata": {},
   "outputs": [
    {
     "data": {
      "text/plain": [
       "array(['credit_card', 'debit_card', 'voucher', 'boleto'], dtype=object)"
      ]
     },
     "execution_count": 13,
     "metadata": {},
     "output_type": "execute_result"
    }
   ],
   "source": [
    "df['payment_type'].unique()"
   ]
  },
  {
   "cell_type": "code",
   "execution_count": 53,
   "metadata": {},
   "outputs": [
    {
     "data": {
      "text/plain": [
       "Index(['Unnamed: 0', 'review_id', 'order_id', 'review_score',\n",
       "       'review_comment_title', 'review_comment_message',\n",
       "       'review_creation_date', 'review_answer_timestamp', 'customer_id',\n",
       "       'order_status', 'order_purchase_timestamp', 'order_approved_at',\n",
       "       'order_delivered_carrier_date', 'order_delivered_customer_date',\n",
       "       'order_estimated_delivery_date', 'payment_sequential', 'payment_type',\n",
       "       'payment_installments', 'payment_value', 'customer_unique_id',\n",
       "       'customer_zip_code_prefix', 'customer_city', 'customer_state',\n",
       "       'order_item_id', 'product_id', 'seller_id', 'shipping_limit_date',\n",
       "       'price', 'freight_value', 'product_category_name',\n",
       "       'product_name_lenght', 'product_description_lenght',\n",
       "       'product_photos_qty', 'product_weight_g', 'product_length_cm',\n",
       "       'product_height_cm', 'product_width_cm', 'seller_zip_code_prefix',\n",
       "       'seller_city', 'seller_state', 'geolocation_zip_code_prefix',\n",
       "       'geolocation_lat', 'geolocation_lng'],\n",
       "      dtype='object')"
      ]
     },
     "execution_count": 53,
     "metadata": {},
     "output_type": "execute_result"
    }
   ],
   "source": [
    "df.columns"
   ]
  },
  {
   "cell_type": "code",
   "execution_count": 54,
   "metadata": {},
   "outputs": [
    {
     "data": {
      "text/plain": [
       "(117998, 43)"
      ]
     },
     "execution_count": 54,
     "metadata": {},
     "output_type": "execute_result"
    }
   ],
   "source": [
    "df.shape"
   ]
  },
  {
   "cell_type": "code",
   "execution_count": 55,
   "metadata": {
    "scrolled": true
   },
   "outputs": [
    {
     "data": {
      "text/plain": [
       "aca2eb7d00ea1a7b8ebd4e68314663af    534\n",
       "99a4788cb24856965c36a24e339b6058    527\n",
       "422879e10f46682990de24d770e7f83d    507\n",
       "389d119b48cf3043d311335e499d9c6b    405\n",
       "368c6c730842d78016ad823897a372db    395\n",
       "                                   ... \n",
       "f7e2c966e1db5f57d218c530464c38da      1\n",
       "f5068d43799fc3243cf62b290d885d3e      1\n",
       "e53197022fd9f554e01b9cf4f3c9f249      1\n",
       "33404a09d81156efd8d2299cf5568f1f      1\n",
       "cec29a60285cd686caa31318b3ad3671      1\n",
       "Name: product_id, Length: 32904, dtype: int64"
      ]
     },
     "execution_count": 55,
     "metadata": {},
     "output_type": "execute_result"
    }
   ],
   "source": [
    "df['product_id'].value_counts()"
   ]
  },
  {
   "cell_type": "code",
   "execution_count": 56,
   "metadata": {},
   "outputs": [],
   "source": [
    "#columns which are unique and has lot of missing values\n",
    "columns=['Unnamed: 0','review_id', 'order_id','review_comment_title', 'review_comment_message',\n",
    "        'customer_id','customer_unique_id']"
   ]
  },
  {
   "cell_type": "code",
   "execution_count": 57,
   "metadata": {},
   "outputs": [],
   "source": [
    "data=df.copy()"
   ]
  },
  {
   "cell_type": "code",
   "execution_count": 58,
   "metadata": {},
   "outputs": [],
   "source": [
    "#dropping those columns\n",
    "data=data.drop(columns,axis=1)"
   ]
  },
  {
   "cell_type": "code",
   "execution_count": 59,
   "metadata": {},
   "outputs": [
    {
     "data": {
      "text/plain": [
       "Index(['Unnamed: 0', 'review_score', 'review_creation_date',\n",
       "       'review_answer_timestamp', 'order_status', 'order_purchase_timestamp',\n",
       "       'order_approved_at', 'order_delivered_carrier_date',\n",
       "       'order_delivered_customer_date', 'order_estimated_delivery_date',\n",
       "       'payment_sequential', 'payment_type', 'payment_installments',\n",
       "       'payment_value', 'customer_zip_code_prefix', 'customer_city',\n",
       "       'customer_state', 'order_item_id', 'product_id', 'seller_id',\n",
       "       'shipping_limit_date', 'price', 'freight_value',\n",
       "       'product_category_name', 'product_name_lenght',\n",
       "       'product_description_lenght', 'product_photos_qty', 'product_weight_g',\n",
       "       'product_length_cm', 'product_height_cm', 'product_width_cm',\n",
       "       'seller_zip_code_prefix', 'seller_city', 'seller_state',\n",
       "       'geolocation_zip_code_prefix', 'geolocation_lat', 'geolocation_lng'],\n",
       "      dtype='object')"
      ]
     },
     "execution_count": 59,
     "metadata": {},
     "output_type": "execute_result"
    }
   ],
   "source": [
    "data.columns"
   ]
  },
  {
   "cell_type": "code",
   "execution_count": null,
   "metadata": {},
   "outputs": [],
   "source": [
    "#Renaming the columns\n",
    "data=data.rename(columns={\"product_description_lenght\":\"product_description_length\"})\n",
    "data=data.rename(columns={\"product_name_lenght\":\"product_name_length\"})"
   ]
  },
  {
   "cell_type": "code",
   "execution_count": 60,
   "metadata": {},
   "outputs": [
    {
     "data": {
      "text/plain": [
       "Unnamed: 0                          0\n",
       "review_score                        0\n",
       "review_creation_date                0\n",
       "review_answer_timestamp             0\n",
       "order_status                        0\n",
       "order_purchase_timestamp            0\n",
       "order_approved_at                  15\n",
       "order_delivered_carrier_date     1247\n",
       "order_delivered_customer_date    2574\n",
       "order_estimated_delivery_date       0\n",
       "payment_sequential                  0\n",
       "payment_type                        0\n",
       "payment_installments                0\n",
       "payment_value                       0\n",
       "customer_zip_code_prefix            0\n",
       "customer_city                       0\n",
       "customer_state                      0\n",
       "order_item_id                       0\n",
       "product_id                          0\n",
       "seller_id                           0\n",
       "shipping_limit_date                 0\n",
       "price                               0\n",
       "freight_value                       0\n",
       "product_category_name            1703\n",
       "product_name_lenght              1703\n",
       "product_description_lenght       1703\n",
       "product_photos_qty               1703\n",
       "product_weight_g                   20\n",
       "product_length_cm                  20\n",
       "product_height_cm                  20\n",
       "product_width_cm                   20\n",
       "seller_zip_code_prefix              0\n",
       "seller_city                         0\n",
       "seller_state                        0\n",
       "geolocation_zip_code_prefix         0\n",
       "geolocation_lat                     0\n",
       "geolocation_lng                     0\n",
       "dtype: int64"
      ]
     },
     "execution_count": 60,
     "metadata": {},
     "output_type": "execute_result"
    }
   ],
   "source": [
    "data.isnull().sum()"
   ]
  },
  {
   "cell_type": "markdown",
   "metadata": {},
   "source": [
    "### Missing Value Treatment"
   ]
  },
  {
   "cell_type": "code",
   "execution_count": 61,
   "metadata": {},
   "outputs": [
    {
     "data": {
      "text/plain": [
       "2017-08-08 20:43:31    63\n",
       "2017-09-25 17:44:41    38\n",
       "2017-04-22 09:10:13    29\n",
       "2017-06-09 16:15:08    26\n",
       "2018-02-21 12:28:15    24\n",
       "                       ..\n",
       "2018-02-05 08:50:26     1\n",
       "2018-07-18 16:35:24     1\n",
       "2017-10-31 20:10:23     1\n",
       "2017-07-22 14:55:14     1\n",
       "2018-02-25 17:50:41     1\n",
       "Name: order_approved_at, Length: 89941, dtype: int64"
      ]
     },
     "execution_count": 61,
     "metadata": {},
     "output_type": "execute_result"
    }
   ],
   "source": [
    "data['order_approved_at'].value_counts()"
   ]
  },
  {
   "cell_type": "code",
   "execution_count": 62,
   "metadata": {},
   "outputs": [],
   "source": [
    "data['order_approved_at']=data['order_approved_at'].fillna(0)"
   ]
  },
  {
   "cell_type": "code",
   "execution_count": 63,
   "metadata": {},
   "outputs": [
    {
     "data": {
      "text/plain": [
       "Unnamed: 0                          0\n",
       "review_score                        0\n",
       "review_creation_date                0\n",
       "review_answer_timestamp             0\n",
       "order_status                        0\n",
       "order_purchase_timestamp            0\n",
       "order_approved_at                   0\n",
       "order_delivered_carrier_date     1247\n",
       "order_delivered_customer_date    2574\n",
       "order_estimated_delivery_date       0\n",
       "payment_sequential                  0\n",
       "payment_type                        0\n",
       "payment_installments                0\n",
       "payment_value                       0\n",
       "customer_zip_code_prefix            0\n",
       "customer_city                       0\n",
       "customer_state                      0\n",
       "order_item_id                       0\n",
       "product_id                          0\n",
       "seller_id                           0\n",
       "shipping_limit_date                 0\n",
       "price                               0\n",
       "freight_value                       0\n",
       "product_category_name            1703\n",
       "product_name_lenght              1703\n",
       "product_description_lenght       1703\n",
       "product_photos_qty               1703\n",
       "product_weight_g                   20\n",
       "product_length_cm                  20\n",
       "product_height_cm                  20\n",
       "product_width_cm                   20\n",
       "seller_zip_code_prefix              0\n",
       "seller_city                         0\n",
       "seller_state                        0\n",
       "geolocation_zip_code_prefix         0\n",
       "geolocation_lat                     0\n",
       "geolocation_lng                     0\n",
       "dtype: int64"
      ]
     },
     "execution_count": 63,
     "metadata": {},
     "output_type": "execute_result"
    }
   ],
   "source": [
    "data.isnull().sum()"
   ]
  },
  {
   "cell_type": "code",
   "execution_count": 64,
   "metadata": {},
   "outputs": [],
   "source": [
    "data['order_delivered_carrier_date']=data['order_delivered_carrier_date'].fillna(0)\n",
    "data['order_delivered_customer_date']=data['order_delivered_customer_date'].fillna(0)"
   ]
  },
  {
   "cell_type": "code",
   "execution_count": 65,
   "metadata": {},
   "outputs": [
    {
     "data": {
      "text/plain": [
       "Unnamed: 0                          0\n",
       "review_score                        0\n",
       "review_creation_date                0\n",
       "review_answer_timestamp             0\n",
       "order_status                        0\n",
       "order_purchase_timestamp            0\n",
       "order_approved_at                   0\n",
       "order_delivered_carrier_date        0\n",
       "order_delivered_customer_date       0\n",
       "order_estimated_delivery_date       0\n",
       "payment_sequential                  0\n",
       "payment_type                        0\n",
       "payment_installments                0\n",
       "payment_value                       0\n",
       "customer_zip_code_prefix            0\n",
       "customer_city                       0\n",
       "customer_state                      0\n",
       "order_item_id                       0\n",
       "product_id                          0\n",
       "seller_id                           0\n",
       "shipping_limit_date                 0\n",
       "price                               0\n",
       "freight_value                       0\n",
       "product_category_name            1703\n",
       "product_name_lenght              1703\n",
       "product_description_lenght       1703\n",
       "product_photos_qty               1703\n",
       "product_weight_g                   20\n",
       "product_length_cm                  20\n",
       "product_height_cm                  20\n",
       "product_width_cm                   20\n",
       "seller_zip_code_prefix              0\n",
       "seller_city                         0\n",
       "seller_state                        0\n",
       "geolocation_zip_code_prefix         0\n",
       "geolocation_lat                     0\n",
       "geolocation_lng                     0\n",
       "dtype: int64"
      ]
     },
     "execution_count": 65,
     "metadata": {},
     "output_type": "execute_result"
    }
   ],
   "source": [
    "data.isnull().sum()"
   ]
  },
  {
   "cell_type": "code",
   "execution_count": 66,
   "metadata": {},
   "outputs": [
    {
     "data": {
      "text/plain": [
       "cama_mesa_banho                                  11962\n",
       "beleza_saude                                     10000\n",
       "esporte_lazer                                     8988\n",
       "moveis_decoracao                                  8815\n",
       "informatica_acessorios                            8121\n",
       "                                                 ...  \n",
       "portateis_cozinha_e_preparadores_de_alimentos       15\n",
       "cds_dvds_musicais                                   14\n",
       "pc_gamer                                            10\n",
       "fashion_roupa_infanto_juvenil                        8\n",
       "seguros_e_servicos                                   2\n",
       "Name: product_category_name, Length: 73, dtype: int64"
      ]
     },
     "execution_count": 66,
     "metadata": {},
     "output_type": "execute_result"
    }
   ],
   "source": [
    "data['product_category_name'].value_counts()"
   ]
  },
  {
   "cell_type": "code",
   "execution_count": 67,
   "metadata": {},
   "outputs": [],
   "source": [
    "data['product_category_name']=data['product_category_name'].fillna('other')"
   ]
  },
  {
   "cell_type": "code",
   "execution_count": 68,
   "metadata": {},
   "outputs": [
    {
     "data": {
      "text/plain": [
       "Unnamed: 0                          0\n",
       "review_score                        0\n",
       "review_creation_date                0\n",
       "review_answer_timestamp             0\n",
       "order_status                        0\n",
       "order_purchase_timestamp            0\n",
       "order_approved_at                   0\n",
       "order_delivered_carrier_date        0\n",
       "order_delivered_customer_date       0\n",
       "order_estimated_delivery_date       0\n",
       "payment_sequential                  0\n",
       "payment_type                        0\n",
       "payment_installments                0\n",
       "payment_value                       0\n",
       "customer_zip_code_prefix            0\n",
       "customer_city                       0\n",
       "customer_state                      0\n",
       "order_item_id                       0\n",
       "product_id                          0\n",
       "seller_id                           0\n",
       "shipping_limit_date                 0\n",
       "price                               0\n",
       "freight_value                       0\n",
       "product_category_name               0\n",
       "product_name_lenght              1703\n",
       "product_description_lenght       1703\n",
       "product_photos_qty               1703\n",
       "product_weight_g                   20\n",
       "product_length_cm                  20\n",
       "product_height_cm                  20\n",
       "product_width_cm                   20\n",
       "seller_zip_code_prefix              0\n",
       "seller_city                         0\n",
       "seller_state                        0\n",
       "geolocation_zip_code_prefix         0\n",
       "geolocation_lat                     0\n",
       "geolocation_lng                     0\n",
       "dtype: int64"
      ]
     },
     "execution_count": 68,
     "metadata": {},
     "output_type": "execute_result"
    }
   ],
   "source": [
    "data.isnull().sum()"
   ]
  },
  {
   "cell_type": "code",
   "execution_count": 69,
   "metadata": {},
   "outputs": [
    {
     "data": {
      "text/plain": [
       "59.0    8659\n",
       "60.0    8057\n",
       "56.0    6830\n",
       "58.0    6805\n",
       "57.0    6286\n",
       "        ... \n",
       "7.0        2\n",
       "69.0       1\n",
       "66.0       1\n",
       "68.0       1\n",
       "76.0       1\n",
       "Name: product_name_lenght, Length: 66, dtype: int64"
      ]
     },
     "execution_count": 69,
     "metadata": {},
     "output_type": "execute_result"
    }
   ],
   "source": [
    "data['product_name_lenght'].value_counts()"
   ]
  },
  {
   "cell_type": "code",
   "execution_count": 70,
   "metadata": {},
   "outputs": [
    {
     "data": {
      "text/plain": [
       "count    116295.000000\n",
       "mean         48.767952\n",
       "std          10.035110\n",
       "min           5.000000\n",
       "25%          42.000000\n",
       "50%          52.000000\n",
       "75%          57.000000\n",
       "max          76.000000\n",
       "Name: product_name_lenght, dtype: float64"
      ]
     },
     "execution_count": 70,
     "metadata": {},
     "output_type": "execute_result"
    }
   ],
   "source": [
    "data['product_name_lenght'].describe()"
   ]
  },
  {
   "cell_type": "code",
   "execution_count": 71,
   "metadata": {},
   "outputs": [],
   "source": [
    "data['product_name_lenght']=data['product_name_lenght'].fillna(59.0)"
   ]
  },
  {
   "cell_type": "code",
   "execution_count": 72,
   "metadata": {},
   "outputs": [
    {
     "data": {
      "text/plain": [
       "count    116295.000000\n",
       "mean        786.019339\n",
       "std         652.740235\n",
       "min           4.000000\n",
       "25%         346.000000\n",
       "50%         600.000000\n",
       "75%         983.500000\n",
       "max        3992.000000\n",
       "Name: product_description_lenght, dtype: float64"
      ]
     },
     "execution_count": 72,
     "metadata": {},
     "output_type": "execute_result"
    }
   ],
   "source": [
    "data['product_description_lenght'].describe()"
   ]
  },
  {
   "cell_type": "code",
   "execution_count": 73,
   "metadata": {},
   "outputs": [],
   "source": [
    "data['product_description_lenght']=data['product_description_lenght'].fillna(786.019339)"
   ]
  },
  {
   "cell_type": "code",
   "execution_count": 74,
   "metadata": {},
   "outputs": [
    {
     "data": {
      "text/plain": [
       "1.0     58809\n",
       "2.0     22988\n",
       "3.0     12943\n",
       "4.0      8836\n",
       "5.0      5590\n",
       "6.0      3937\n",
       "7.0      1553\n",
       "8.0       769\n",
       "10.0      354\n",
       "9.0       318\n",
       "11.0       72\n",
       "12.0       60\n",
       "13.0       30\n",
       "15.0       12\n",
       "17.0       11\n",
       "14.0        6\n",
       "18.0        4\n",
       "19.0        2\n",
       "20.0        1\n",
       "Name: product_photos_qty, dtype: int64"
      ]
     },
     "execution_count": 74,
     "metadata": {},
     "output_type": "execute_result"
    }
   ],
   "source": [
    "data['product_photos_qty'].value_counts()"
   ]
  },
  {
   "cell_type": "code",
   "execution_count": 75,
   "metadata": {},
   "outputs": [],
   "source": [
    "data['product_photos_qty']=data['product_photos_qty'].fillna(1.0)"
   ]
  },
  {
   "cell_type": "code",
   "execution_count": 76,
   "metadata": {},
   "outputs": [
    {
     "data": {
      "text/plain": [
       "200.0     7071\n",
       "150.0     5394\n",
       "250.0     4727\n",
       "300.0     4415\n",
       "400.0     3771\n",
       "          ... \n",
       "3425.0       1\n",
       "5193.0       1\n",
       "8775.0       1\n",
       "7817.0       1\n",
       "692.0        1\n",
       "Name: product_weight_g, Length: 2204, dtype: int64"
      ]
     },
     "execution_count": 76,
     "metadata": {},
     "output_type": "execute_result"
    }
   ],
   "source": [
    "data['product_weight_g'].value_counts()"
   ]
  },
  {
   "cell_type": "code",
   "execution_count": 77,
   "metadata": {},
   "outputs": [
    {
     "data": {
      "text/plain": [
       "count    117978.000000\n",
       "mean       2113.253556\n",
       "std        3788.165368\n",
       "min           0.000000\n",
       "25%         300.000000\n",
       "50%         700.000000\n",
       "75%        1800.000000\n",
       "max       40425.000000\n",
       "Name: product_weight_g, dtype: float64"
      ]
     },
     "execution_count": 77,
     "metadata": {},
     "output_type": "execute_result"
    }
   ],
   "source": [
    "data['product_weight_g'].describe()"
   ]
  },
  {
   "cell_type": "code",
   "execution_count": 78,
   "metadata": {},
   "outputs": [],
   "source": [
    "data['product_weight_g']=data['product_weight_g'].fillna(0)"
   ]
  },
  {
   "cell_type": "code",
   "execution_count": 79,
   "metadata": {},
   "outputs": [],
   "source": [
    "data['product_length_cm']=data['product_length_cm'].fillna(0)\n",
    "data['product_height_cm']=data['product_height_cm'].fillna(0)\n",
    "data['product_width_cm']=data['product_width_cm'].fillna(0)"
   ]
  },
  {
   "cell_type": "code",
   "execution_count": 80,
   "metadata": {},
   "outputs": [
    {
     "data": {
      "text/plain": [
       "Unnamed: 0                       0\n",
       "review_score                     0\n",
       "review_creation_date             0\n",
       "review_answer_timestamp          0\n",
       "order_status                     0\n",
       "order_purchase_timestamp         0\n",
       "order_approved_at                0\n",
       "order_delivered_carrier_date     0\n",
       "order_delivered_customer_date    0\n",
       "order_estimated_delivery_date    0\n",
       "payment_sequential               0\n",
       "payment_type                     0\n",
       "payment_installments             0\n",
       "payment_value                    0\n",
       "customer_zip_code_prefix         0\n",
       "customer_city                    0\n",
       "customer_state                   0\n",
       "order_item_id                    0\n",
       "product_id                       0\n",
       "seller_id                        0\n",
       "shipping_limit_date              0\n",
       "price                            0\n",
       "freight_value                    0\n",
       "product_category_name            0\n",
       "product_name_lenght              0\n",
       "product_description_lenght       0\n",
       "product_photos_qty               0\n",
       "product_weight_g                 0\n",
       "product_length_cm                0\n",
       "product_height_cm                0\n",
       "product_width_cm                 0\n",
       "seller_zip_code_prefix           0\n",
       "seller_city                      0\n",
       "seller_state                     0\n",
       "geolocation_zip_code_prefix      0\n",
       "geolocation_lat                  0\n",
       "geolocation_lng                  0\n",
       "dtype: int64"
      ]
     },
     "execution_count": 80,
     "metadata": {},
     "output_type": "execute_result"
    }
   ],
   "source": [
    "data.isnull().sum()"
   ]
  },
  {
   "cell_type": "code",
   "execution_count": 81,
   "metadata": {},
   "outputs": [
    {
     "name": "stdout",
     "output_type": "stream",
     "text": [
      "<class 'pandas.core.frame.DataFrame'>\n",
      "RangeIndex: 117998 entries, 0 to 117997\n",
      "Data columns (total 37 columns):\n",
      " #   Column                         Non-Null Count   Dtype  \n",
      "---  ------                         --------------   -----  \n",
      " 0   Unnamed: 0                     117998 non-null  int64  \n",
      " 1   review_score                   117998 non-null  int64  \n",
      " 2   review_creation_date           117998 non-null  object \n",
      " 3   review_answer_timestamp        117998 non-null  object \n",
      " 4   order_status                   117998 non-null  object \n",
      " 5   order_purchase_timestamp       117998 non-null  object \n",
      " 6   order_approved_at              117998 non-null  object \n",
      " 7   order_delivered_carrier_date   117998 non-null  object \n",
      " 8   order_delivered_customer_date  117998 non-null  object \n",
      " 9   order_estimated_delivery_date  117998 non-null  object \n",
      " 10  payment_sequential             117998 non-null  int64  \n",
      " 11  payment_type                   117998 non-null  object \n",
      " 12  payment_installments           117998 non-null  int64  \n",
      " 13  payment_value                  117998 non-null  float64\n",
      " 14  customer_zip_code_prefix       117998 non-null  int64  \n",
      " 15  customer_city                  117998 non-null  object \n",
      " 16  customer_state                 117998 non-null  object \n",
      " 17  order_item_id                  117998 non-null  int64  \n",
      " 18  product_id                     117998 non-null  object \n",
      " 19  seller_id                      117998 non-null  object \n",
      " 20  shipping_limit_date            117998 non-null  object \n",
      " 21  price                          117998 non-null  float64\n",
      " 22  freight_value                  117998 non-null  float64\n",
      " 23  product_category_name          117998 non-null  object \n",
      " 24  product_name_lenght            117998 non-null  float64\n",
      " 25  product_description_lenght     117998 non-null  float64\n",
      " 26  product_photos_qty             117998 non-null  float64\n",
      " 27  product_weight_g               117998 non-null  float64\n",
      " 28  product_length_cm              117998 non-null  float64\n",
      " 29  product_height_cm              117998 non-null  float64\n",
      " 30  product_width_cm               117998 non-null  float64\n",
      " 31  seller_zip_code_prefix         117998 non-null  int64  \n",
      " 32  seller_city                    117998 non-null  object \n",
      " 33  seller_state                   117998 non-null  object \n",
      " 34  geolocation_zip_code_prefix    117998 non-null  int64  \n",
      " 35  geolocation_lat                117998 non-null  float64\n",
      " 36  geolocation_lng                117998 non-null  float64\n",
      "dtypes: float64(12), int64(8), object(17)\n",
      "memory usage: 33.3+ MB\n"
     ]
    }
   ],
   "source": [
    "data.info()"
   ]
  },
  {
   "cell_type": "code",
   "execution_count": 82,
   "metadata": {},
   "outputs": [
    {
     "data": {
      "text/plain": [
       "array(['sao joaquim da barra', 'salto', 'sao paulo',\n",
       "       'sao jose do rio preto', 'praia grande', 'campinas', 'curitiba',\n",
       "       'dois corregos', 'carapicuiba', 'guarulhos', 'canoas', 'pirituba',\n",
       "       'teixeira soares', 'duque de caxias', 'piracicaba', 'ibitinga',\n",
       "       'maringa', 'uberlandia', 'recife', 'belo horizonte',\n",
       "       'volta redonda', 'borda da mata', 'santa rita do sapucai',\n",
       "       'itatiba', 'lajeado', 'jundiai', 'osasco', 'lages',\n",
       "       'presidente prudente', 'niteroi', 'ilicinea', 'ribeirao preto',\n",
       "       'rio de janeiro', 'santo andre', 'brasilia', 'cascavel',\n",
       "       'joinville', 'goiania', 'itajai', 'petropolis', 'jau',\n",
       "       'mogi guacu', 'itauna', 'ribeirao preto / sao paulo', 'bertioga',\n",
       "       'videira', 'campo limpo paulista', 'sao luis', 'laranjal paulista',\n",
       "       'jacarei', 'sao carlos', 'rio do sul', 'barueri', 'patos de minas',\n",
       "       'contagem', 'colombo', 'santos', 'limeira', 'castro',\n",
       "       'sao jose dos campos', 'muqui', 'dracena', 'salvador',\n",
       "       'mirandopolis', 'sorocaba', 'jaragua do sul', 'itaquaquecetuba',\n",
       "       'monte siao', 'lauro de freitas', 'brusque',\n",
       "       'sao bernardo do campo', 'guara', 'baependi', 'marilia',\n",
       "       'sete lagoas', 'birigui', 'arapongas', 'assis', 'itabira',\n",
       "       'blumenau', 'maua', 'florianopolis', 'indaiatuba',\n",
       "       'sao jose dos pinhais', 'betim', 'hortolandia', 'teresopolis',\n",
       "       'monteiro lobato', 'cachoeirinha', 'cotia', 'sao goncalo',\n",
       "       'penapolis', 'atibaia', 'sao caetano do sul', 'formiga',\n",
       "       'ribeirao pires', 'guariba', 'pedreira', 'santa barbara d´oeste',\n",
       "       'bauru', 'londrina', 'americana', 'santana de parnaiba',\n",
       "       'porto ferreira', 'garca', 'cariacica', 'parai', 'porto alegre',\n",
       "       'caxias do sul', 'umuarama', 'guaruja', 'mogi das cruses',\n",
       "       'pato branco', 'marechal candido rondon', \"santa barbara d'oeste\",\n",
       "       'rolandia', 'canoinhas', 'poa', 'mogi das cruzes', 'parnamirim',\n",
       "       'luiz alves', 'itapevi', 'araguari', 'caratinga', 'jaboticabal',\n",
       "       'uba', 'bebedouro', 'louveira', 'novo hamburgo', 'riberao preto',\n",
       "       'guanambi', 'juiz de fora', 'echapora', 'joao pinheiro',\n",
       "       'jaguaruna', 'scao jose do rio pardo', 'serra negra',\n",
       "       'tres coracoes', 'tatui', 'rio claro', 'vicosa', 'nova petropolis',\n",
       "       'loanda', 'palhoca', 'rio de janeiro \\\\rio de janeiro',\n",
       "       'pradopolis', 'queimados', 'itapecerica da serra', 'apucarana',\n",
       "       'navegantes', 'timbo', 'cafelandia', 'araraquara', 'montenegro',\n",
       "       'suzano', 'mesquita', 'nova friburgo', 'ilheus', 'taboao da serra',\n",
       "       'fortaleza', 'bahia', 'sao paulo - sp', 'campos dos goytacazes',\n",
       "       's jose do rio preto', 'coronel fabriciano', 'andira-pr',\n",
       "       'santo antonio de posse', 'batatais', 'foz do iguacu', 'sao jose',\n",
       "       'divinopolis', 'cruzeiro', 'braganca paulista', 'nova iguacu',\n",
       "       'sarandi', 'sinop', 'viamao', 'pompeia', 'tubarao', 'santo angelo',\n",
       "       'sumare', 'congonhal', 'franca', 'lagoa santa', 'bento goncalves',\n",
       "       'campo largo', 'fronteira', 'japira', 'alfenas', 'botucatu',\n",
       "       'socorro', 'curitibanos', 'catanduva', 'tupa', 'pocos de caldas',\n",
       "       'tabatinga', 'ponte nova', 'auriflama', 'vargem grande do sul',\n",
       "       'cuiaba', 'votuporanga', 'cacador', 'aparecida de goiania',\n",
       "       'centro', 'franco da rocha', 'pedregulho', 'jaguariuna',\n",
       "       'orlandia', 'ipaussu', 'vendas@creditparts.com.br', 'itu',\n",
       "       'taubate', 'amparo', 'xanxere', 'itajobi', 'cornelio procopio',\n",
       "       'pitanga', 'jussara', 'arinos', 'aparecida', 'cajamar',\n",
       "       'francisco beltrao', 'jales', 'conselheiro lafaiete', 'toledo',\n",
       "       'sao joao del rei', 'mirassol', 'registro', 'lencois paulista',\n",
       "       'jacutinga', 'pinhais', 'capivari', 'piracanjuba', 'sbc/sp',\n",
       "       'fazenda rio grande', 'eunapolis', 'mateus leme', 'novo horizonte',\n",
       "       'cachoeiro de itapemirim', 'presidente bernardes', 'caucaia',\n",
       "       'anapolis', 'varzea paulista', 'bombinhas', 'morrinhos',\n",
       "       'sao sebastiao', 'tiradentes', 'votorantim', 'sombrio', 'triunfo',\n",
       "       'diadema', 'claudio', 'mococa', 'sao paluo', 'campo do meio',\n",
       "       'icara', 'dores de campos', 'domingos martins', 'porto seguro',\n",
       "       'vicente de carvalho', 'sao ludgero', 'sao roque', 'garulhos',\n",
       "       'ferraz de vasconcelos', 'rio grande', 'cravinhos', 'varginha',\n",
       "       'campo bom', 'mogi mirim', 'ubatuba', 'maua/sao paulo',\n",
       "       'paincandu', 'miguelopolis', 'terra boa', 'nova lima',\n",
       "       'fernandopolis', 'mineiros do tiete', 'tres rios', 'mandirituba',\n",
       "       'concordia', 'bariri', 'campo magro', 'sp', 'farroupilha',\n",
       "       'carazinho', 'barra mansa', 'sao  paulo', 'sao joao de meriti',\n",
       "       \"arraial d'ajuda (porto seguro)\", 'aperibe', 'cerqueira cesar',\n",
       "       'saquarema', 'bocaiuva do sul', 'imbe', 'aracatuba', 'extrema',\n",
       "       'congonhas', 'rolante', 'santa barbara d oeste', 'ouro preto',\n",
       "       'gama', 'nilopolis', 'floresta', 'campo grande', 'macae',\n",
       "       'imbituba', 'ibia', 'aruja', 'balneario camboriu', 'mairinque',\n",
       "       'mairipora', 'ipatinga', 'sao  jose dos pinhais', 'pelotas',\n",
       "       'itapeva', 'uruacu', 'ponta grossa', 'mage', 'ribeirao das neves',\n",
       "       'joao pessoa', 'porto velho', 'sao jose do rio pardo',\n",
       "       'vespasiano', 'mandaguacu', 'serrana', 'paulo lopes', 'cananeia',\n",
       "       'andradas', 'natal', 'imbituva', 'cataguases', 'laurentino',\n",
       "       'colorado', 'sao pedro', 'vila velha', 'cordeiropolis', 'neopolis',\n",
       "       'ampere', 'conchal', 'tanabi', 'formosa do oeste', 'guaratuba',\n",
       "       'estancia velha', 'coxim', 'paulinia', 'rio bonito', 'arvorezinha',\n",
       "       'jaci', 'ferraz de  vasconcelos', 'garopaba', 'paranavai',\n",
       "       'campo mourao', 'sao leopoldo', 'balenario camboriu', 'vassouras',\n",
       "       'araras', 'ribeirao pretp', 'sp / sp', 'sao bento do sul',\n",
       "       'sao paulo / sao paulo', 'pilar do sul', 'barra velha',\n",
       "       'santa cruz do sul', 'porto belo', 'valinhos',\n",
       "       'santa terezinha de itaipu', 'braco do norte', 'brejao',\n",
       "       'vargem grande paulista', 'irati', 'mucambo', 'araxa',\n",
       "       'santa rosa', 'palotina', 'monte alto', 'ouro fino', 'clementina',\n",
       "       'sertanopolis', 'pederneiras', 'ararangua', 'teresina',\n",
       "       'massaranduba', 'bandeirantes', 'bom jardim', 'passos',\n",
       "       'cachoeira do sul', 'sao jose dos pinhas',\n",
       "       'santo antonio da patrulha', 'santo andre/sao paulo',\n",
       "       'venancio aires', 'montes claros', 'luziania', 'belford roxo',\n",
       "       'criciuma', 'ipe', 'pinhalzinho', 'mombuca',\n",
       "       'bom jesus dos perdoes', 'presidente epitacio', 'buritama',\n",
       "       'sao paulop', 'timoteo', 'embu guacu', 'campina das missoes',\n",
       "       'sando andre', 'pedrinhas paulista', 'barretos', 'colatina',\n",
       "       'pinhalao', 'angra dos reis', 'mamanguape', 'sao pedro da aldeia',\n",
       "       'itapetininga', 'holambra', 'laguna', 'sao vicente', 'descalvado',\n",
       "       'santo antonio de padua', 'taruma', 'lagoa da prata', 'uberaba',\n",
       "       'lambari', 'itaipulandia', 'engenheiro coelho', 'flores da cunha',\n",
       "       'sao joao da boa vista', 'boituva', 'ji parana', 'sao bento',\n",
       "       'bady bassitt', 'itaborai', 'alvorada', 'paraiba do sul',\n",
       "       'entre rios do oeste', 'muriae', 'ourinhos', 'rio verde',\n",
       "       'osvaldo cruz', 'artur nogueira', 'rodeio', 'barbacena', 'torres',\n",
       "       'araucaria', 'bonfinopolis de minas', 'sabara', 'gaspar',\n",
       "       'california', 'xaxim', 'santa maria da serra', 'alambari',\n",
       "       'cianorte', 'santa maria', 'tabao da serra', 'bage', 'indaial',\n",
       "       'portao', 'cariacica / es', 'lorena', 'vitoria', 'garuva',\n",
       "       'guaira', 'marica', 'presidente getulio', 'jarinu',\n",
       "       'francisco morato', 'oliveira', 'condor', 'nova odessa',\n",
       "       'igaracu do tiete', 'portoferreira', 'carmo do cajuru',\n",
       "       'embu das artes', 'sao jose do rio pret', 'alvares machado',\n",
       "       'camanducaia', 'jambeiro', 'ao bernardo do campo', 'brasilia df',\n",
       "       'igrejinha', 'sao bernardo do capo', 'serra', 'avare', 'jaciara',\n",
       "       'brotas', 'santa terezinha de goias', 'armacao dos buzios',\n",
       "       'tiete', 'treze tilias',\n",
       "       'novo hamburgo, rio grande do sul, brasil',\n",
       "       'rio de janeiro / rio de janeiro', 'ipira', 'guanhaes',\n",
       "       'cosmopolis', 'picarras', 'ivoti', 'carapicuiba / sao paulo',\n",
       "       'sapiranga', 'sao francisco do sul', 'cambe', 'uniao da vitoria',\n",
       "       'itau de minas', 'pitangueiras', 'sao sebastiao da grama/sp',\n",
       "       'rio do oeste', 'jaragua', 'aracaju', 'ipua', 'nhandeara',\n",
       "       'varzea alegre', 'tres de maio', 'chapeco', 'macatuba',\n",
       "       'campina grande', 'fernando prestes', 'vitoria de santo antao',\n",
       "       'olimpia', 'uruguaiana', 'barro alto', 'caruaru', 'itirapina',\n",
       "       'guarapuava', 'caieiras', 'guaratingueta', 'santa rosa de viterbo',\n",
       "       'erechim', 'joao monlevade', 'afonso claudio', 'sbc', 'paracambi',\n",
       "       'soledade', 'guaimbe', 'monte alegre do sul', 'ibirite',\n",
       "       'robeirao preto', 'mogi das cruzes / sp', 'carmo da mata',\n",
       "       'araquari', 'serra redonda', 'parana', 'mandaguari', 'itaporanga',\n",
       "       'leme', 'santa cecilia', 'tambau', 'rio negrinho',\n",
       "       'santa catarina', 'paraiso do sul', 'bofete', 'messias targino',\n",
       "       'pato bragado', 'lages - sc', 'são paulo', 'angra dos reis rj',\n",
       "       'auriflama/sp', 'rio das pedras', 'nova trento', 'divisa nova',\n",
       "       \"sao miguel d'oeste\", 'pacatuba', 'cordilheira alta',\n",
       "       'rio de janeiro, rio de janeiro, brasil', 'governador valadares',\n",
       "       'itapui', 'sao pauo', 'manaus', 'irece', 'imigrante',\n",
       "       'laranjeiras do sul', 'barrinha', 'almirante tamandare',\n",
       "       'floranopolis', 'taio', 'pedro leopoldo', 'orleans',\n",
       "       'pirassununga', 'camboriu', 'marapoama', 'campos novos',\n",
       "       'guiricema', 'pouso alegre', 'juzeiro do norte', 'eusebio',\n",
       "       'barbacena/ minas gerais', 'sao miguel do oeste', 'sao paulo sp',\n",
       "       'medianeira', 'goioere', 'resende', 'tocantins', 'itapema',\n",
       "       'marialva', 'aguas claras df', 'horizontina',\n",
       "       'jacarei / sao paulo', 'cascavael', 'formosa', '04482255',\n",
       "       'belo horizont', 'feira de santana', 'rio branco', 'vera cruz',\n",
       "       'ronda alta', 'campanha', 'pinhais/pr', 'viana', 'prados',\n",
       "       'castro pires', 'minas gerais', 'abadia de goias', 'janauba',\n",
       "       'tres coroas'], dtype=object)"
      ]
     },
     "execution_count": 82,
     "metadata": {},
     "output_type": "execute_result"
    }
   ],
   "source": [
    "data['seller_city'].unique()"
   ]
  },
  {
   "cell_type": "code",
   "execution_count": 83,
   "metadata": {},
   "outputs": [
    {
     "data": {
      "text/plain": [
       "array(['SP', 'PR', 'RS', 'RJ', 'MG', 'PE', 'SC', 'DF', 'GO', 'MA', 'ES',\n",
       "       'BA', 'PA', 'RN', 'CE', 'MT', 'MS', 'PB', 'RO', 'SE', 'PI', 'AM',\n",
       "       'AC'], dtype=object)"
      ]
     },
     "execution_count": 83,
     "metadata": {},
     "output_type": "execute_result"
    }
   ],
   "source": [
    "data['seller_state'].unique()"
   ]
  },
  {
   "cell_type": "code",
   "execution_count": 84,
   "metadata": {},
   "outputs": [
    {
     "data": {
      "text/plain": [
       "array(['esporte_lazer', 'utilidades_domesticas', 'eletronicos',\n",
       "       'ferramentas_jardim', 'moveis_decoracao', 'perfumaria',\n",
       "       'agro_industria_e_comercio', 'bebes', 'telefonia', 'brinquedos',\n",
       "       'construcao_ferramentas_construcao', 'cama_mesa_banho',\n",
       "       'fashion_bolsas_e_acessorios', 'alimentos',\n",
       "       'informatica_acessorios', 'eletrodomesticos', 'cool_stuff',\n",
       "       'other', 'malas_acessorios', 'casa_construcao', 'beleza_saude',\n",
       "       'industria_comercio_e_negocios', 'eletrodomesticos_2',\n",
       "       'relogios_presentes', 'automotivo', 'moveis_escritorio',\n",
       "       'climatizacao', 'sinalizacao_e_seguranca',\n",
       "       'construcao_ferramentas_seguranca', 'consoles_games', 'pet_shop',\n",
       "       'casa_conforto', 'papelaria', 'instrumentos_musicais', 'bebidas',\n",
       "       'construcao_ferramentas_iluminacao', 'pcs',\n",
       "       'moveis_cozinha_area_de_servico_jantar_e_jardim',\n",
       "       'livros_tecnicos', 'telefonia_fixa', 'market_place',\n",
       "       'livros_interesse_geral', 'cine_foto', 'artigos_de_natal',\n",
       "       'livros_importados', 'fashion_roupa_masculina', 'eletroportateis',\n",
       "       'construcao_ferramentas_jardim', 'moveis_sala', 'dvds_blu_ray',\n",
       "       'alimentos_bebidas', 'portateis_casa_forno_e_cafe',\n",
       "       'moveis_colchao_e_estofado', 'moveis_quarto', 'audio', 'artes',\n",
       "       'fashion_calcados', 'fashion_roupa_feminina',\n",
       "       'fashion_underwear_e_moda_praia', 'tablets_impressao_imagem',\n",
       "       'flores', 'artes_e_artesanato',\n",
       "       'construcao_ferramentas_ferramentas', 'fashion_esporte', 'musica',\n",
       "       'artigos_de_festas', 'fraldas_higiene', 'casa_conforto_2',\n",
       "       'fashion_roupa_infanto_juvenil', 'cds_dvds_musicais', 'pc_gamer',\n",
       "       'la_cuisine', 'portateis_cozinha_e_preparadores_de_alimentos',\n",
       "       'seguros_e_servicos'], dtype=object)"
      ]
     },
     "execution_count": 84,
     "metadata": {},
     "output_type": "execute_result"
    }
   ],
   "source": [
    "data['product_category_name'].unique()"
   ]
  },
  {
   "cell_type": "code",
   "execution_count": 85,
   "metadata": {},
   "outputs": [
    {
     "data": {
      "text/plain": [
       "count                  117998\n",
       "unique                  98017\n",
       "top       2017-08-17 22:17:55\n",
       "freq                       63\n",
       "Name: review_answer_timestamp, dtype: object"
      ]
     },
     "execution_count": 85,
     "metadata": {},
     "output_type": "execute_result"
    }
   ],
   "source": [
    "data['review_answer_timestamp'].describe()"
   ]
  },
  {
   "cell_type": "code",
   "execution_count": 86,
   "metadata": {},
   "outputs": [
    {
     "data": {
      "text/plain": [
       "0         2018-01-18 00:00:00\n",
       "1         2018-01-18 00:00:00\n",
       "2         2017-10-02 00:00:00\n",
       "3         2018-05-01 00:00:00\n",
       "4         2018-07-28 00:00:00\n",
       "                 ...         \n",
       "117993    2017-03-02 00:00:00\n",
       "117994    2018-06-27 00:00:00\n",
       "117995    2016-12-16 00:00:00\n",
       "117996    2017-10-24 00:00:00\n",
       "117997    2018-03-13 00:00:00\n",
       "Name: review_creation_date, Length: 117998, dtype: object"
      ]
     },
     "execution_count": 86,
     "metadata": {},
     "output_type": "execute_result"
    }
   ],
   "source": [
    "data['review_creation_date']"
   ]
  },
  {
   "cell_type": "code",
   "execution_count": 87,
   "metadata": {},
   "outputs": [
    {
     "data": {
      "text/plain": [
       "array(['delivered', 'shipped', 'canceled', 'processing', 'invoiced',\n",
       "       'unavailable', 'approved'], dtype=object)"
      ]
     },
     "execution_count": 87,
     "metadata": {},
     "output_type": "execute_result"
    }
   ],
   "source": [
    "data['order_status'].unique()"
   ]
  },
  {
   "cell_type": "code",
   "execution_count": 88,
   "metadata": {},
   "outputs": [
    {
     "data": {
      "text/plain": [
       "count     117998\n",
       "unique     80825\n",
       "top            0\n",
       "freq        1247\n",
       "Name: order_delivered_carrier_date, dtype: int64"
      ]
     },
     "execution_count": 88,
     "metadata": {},
     "output_type": "execute_result"
    }
   ],
   "source": [
    "data['order_delivered_carrier_date'].describe()"
   ]
  },
  {
   "cell_type": "code",
   "execution_count": 89,
   "metadata": {},
   "outputs": [
    {
     "data": {
      "text/plain": [
       "array(['credit_card', 'debit_card', 'voucher', 'boleto'], dtype=object)"
      ]
     },
     "execution_count": 89,
     "metadata": {},
     "output_type": "execute_result"
    }
   ],
   "source": [
    "data['payment_type'].unique()"
   ]
  },
  {
   "cell_type": "code",
   "execution_count": 90,
   "metadata": {},
   "outputs": [
    {
     "data": {
      "text/plain": [
       "4066"
      ]
     },
     "execution_count": 90,
     "metadata": {},
     "output_type": "execute_result"
    }
   ],
   "source": [
    "len(data['customer_city'].unique())"
   ]
  },
  {
   "cell_type": "code",
   "execution_count": 91,
   "metadata": {},
   "outputs": [
    {
     "data": {
      "text/plain": [
       "array(['delivered', 'shipped', 'canceled', 'processing', 'invoiced',\n",
       "       'unavailable', 'approved'], dtype=object)"
      ]
     },
     "execution_count": 91,
     "metadata": {},
     "output_type": "execute_result"
    }
   ],
   "source": [
    "data['order_status'].unique()"
   ]
  },
  {
   "cell_type": "code",
   "execution_count": 93,
   "metadata": {},
   "outputs": [],
   "source": [
    "##Removing the columns which don't have an imapact on the data\n",
    "columns=['order_delivered_carrier_date','shipping_limit_date','order_approved_at','geolocation_lat','geolocation_lng',\n",
    "         'order_item_id','product_id','seller_id','geolocation_zip_code_prefix']\n",
    "data=data.drop(columns,axis=1)"
   ]
  },
  {
   "cell_type": "code",
   "execution_count": 94,
   "metadata": {},
   "outputs": [
    {
     "data": {
      "text/plain": [
       "Index(['Unnamed: 0', 'review_score', 'review_creation_date',\n",
       "       'review_answer_timestamp', 'order_status', 'order_purchase_timestamp',\n",
       "       'order_delivered_customer_date', 'order_estimated_delivery_date',\n",
       "       'payment_sequential', 'payment_type', 'payment_installments',\n",
       "       'payment_value', 'customer_zip_code_prefix', 'customer_city',\n",
       "       'customer_state', 'price', 'freight_value', 'product_category_name',\n",
       "       'product_name_lenght', 'product_description_lenght',\n",
       "       'product_photos_qty', 'product_weight_g', 'product_length_cm',\n",
       "       'product_height_cm', 'product_width_cm', 'seller_zip_code_prefix',\n",
       "       'seller_city', 'seller_state'],\n",
       "      dtype='object')"
      ]
     },
     "execution_count": 94,
     "metadata": {},
     "output_type": "execute_result"
    }
   ],
   "source": [
    "data.columns"
   ]
  },
  {
   "cell_type": "markdown",
   "metadata": {},
   "source": [
    "### Feature Engineering"
   ]
  },
  {
   "cell_type": "code",
   "execution_count": 95,
   "metadata": {},
   "outputs": [
    {
     "data": {
      "text/plain": [
       "0         2018-02-02 00:00:00\n",
       "1         2018-02-02 00:00:00\n",
       "2         2017-10-16 00:00:00\n",
       "3         2018-05-15 00:00:00\n",
       "4         2018-08-06 00:00:00\n",
       "                 ...         \n",
       "117993    2017-03-06 00:00:00\n",
       "117994    2018-07-13 00:00:00\n",
       "117995    2016-12-14 00:00:00\n",
       "117996    2017-11-03 00:00:00\n",
       "117997    2018-03-27 00:00:00\n",
       "Name: order_estimated_delivery_date, Length: 117998, dtype: object"
      ]
     },
     "execution_count": 95,
     "metadata": {},
     "output_type": "execute_result"
    }
   ],
   "source": [
    "from datetime import datetime\n",
    "data['order_estimated_delivery_date']"
   ]
  },
  {
   "cell_type": "code",
   "execution_count": 109,
   "metadata": {},
   "outputs": [],
   "source": [
    "data['order_estimated_delivery_date']=pd.to_datetime(data['order_estimated_delivery_date'])"
   ]
  },
  {
   "cell_type": "code",
   "execution_count": null,
   "metadata": {},
   "outputs": [],
   "source": [
    "data['order_delivered_customer_date']"
   ]
  },
  {
   "cell_type": "code",
   "execution_count": 111,
   "metadata": {},
   "outputs": [],
   "source": [
    "data['order_delivered_customer_date']=data['order_delivered_customer_date'].apply(lambda x : str(x).split(\" \")[0])"
   ]
  },
  {
   "cell_type": "code",
   "execution_count": 112,
   "metadata": {},
   "outputs": [
    {
     "data": {
      "text/plain": [
       "0         2018-01-17\n",
       "1         2018-01-17\n",
       "2         2017-10-01\n",
       "3         2018-04-30\n",
       "4         2018-07-27\n",
       "             ...    \n",
       "117993    2017-03-01\n",
       "117994    2018-06-26\n",
       "117995    2016-10-17\n",
       "117996    2017-10-23\n",
       "117997    2018-03-12\n",
       "Name: order_delivered_customer_date, Length: 117998, dtype: object"
      ]
     },
     "execution_count": 112,
     "metadata": {},
     "output_type": "execute_result"
    }
   ],
   "source": [
    "data['order_delivered_customer_date']"
   ]
  },
  {
   "cell_type": "code",
   "execution_count": 115,
   "metadata": {},
   "outputs": [],
   "source": [
    "data['order_delivered_customer_date']=pd.to_datetime(data['order_delivered_customer_date'])"
   ]
  },
  {
   "cell_type": "code",
   "execution_count": 116,
   "metadata": {},
   "outputs": [],
   "source": [
    "data['days_taken_to_deliver']=data['order_estimated_delivery_date']-data['order_delivered_customer_date']"
   ]
  },
  {
   "cell_type": "code",
   "execution_count": 121,
   "metadata": {},
   "outputs": [],
   "source": [
    "data['days_taken_to_deliver']=data['days_taken_to_deliver'].apply(lambda x : str(x).split(\" \")[0])"
   ]
  },
  {
   "cell_type": "code",
   "execution_count": 123,
   "metadata": {},
   "outputs": [],
   "source": [
    "data['days_taken_to_deliver']=data['days_taken_to_deliver'].apply(lambda x : int(x))"
   ]
  },
  {
   "cell_type": "code",
   "execution_count": null,
   "metadata": {},
   "outputs": [],
   "source": []
  },
  {
   "cell_type": "code",
   "execution_count": 126,
   "metadata": {},
   "outputs": [
    {
     "data": {
      "text/plain": [
       "(array([1.15425e+05, 1.24800e+03, 0.00000e+00, 5.65000e+02, 0.00000e+00,\n",
       "        3.75000e+02, 3.75000e+02, 0.00000e+00, 7.00000e+00, 3.00000e+00]),\n",
       " array([0. , 0.6, 1.2, 1.8, 2.4, 3. , 3.6, 4.2, 4.8, 5.4, 6. ]),\n",
       " <BarContainer object of 10 artists>)"
      ]
     },
     "execution_count": 126,
     "metadata": {},
     "output_type": "execute_result"
    },
    {
     "data": {
      "image/png": "[encoded data removed]",
      "text/plain": [
       "<Figure size 432x288 with 1 Axes>"
      ]
     },
     "metadata": {
      "needs_background": "light"
     },
     "output_type": "display_data"
    }
   ],
   "source": [
    "plt.hist(data['order_status'])"
   ]
  },
  {
   "cell_type": "code",
   "execution_count": 127,
   "metadata": {},
   "outputs": [
    {
     "data": {
      "text/plain": [
       "<AxesSubplot:xlabel='review_score', ylabel='price'>"
      ]
     },
     "execution_count": 127,
     "metadata": {},
     "output_type": "execute_result"
    },
    {
     "data": {
      "image/png": "[encoded data removed]",
      "text/plain": [
       "<Figure size 576x360 with 1 Axes>"
      ]
     },
     "metadata": {
      "needs_background": "light"
     },
     "output_type": "display_data"
    }
   ],
   "source": [
    "plt.figure(figsize=(8,5))\n",
    "sns.boxplot(x='review_score',y='price',data=data)"
   ]
  },
  {
   "cell_type": "code",
   "execution_count": 128,
   "metadata": {},
   "outputs": [
    {
     "data": {
      "text/plain": [
       "<AxesSubplot:xlabel='price'>"
      ]
     },
     "execution_count": 128,
     "metadata": {},
     "output_type": "execute_result"
    },
    {
     "data": {
      "image/png": "[encoded data removed]",
      "text/plain": [
       "<Figure size 576x360 with 1 Axes>"
      ]
     },
     "metadata": {
      "needs_background": "light"
     },
     "output_type": "display_data"
    }
   ],
   "source": [
    "plt.figure(figsize=(8,5))\n",
    "sns.boxplot(data['price'])"
   ]
  },
  {
   "cell_type": "code",
   "execution_count": 129,
   "metadata": {},
   "outputs": [
    {
     "data": {
      "text/plain": [
       "<AxesSubplot:xlabel='review_score', ylabel='days_taken_to_deliver'>"
      ]
     },
     "execution_count": 129,
     "metadata": {},
     "output_type": "execute_result"
    },
    {
     "data": {
      "image/png": "[encoded data removed]",
      "text/plain": [
       "<Figure size 432x288 with 1 Axes>"
      ]
     },
     "metadata": {
      "needs_background": "light"
     },
     "output_type": "display_data"
    }
   ],
   "source": [
    "sns.barplot('review_score','days_taken_to_deliver',data=data)"
   ]
  },
  {
   "cell_type": "code",
   "execution_count": 130,
   "metadata": {},
   "outputs": [
    {
     "data": {
      "text/plain": [
       "<AxesSubplot:xlabel='review_score', ylabel='payment_installments'>"
      ]
     },
     "execution_count": 130,
     "metadata": {},
     "output_type": "execute_result"
    },
    {
     "data": {
      "image/png": "[encoded data removed]",
      "text/plain": [
       "<Figure size 432x288 with 1 Axes>"
      ]
     },
     "metadata": {
      "needs_background": "light"
     },
     "output_type": "display_data"
    }
   ],
   "source": [
    "sns.barplot('review_score','payment_installments',data=data)"
   ]
  },
  {
   "cell_type": "code",
   "execution_count": 133,
   "metadata": {},
   "outputs": [
    {
     "data": {
      "text/html": [
       "<div>\n",
       "<style scoped>\n",
       "    .dataframe tbody tr th:only-of-type {\n",
       "        vertical-align: middle;\n",
       "    }\n",
       "\n",
       "    .dataframe tbody tr th {\n",
       "        vertical-align: top;\n",
       "    }\n",
       "\n",
       "    .dataframe thead th {\n",
       "        text-align: right;\n",
       "    }\n",
       "</style>\n",
       "<table border=\"1\" class=\"dataframe\">\n",
       "  <thead>\n",
       "    <tr style=\"text-align: right;\">\n",
       "      <th></th>\n",
       "      <th>Unnamed: 0</th>\n",
       "      <th>review_score</th>\n",
       "      <th>payment_sequential</th>\n",
       "      <th>payment_installments</th>\n",
       "      <th>payment_value</th>\n",
       "      <th>customer_zip_code_prefix</th>\n",
       "      <th>price</th>\n",
       "      <th>freight_value</th>\n",
       "      <th>product_name_lenght</th>\n",
       "      <th>product_description_lenght</th>\n",
       "      <th>product_photos_qty</th>\n",
       "      <th>product_weight_g</th>\n",
       "      <th>product_length_cm</th>\n",
       "      <th>product_height_cm</th>\n",
       "      <th>product_width_cm</th>\n",
       "      <th>seller_zip_code_prefix</th>\n",
       "      <th>days_taken_to_deliver</th>\n",
       "    </tr>\n",
       "  </thead>\n",
       "  <tbody>\n",
       "    <tr>\n",
       "      <th>Unnamed: 0</th>\n",
       "      <td>1.000000</td>\n",
       "      <td>0.011764</td>\n",
       "      <td>-0.017361</td>\n",
       "      <td>0.005330</td>\n",
       "      <td>0.000395</td>\n",
       "      <td>0.123596</td>\n",
       "      <td>0.011499</td>\n",
       "      <td>0.053370</td>\n",
       "      <td>-0.000618</td>\n",
       "      <td>0.029129</td>\n",
       "      <td>0.037967</td>\n",
       "      <td>-0.003879</td>\n",
       "      <td>-0.003478</td>\n",
       "      <td>0.012139</td>\n",
       "      <td>-0.016497</td>\n",
       "      <td>0.001448</td>\n",
       "      <td>0.005942</td>\n",
       "    </tr>\n",
       "    <tr>\n",
       "      <th>review_score</th>\n",
       "      <td>0.011764</td>\n",
       "      <td>1.000000</td>\n",
       "      <td>-0.003895</td>\n",
       "      <td>-0.042939</td>\n",
       "      <td>-0.084003</td>\n",
       "      <td>-0.022944</td>\n",
       "      <td>-0.005275</td>\n",
       "      <td>-0.037429</td>\n",
       "      <td>-0.007968</td>\n",
       "      <td>0.009690</td>\n",
       "      <td>0.023204</td>\n",
       "      <td>-0.029024</td>\n",
       "      <td>-0.020941</td>\n",
       "      <td>-0.026739</td>\n",
       "      <td>-0.011127</td>\n",
       "      <td>0.026185</td>\n",
       "      <td>-0.240263</td>\n",
       "    </tr>\n",
       "    <tr>\n",
       "      <th>payment_sequential</th>\n",
       "      <td>-0.017361</td>\n",
       "      <td>-0.003895</td>\n",
       "      <td>1.000000</td>\n",
       "      <td>-0.086146</td>\n",
       "      <td>-0.064212</td>\n",
       "      <td>-0.021778</td>\n",
       "      <td>0.006854</td>\n",
       "      <td>0.022432</td>\n",
       "      <td>-0.004468</td>\n",
       "      <td>0.009849</td>\n",
       "      <td>-0.011392</td>\n",
       "      <td>0.043995</td>\n",
       "      <td>0.048997</td>\n",
       "      <td>0.024497</td>\n",
       "      <td>0.031075</td>\n",
       "      <td>0.014275</td>\n",
       "      <td>0.025420</td>\n",
       "    </tr>\n",
       "    <tr>\n",
       "      <th>payment_installments</th>\n",
       "      <td>0.005330</td>\n",
       "      <td>-0.042939</td>\n",
       "      <td>-0.086146</td>\n",
       "      <td>1.000000</td>\n",
       "      <td>0.273771</td>\n",
       "      <td>0.056999</td>\n",
       "      <td>0.277770</td>\n",
       "      <td>0.185607</td>\n",
       "      <td>0.018594</td>\n",
       "      <td>0.035660</td>\n",
       "      <td>0.001669</td>\n",
       "      <td>0.177750</td>\n",
       "      <td>0.117736</td>\n",
       "      <td>0.122474</td>\n",
       "      <td>0.138145</td>\n",
       "      <td>0.038977</td>\n",
       "      <td>0.006972</td>\n",
       "    </tr>\n",
       "    <tr>\n",
       "      <th>payment_value</th>\n",
       "      <td>0.000395</td>\n",
       "      <td>-0.084003</td>\n",
       "      <td>-0.064212</td>\n",
       "      <td>0.273771</td>\n",
       "      <td>1.000000</td>\n",
       "      <td>0.054638</td>\n",
       "      <td>0.739122</td>\n",
       "      <td>0.373803</td>\n",
       "      <td>0.001285</td>\n",
       "      <td>0.155246</td>\n",
       "      <td>0.011000</td>\n",
       "      <td>0.303589</td>\n",
       "      <td>0.138898</td>\n",
       "      <td>0.217026</td>\n",
       "      <td>0.148670</td>\n",
       "      <td>0.069780</td>\n",
       "      <td>0.018534</td>\n",
       "    </tr>\n",
       "    <tr>\n",
       "      <th>customer_zip_code_prefix</th>\n",
       "      <td>0.123596</td>\n",
       "      <td>-0.022944</td>\n",
       "      <td>-0.021778</td>\n",
       "      <td>0.056999</td>\n",
       "      <td>0.054638</td>\n",
       "      <td>1.000000</td>\n",
       "      <td>0.043232</td>\n",
       "      <td>0.225821</td>\n",
       "      <td>0.015588</td>\n",
       "      <td>0.025342</td>\n",
       "      <td>0.020331</td>\n",
       "      <td>0.001817</td>\n",
       "      <td>0.004326</td>\n",
       "      <td>0.011958</td>\n",
       "      <td>-0.011270</td>\n",
       "      <td>0.076578</td>\n",
       "      <td>-0.006878</td>\n",
       "    </tr>\n",
       "    <tr>\n",
       "      <th>price</th>\n",
       "      <td>0.011499</td>\n",
       "      <td>-0.005275</td>\n",
       "      <td>0.006854</td>\n",
       "      <td>0.277770</td>\n",
       "      <td>0.739122</td>\n",
       "      <td>0.043232</td>\n",
       "      <td>1.000000</td>\n",
       "      <td>0.416051</td>\n",
       "      <td>0.017198</td>\n",
       "      <td>0.199870</td>\n",
       "      <td>0.052701</td>\n",
       "      <td>0.339500</td>\n",
       "      <td>0.145742</td>\n",
       "      <td>0.224183</td>\n",
       "      <td>0.172787</td>\n",
       "      <td>0.088307</td>\n",
       "      <td>0.026889</td>\n",
       "    </tr>\n",
       "    <tr>\n",
       "      <th>freight_value</th>\n",
       "      <td>0.053370</td>\n",
       "      <td>-0.037429</td>\n",
       "      <td>0.022432</td>\n",
       "      <td>0.185607</td>\n",
       "      <td>0.373803</td>\n",
       "      <td>0.225821</td>\n",
       "      <td>0.416051</td>\n",
       "      <td>1.000000</td>\n",
       "      <td>0.020523</td>\n",
       "      <td>0.095910</td>\n",
       "      <td>0.023307</td>\n",
       "      <td>0.611507</td>\n",
       "      <td>0.309902</td>\n",
       "      <td>0.393674</td>\n",
       "      <td>0.325369</td>\n",
       "      <td>0.152158</td>\n",
       "      <td>0.021801</td>\n",
       "    </tr>\n",
       "    <tr>\n",
       "      <th>product_name_lenght</th>\n",
       "      <td>-0.000618</td>\n",
       "      <td>-0.007968</td>\n",
       "      <td>-0.004468</td>\n",
       "      <td>0.018594</td>\n",
       "      <td>0.001285</td>\n",
       "      <td>0.015588</td>\n",
       "      <td>0.017198</td>\n",
       "      <td>0.020523</td>\n",
       "      <td>1.000000</td>\n",
       "      <td>0.089760</td>\n",
       "      <td>0.133572</td>\n",
       "      <td>0.019399</td>\n",
       "      <td>0.054387</td>\n",
       "      <td>-0.032823</td>\n",
       "      <td>0.057584</td>\n",
       "      <td>-0.034402</td>\n",
       "      <td>-0.021152</td>\n",
       "    </tr>\n",
       "    <tr>\n",
       "      <th>product_description_lenght</th>\n",
       "      <td>0.029129</td>\n",
       "      <td>0.009690</td>\n",
       "      <td>0.009849</td>\n",
       "      <td>0.035660</td>\n",
       "      <td>0.155246</td>\n",
       "      <td>0.025342</td>\n",
       "      <td>0.199870</td>\n",
       "      <td>0.095910</td>\n",
       "      <td>0.089760</td>\n",
       "      <td>1.000000</td>\n",
       "      <td>0.117709</td>\n",
       "      <td>0.062983</td>\n",
       "      <td>0.007655</td>\n",
       "      <td>0.073575</td>\n",
       "      <td>-0.067950</td>\n",
       "      <td>0.061845</td>\n",
       "      <td>0.011744</td>\n",
       "    </tr>\n",
       "    <tr>\n",
       "      <th>product_photos_qty</th>\n",
       "      <td>0.037967</td>\n",
       "      <td>0.023204</td>\n",
       "      <td>-0.011392</td>\n",
       "      <td>0.001669</td>\n",
       "      <td>0.011000</td>\n",
       "      <td>0.020331</td>\n",
       "      <td>0.052701</td>\n",
       "      <td>0.023307</td>\n",
       "      <td>0.133572</td>\n",
       "      <td>0.117709</td>\n",
       "      <td>1.000000</td>\n",
       "      <td>0.021933</td>\n",
       "      <td>0.046647</td>\n",
       "      <td>-0.031500</td>\n",
       "      <td>0.009149</td>\n",
       "      <td>-0.040048</td>\n",
       "      <td>-0.006066</td>\n",
       "    </tr>\n",
       "    <tr>\n",
       "      <th>product_weight_g</th>\n",
       "      <td>-0.003879</td>\n",
       "      <td>-0.029024</td>\n",
       "      <td>0.043995</td>\n",
       "      <td>0.177750</td>\n",
       "      <td>0.303589</td>\n",
       "      <td>0.001817</td>\n",
       "      <td>0.339500</td>\n",
       "      <td>0.611507</td>\n",
       "      <td>0.019399</td>\n",
       "      <td>0.062983</td>\n",
       "      <td>0.021933</td>\n",
       "      <td>1.000000</td>\n",
       "      <td>0.463107</td>\n",
       "      <td>0.581940</td>\n",
       "      <td>0.506831</td>\n",
       "      <td>0.012697</td>\n",
       "      <td>0.011686</td>\n",
       "    </tr>\n",
       "    <tr>\n",
       "      <th>product_length_cm</th>\n",
       "      <td>-0.003478</td>\n",
       "      <td>-0.020941</td>\n",
       "      <td>0.048997</td>\n",
       "      <td>0.117736</td>\n",
       "      <td>0.138898</td>\n",
       "      <td>0.004326</td>\n",
       "      <td>0.145742</td>\n",
       "      <td>0.309902</td>\n",
       "      <td>0.054387</td>\n",
       "      <td>0.007655</td>\n",
       "      <td>0.046647</td>\n",
       "      <td>0.463107</td>\n",
       "      <td>1.000000</td>\n",
       "      <td>0.193752</td>\n",
       "      <td>0.535655</td>\n",
       "      <td>0.035137</td>\n",
       "      <td>0.010578</td>\n",
       "    </tr>\n",
       "    <tr>\n",
       "      <th>product_height_cm</th>\n",
       "      <td>0.012139</td>\n",
       "      <td>-0.026739</td>\n",
       "      <td>0.024497</td>\n",
       "      <td>0.122474</td>\n",
       "      <td>0.217026</td>\n",
       "      <td>0.011958</td>\n",
       "      <td>0.224183</td>\n",
       "      <td>0.393674</td>\n",
       "      <td>-0.032823</td>\n",
       "      <td>0.073575</td>\n",
       "      <td>-0.031500</td>\n",
       "      <td>0.581940</td>\n",
       "      <td>0.193752</td>\n",
       "      <td>1.000000</td>\n",
       "      <td>0.280251</td>\n",
       "      <td>0.015087</td>\n",
       "      <td>0.019608</td>\n",
       "    </tr>\n",
       "    <tr>\n",
       "      <th>product_width_cm</th>\n",
       "      <td>-0.016497</td>\n",
       "      <td>-0.011127</td>\n",
       "      <td>0.031075</td>\n",
       "      <td>0.138145</td>\n",
       "      <td>0.148670</td>\n",
       "      <td>-0.011270</td>\n",
       "      <td>0.172787</td>\n",
       "      <td>0.325369</td>\n",
       "      <td>0.057584</td>\n",
       "      <td>-0.067950</td>\n",
       "      <td>0.009149</td>\n",
       "      <td>0.506831</td>\n",
       "      <td>0.535655</td>\n",
       "      <td>0.280251</td>\n",
       "      <td>1.000000</td>\n",
       "      <td>-0.015424</td>\n",
       "      <td>0.005836</td>\n",
       "    </tr>\n",
       "    <tr>\n",
       "      <th>seller_zip_code_prefix</th>\n",
       "      <td>0.001448</td>\n",
       "      <td>0.026185</td>\n",
       "      <td>0.014275</td>\n",
       "      <td>0.038977</td>\n",
       "      <td>0.069780</td>\n",
       "      <td>0.076578</td>\n",
       "      <td>0.088307</td>\n",
       "      <td>0.152158</td>\n",
       "      <td>-0.034402</td>\n",
       "      <td>0.061845</td>\n",
       "      <td>-0.040048</td>\n",
       "      <td>0.012697</td>\n",
       "      <td>0.035137</td>\n",
       "      <td>0.015087</td>\n",
       "      <td>-0.015424</td>\n",
       "      <td>1.000000</td>\n",
       "      <td>-0.002542</td>\n",
       "    </tr>\n",
       "    <tr>\n",
       "      <th>days_taken_to_deliver</th>\n",
       "      <td>0.005942</td>\n",
       "      <td>-0.240263</td>\n",
       "      <td>0.025420</td>\n",
       "      <td>0.006972</td>\n",
       "      <td>0.018534</td>\n",
       "      <td>-0.006878</td>\n",
       "      <td>0.026889</td>\n",
       "      <td>0.021801</td>\n",
       "      <td>-0.021152</td>\n",
       "      <td>0.011744</td>\n",
       "      <td>-0.006066</td>\n",
       "      <td>0.011686</td>\n",
       "      <td>0.010578</td>\n",
       "      <td>0.019608</td>\n",
       "      <td>0.005836</td>\n",
       "      <td>-0.002542</td>\n",
       "      <td>1.000000</td>\n",
       "    </tr>\n",
       "  </tbody>\n",
       "</table>\n",
       "</div>"
      ],
      "text/plain": [
       "                            Unnamed: 0  review_score  payment_sequential  \\\n",
       "Unnamed: 0                    1.000000      0.011764           -0.017361   \n",
       "review_score                  0.011764      1.000000           -0.003895   \n",
       "payment_sequential           -0.017361     -0.003895            1.000000   \n",
       "payment_installments          0.005330     -0.042939           -0.086146   \n",
       "payment_value                 0.000395     -0.084003           -0.064212   \n",
       "customer_zip_code_prefix      0.123596     -0.022944           -0.021778   \n",
       "price                         0.011499     -0.005275            0.006854   \n",
       "freight_value                 0.053370     -0.037429            0.022432   \n",
       "product_name_lenght          -0.000618     -0.007968           -0.004468   \n",
       "product_description_lenght    0.029129      0.009690            0.009849   \n",
       "product_photos_qty            0.037967      0.023204           -0.011392   \n",
       "product_weight_g             -0.003879     -0.029024            0.043995   \n",
       "product_length_cm            -0.003478     -0.020941            0.048997   \n",
       "product_height_cm             0.012139     -0.026739            0.024497   \n",
       "product_width_cm             -0.016497     -0.011127            0.031075   \n",
       "seller_zip_code_prefix        0.001448      0.026185            0.014275   \n",
       "days_taken_to_deliver         0.005942     -0.240263            0.025420   \n",
       "\n",
       "                            payment_installments  payment_value  \\\n",
       "Unnamed: 0                              0.005330       0.000395   \n",
       "review_score                           -0.042939      -0.084003   \n",
       "payment_sequential                     -0.086146      -0.064212   \n",
       "payment_installments                    1.000000       0.273771   \n",
       "payment_value                           0.273771       1.000000   \n",
       "customer_zip_code_prefix                0.056999       0.054638   \n",
       "price                                   0.277770       0.739122   \n",
       "freight_value                           0.185607       0.373803   \n",
       "product_name_lenght                     0.018594       0.001285   \n",
       "product_description_lenght              0.035660       0.155246   \n",
       "product_photos_qty                      0.001669       0.011000   \n",
       "product_weight_g                        0.177750       0.303589   \n",
       "product_length_cm                       0.117736       0.138898   \n",
       "product_height_cm                       0.122474       0.217026   \n",
       "product_width_cm                        0.138145       0.148670   \n",
       "seller_zip_code_prefix                  0.038977       0.069780   \n",
       "days_taken_to_deliver                   0.006972       0.018534   \n",
       "\n",
       "                            customer_zip_code_prefix     price  freight_value  \\\n",
       "Unnamed: 0                                  0.123596  0.011499       0.053370   \n",
       "review_score                               -0.022944 -0.005275      -0.037429   \n",
       "payment_sequential                         -0.021778  0.006854       0.022432   \n",
       "payment_installments                        0.056999  0.277770       0.185607   \n",
       "payment_value                               0.054638  0.739122       0.373803   \n",
       "customer_zip_code_prefix                    1.000000  0.043232       0.225821   \n",
       "price                                       0.043232  1.000000       0.416051   \n",
       "freight_value                               0.225821  0.416051       1.000000   \n",
       "product_name_lenght                         0.015588  0.017198       0.020523   \n",
       "product_description_lenght                  0.025342  0.199870       0.095910   \n",
       "product_photos_qty                          0.020331  0.052701       0.023307   \n",
       "product_weight_g                            0.001817  0.339500       0.611507   \n",
       "product_length_cm                           0.004326  0.145742       0.309902   \n",
       "product_height_cm                           0.011958  0.224183       0.393674   \n",
       "product_width_cm                           -0.011270  0.172787       0.325369   \n",
       "seller_zip_code_prefix                      0.076578  0.088307       0.152158   \n",
       "days_taken_to_deliver                      -0.006878  0.026889       0.021801   \n",
       "\n",
       "                            product_name_lenght  product_description_lenght  \\\n",
       "Unnamed: 0                            -0.000618                    0.029129   \n",
       "review_score                          -0.007968                    0.009690   \n",
       "payment_sequential                    -0.004468                    0.009849   \n",
       "payment_installments                   0.018594                    0.035660   \n",
       "payment_value                          0.001285                    0.155246   \n",
       "customer_zip_code_prefix               0.015588                    0.025342   \n",
       "price                                  0.017198                    0.199870   \n",
       "freight_value                          0.020523                    0.095910   \n",
       "product_name_lenght                    1.000000                    0.089760   \n",
       "product_description_lenght             0.089760                    1.000000   \n",
       "product_photos_qty                     0.133572                    0.117709   \n",
       "product_weight_g                       0.019399                    0.062983   \n",
       "product_length_cm                      0.054387                    0.007655   \n",
       "product_height_cm                     -0.032823                    0.073575   \n",
       "product_width_cm                       0.057584                   -0.067950   \n",
       "seller_zip_code_prefix                -0.034402                    0.061845   \n",
       "days_taken_to_deliver                 -0.021152                    0.011744   \n",
       "\n",
       "                            product_photos_qty  product_weight_g  \\\n",
       "Unnamed: 0                            0.037967         -0.003879   \n",
       "review_score                          0.023204         -0.029024   \n",
       "payment_sequential                   -0.011392          0.043995   \n",
       "payment_installments                  0.001669          0.177750   \n",
       "payment_value                         0.011000          0.303589   \n",
       "customer_zip_code_prefix              0.020331          0.001817   \n",
       "price                                 0.052701          0.339500   \n",
       "freight_value                         0.023307          0.611507   \n",
       "product_name_lenght                   0.133572          0.019399   \n",
       "product_description_lenght            0.117709          0.062983   \n",
       "product_photos_qty                    1.000000          0.021933   \n",
       "product_weight_g                      0.021933          1.000000   \n",
       "product_length_cm                     0.046647          0.463107   \n",
       "product_height_cm                    -0.031500          0.581940   \n",
       "product_width_cm                      0.009149          0.506831   \n",
       "seller_zip_code_prefix               -0.040048          0.012697   \n",
       "days_taken_to_deliver                -0.006066          0.011686   \n",
       "\n",
       "                            product_length_cm  product_height_cm  \\\n",
       "Unnamed: 0                          -0.003478           0.012139   \n",
       "review_score                        -0.020941          -0.026739   \n",
       "payment_sequential                   0.048997           0.024497   \n",
       "payment_installments                 0.117736           0.122474   \n",
       "payment_value                        0.138898           0.217026   \n",
       "customer_zip_code_prefix             0.004326           0.011958   \n",
       "price                                0.145742           0.224183   \n",
       "freight_value                        0.309902           0.393674   \n",
       "product_name_lenght                  0.054387          -0.032823   \n",
       "product_description_lenght           0.007655           0.073575   \n",
       "product_photos_qty                   0.046647          -0.031500   \n",
       "product_weight_g                     0.463107           0.581940   \n",
       "product_length_cm                    1.000000           0.193752   \n",
       "product_height_cm                    0.193752           1.000000   \n",
       "product_width_cm                     0.535655           0.280251   \n",
       "seller_zip_code_prefix               0.035137           0.015087   \n",
       "days_taken_to_deliver                0.010578           0.019608   \n",
       "\n",
       "                            product_width_cm  seller_zip_code_prefix  \\\n",
       "Unnamed: 0                         -0.016497                0.001448   \n",
       "review_score                       -0.011127                0.026185   \n",
       "payment_sequential                  0.031075                0.014275   \n",
       "payment_installments                0.138145                0.038977   \n",
       "payment_value                       0.148670                0.069780   \n",
       "customer_zip_code_prefix           -0.011270                0.076578   \n",
       "price                               0.172787                0.088307   \n",
       "freight_value                       0.325369                0.152158   \n",
       "product_name_lenght                 0.057584               -0.034402   \n",
       "product_description_lenght         -0.067950                0.061845   \n",
       "product_photos_qty                  0.009149               -0.040048   \n",
       "product_weight_g                    0.506831                0.012697   \n",
       "product_length_cm                   0.535655                0.035137   \n",
       "product_height_cm                   0.280251                0.015087   \n",
       "product_width_cm                    1.000000               -0.015424   \n",
       "seller_zip_code_prefix             -0.015424                1.000000   \n",
       "days_taken_to_deliver               0.005836               -0.002542   \n",
       "\n",
       "                            days_taken_to_deliver  \n",
       "Unnamed: 0                               0.005942  \n",
       "review_score                            -0.240263  \n",
       "payment_sequential                       0.025420  \n",
       "payment_installments                     0.006972  \n",
       "payment_value                            0.018534  \n",
       "customer_zip_code_prefix                -0.006878  \n",
       "price                                    0.026889  \n",
       "freight_value                            0.021801  \n",
       "product_name_lenght                     -0.021152  \n",
       "product_description_lenght               0.011744  \n",
       "product_photos_qty                      -0.006066  \n",
       "product_weight_g                         0.011686  \n",
       "product_length_cm                        0.010578  \n",
       "product_height_cm                        0.019608  \n",
       "product_width_cm                         0.005836  \n",
       "seller_zip_code_prefix                  -0.002542  \n",
       "days_taken_to_deliver                    1.000000  "
      ]
     },
     "execution_count": 133,
     "metadata": {},
     "output_type": "execute_result"
    }
   ],
   "source": [
    "corr=data.corr()\n",
    "corr"
   ]
  },
  {
   "cell_type": "code",
   "execution_count": 134,
   "metadata": {},
   "outputs": [
    {
     "data": {
      "text/html": [
       "<div>\n",
       "<style scoped>\n",
       "    .dataframe tbody tr th:only-of-type {\n",
       "        vertical-align: middle;\n",
       "    }\n",
       "\n",
       "    .dataframe tbody tr th {\n",
       "        vertical-align: top;\n",
       "    }\n",
       "\n",
       "    .dataframe thead th {\n",
       "        text-align: right;\n",
       "    }\n",
       "</style>\n",
       "<table border=\"1\" class=\"dataframe\">\n",
       "  <thead>\n",
       "    <tr style=\"text-align: right;\">\n",
       "      <th></th>\n",
       "      <th>Unnamed: 0</th>\n",
       "      <th>review_score</th>\n",
       "      <th>payment_sequential</th>\n",
       "      <th>payment_installments</th>\n",
       "      <th>payment_value</th>\n",
       "      <th>customer_zip_code_prefix</th>\n",
       "      <th>price</th>\n",
       "      <th>freight_value</th>\n",
       "      <th>product_name_lenght</th>\n",
       "      <th>product_description_lenght</th>\n",
       "      <th>product_photos_qty</th>\n",
       "      <th>product_weight_g</th>\n",
       "      <th>product_length_cm</th>\n",
       "      <th>product_height_cm</th>\n",
       "      <th>product_width_cm</th>\n",
       "      <th>seller_zip_code_prefix</th>\n",
       "      <th>days_taken_to_deliver</th>\n",
       "    </tr>\n",
       "  </thead>\n",
       "  <tbody>\n",
       "    <tr>\n",
       "      <th>Unnamed: 0</th>\n",
       "      <td>NaN</td>\n",
       "      <td>NaN</td>\n",
       "      <td>NaN</td>\n",
       "      <td>NaN</td>\n",
       "      <td>NaN</td>\n",
       "      <td>NaN</td>\n",
       "      <td>NaN</td>\n",
       "      <td>NaN</td>\n",
       "      <td>NaN</td>\n",
       "      <td>NaN</td>\n",
       "      <td>NaN</td>\n",
       "      <td>NaN</td>\n",
       "      <td>NaN</td>\n",
       "      <td>NaN</td>\n",
       "      <td>NaN</td>\n",
       "      <td>NaN</td>\n",
       "      <td>NaN</td>\n",
       "    </tr>\n",
       "    <tr>\n",
       "      <th>review_score</th>\n",
       "      <td>NaN</td>\n",
       "      <td>NaN</td>\n",
       "      <td>NaN</td>\n",
       "      <td>NaN</td>\n",
       "      <td>NaN</td>\n",
       "      <td>NaN</td>\n",
       "      <td>NaN</td>\n",
       "      <td>NaN</td>\n",
       "      <td>NaN</td>\n",
       "      <td>NaN</td>\n",
       "      <td>NaN</td>\n",
       "      <td>NaN</td>\n",
       "      <td>NaN</td>\n",
       "      <td>NaN</td>\n",
       "      <td>NaN</td>\n",
       "      <td>NaN</td>\n",
       "      <td>NaN</td>\n",
       "    </tr>\n",
       "    <tr>\n",
       "      <th>payment_sequential</th>\n",
       "      <td>NaN</td>\n",
       "      <td>NaN</td>\n",
       "      <td>NaN</td>\n",
       "      <td>NaN</td>\n",
       "      <td>NaN</td>\n",
       "      <td>NaN</td>\n",
       "      <td>NaN</td>\n",
       "      <td>NaN</td>\n",
       "      <td>NaN</td>\n",
       "      <td>NaN</td>\n",
       "      <td>NaN</td>\n",
       "      <td>NaN</td>\n",
       "      <td>NaN</td>\n",
       "      <td>NaN</td>\n",
       "      <td>NaN</td>\n",
       "      <td>NaN</td>\n",
       "      <td>NaN</td>\n",
       "    </tr>\n",
       "    <tr>\n",
       "      <th>payment_installments</th>\n",
       "      <td>NaN</td>\n",
       "      <td>NaN</td>\n",
       "      <td>NaN</td>\n",
       "      <td>NaN</td>\n",
       "      <td>NaN</td>\n",
       "      <td>NaN</td>\n",
       "      <td>NaN</td>\n",
       "      <td>NaN</td>\n",
       "      <td>NaN</td>\n",
       "      <td>NaN</td>\n",
       "      <td>NaN</td>\n",
       "      <td>NaN</td>\n",
       "      <td>NaN</td>\n",
       "      <td>NaN</td>\n",
       "      <td>NaN</td>\n",
       "      <td>NaN</td>\n",
       "      <td>NaN</td>\n",
       "    </tr>\n",
       "    <tr>\n",
       "      <th>payment_value</th>\n",
       "      <td>NaN</td>\n",
       "      <td>NaN</td>\n",
       "      <td>NaN</td>\n",
       "      <td>NaN</td>\n",
       "      <td>NaN</td>\n",
       "      <td>NaN</td>\n",
       "      <td>0.739122</td>\n",
       "      <td>NaN</td>\n",
       "      <td>NaN</td>\n",
       "      <td>NaN</td>\n",
       "      <td>NaN</td>\n",
       "      <td>NaN</td>\n",
       "      <td>NaN</td>\n",
       "      <td>NaN</td>\n",
       "      <td>NaN</td>\n",
       "      <td>NaN</td>\n",
       "      <td>NaN</td>\n",
       "    </tr>\n",
       "    <tr>\n",
       "      <th>customer_zip_code_prefix</th>\n",
       "      <td>NaN</td>\n",
       "      <td>NaN</td>\n",
       "      <td>NaN</td>\n",
       "      <td>NaN</td>\n",
       "      <td>NaN</td>\n",
       "      <td>NaN</td>\n",
       "      <td>NaN</td>\n",
       "      <td>NaN</td>\n",
       "      <td>NaN</td>\n",
       "      <td>NaN</td>\n",
       "      <td>NaN</td>\n",
       "      <td>NaN</td>\n",
       "      <td>NaN</td>\n",
       "      <td>NaN</td>\n",
       "      <td>NaN</td>\n",
       "      <td>NaN</td>\n",
       "      <td>NaN</td>\n",
       "    </tr>\n",
       "    <tr>\n",
       "      <th>price</th>\n",
       "      <td>NaN</td>\n",
       "      <td>NaN</td>\n",
       "      <td>NaN</td>\n",
       "      <td>NaN</td>\n",
       "      <td>0.739122</td>\n",
       "      <td>NaN</td>\n",
       "      <td>NaN</td>\n",
       "      <td>NaN</td>\n",
       "      <td>NaN</td>\n",
       "      <td>NaN</td>\n",
       "      <td>NaN</td>\n",
       "      <td>NaN</td>\n",
       "      <td>NaN</td>\n",
       "      <td>NaN</td>\n",
       "      <td>NaN</td>\n",
       "      <td>NaN</td>\n",
       "      <td>NaN</td>\n",
       "    </tr>\n",
       "    <tr>\n",
       "      <th>freight_value</th>\n",
       "      <td>NaN</td>\n",
       "      <td>NaN</td>\n",
       "      <td>NaN</td>\n",
       "      <td>NaN</td>\n",
       "      <td>NaN</td>\n",
       "      <td>NaN</td>\n",
       "      <td>NaN</td>\n",
       "      <td>NaN</td>\n",
       "      <td>NaN</td>\n",
       "      <td>NaN</td>\n",
       "      <td>NaN</td>\n",
       "      <td>0.611507</td>\n",
       "      <td>NaN</td>\n",
       "      <td>NaN</td>\n",
       "      <td>NaN</td>\n",
       "      <td>NaN</td>\n",
       "      <td>NaN</td>\n",
       "    </tr>\n",
       "    <tr>\n",
       "      <th>product_name_lenght</th>\n",
       "      <td>NaN</td>\n",
       "      <td>NaN</td>\n",
       "      <td>NaN</td>\n",
       "      <td>NaN</td>\n",
       "      <td>NaN</td>\n",
       "      <td>NaN</td>\n",
       "      <td>NaN</td>\n",
       "      <td>NaN</td>\n",
       "      <td>NaN</td>\n",
       "      <td>NaN</td>\n",
       "      <td>NaN</td>\n",
       "      <td>NaN</td>\n",
       "      <td>NaN</td>\n",
       "      <td>NaN</td>\n",
       "      <td>NaN</td>\n",
       "      <td>NaN</td>\n",
       "      <td>NaN</td>\n",
       "    </tr>\n",
       "    <tr>\n",
       "      <th>product_description_lenght</th>\n",
       "      <td>NaN</td>\n",
       "      <td>NaN</td>\n",
       "      <td>NaN</td>\n",
       "      <td>NaN</td>\n",
       "      <td>NaN</td>\n",
       "      <td>NaN</td>\n",
       "      <td>NaN</td>\n",
       "      <td>NaN</td>\n",
       "      <td>NaN</td>\n",
       "      <td>NaN</td>\n",
       "      <td>NaN</td>\n",
       "      <td>NaN</td>\n",
       "      <td>NaN</td>\n",
       "      <td>NaN</td>\n",
       "      <td>NaN</td>\n",
       "      <td>NaN</td>\n",
       "      <td>NaN</td>\n",
       "    </tr>\n",
       "    <tr>\n",
       "      <th>product_photos_qty</th>\n",
       "      <td>NaN</td>\n",
       "      <td>NaN</td>\n",
       "      <td>NaN</td>\n",
       "      <td>NaN</td>\n",
       "      <td>NaN</td>\n",
       "      <td>NaN</td>\n",
       "      <td>NaN</td>\n",
       "      <td>NaN</td>\n",
       "      <td>NaN</td>\n",
       "      <td>NaN</td>\n",
       "      <td>NaN</td>\n",
       "      <td>NaN</td>\n",
       "      <td>NaN</td>\n",
       "      <td>NaN</td>\n",
       "      <td>NaN</td>\n",
       "      <td>NaN</td>\n",
       "      <td>NaN</td>\n",
       "    </tr>\n",
       "    <tr>\n",
       "      <th>product_weight_g</th>\n",
       "      <td>NaN</td>\n",
       "      <td>NaN</td>\n",
       "      <td>NaN</td>\n",
       "      <td>NaN</td>\n",
       "      <td>NaN</td>\n",
       "      <td>NaN</td>\n",
       "      <td>NaN</td>\n",
       "      <td>0.611507</td>\n",
       "      <td>NaN</td>\n",
       "      <td>NaN</td>\n",
       "      <td>NaN</td>\n",
       "      <td>NaN</td>\n",
       "      <td>NaN</td>\n",
       "      <td>0.58194</td>\n",
       "      <td>0.506831</td>\n",
       "      <td>NaN</td>\n",
       "      <td>NaN</td>\n",
       "    </tr>\n",
       "    <tr>\n",
       "      <th>product_length_cm</th>\n",
       "      <td>NaN</td>\n",
       "      <td>NaN</td>\n",
       "      <td>NaN</td>\n",
       "      <td>NaN</td>\n",
       "      <td>NaN</td>\n",
       "      <td>NaN</td>\n",
       "      <td>NaN</td>\n",
       "      <td>NaN</td>\n",
       "      <td>NaN</td>\n",
       "      <td>NaN</td>\n",
       "      <td>NaN</td>\n",
       "      <td>NaN</td>\n",
       "      <td>NaN</td>\n",
       "      <td>NaN</td>\n",
       "      <td>0.535655</td>\n",
       "      <td>NaN</td>\n",
       "      <td>NaN</td>\n",
       "    </tr>\n",
       "    <tr>\n",
       "      <th>product_height_cm</th>\n",
       "      <td>NaN</td>\n",
       "      <td>NaN</td>\n",
       "      <td>NaN</td>\n",
       "      <td>NaN</td>\n",
       "      <td>NaN</td>\n",
       "      <td>NaN</td>\n",
       "      <td>NaN</td>\n",
       "      <td>NaN</td>\n",
       "      <td>NaN</td>\n",
       "      <td>NaN</td>\n",
       "      <td>NaN</td>\n",
       "      <td>0.581940</td>\n",
       "      <td>NaN</td>\n",
       "      <td>NaN</td>\n",
       "      <td>NaN</td>\n",
       "      <td>NaN</td>\n",
       "      <td>NaN</td>\n",
       "    </tr>\n",
       "    <tr>\n",
       "      <th>product_width_cm</th>\n",
       "      <td>NaN</td>\n",
       "      <td>NaN</td>\n",
       "      <td>NaN</td>\n",
       "      <td>NaN</td>\n",
       "      <td>NaN</td>\n",
       "      <td>NaN</td>\n",
       "      <td>NaN</td>\n",
       "      <td>NaN</td>\n",
       "      <td>NaN</td>\n",
       "      <td>NaN</td>\n",
       "      <td>NaN</td>\n",
       "      <td>0.506831</td>\n",
       "      <td>0.535655</td>\n",
       "      <td>NaN</td>\n",
       "      <td>NaN</td>\n",
       "      <td>NaN</td>\n",
       "      <td>NaN</td>\n",
       "    </tr>\n",
       "    <tr>\n",
       "      <th>seller_zip_code_prefix</th>\n",
       "      <td>NaN</td>\n",
       "      <td>NaN</td>\n",
       "      <td>NaN</td>\n",
       "      <td>NaN</td>\n",
       "      <td>NaN</td>\n",
       "      <td>NaN</td>\n",
       "      <td>NaN</td>\n",
       "      <td>NaN</td>\n",
       "      <td>NaN</td>\n",
       "      <td>NaN</td>\n",
       "      <td>NaN</td>\n",
       "      <td>NaN</td>\n",
       "      <td>NaN</td>\n",
       "      <td>NaN</td>\n",
       "      <td>NaN</td>\n",
       "      <td>NaN</td>\n",
       "      <td>NaN</td>\n",
       "    </tr>\n",
       "    <tr>\n",
       "      <th>days_taken_to_deliver</th>\n",
       "      <td>NaN</td>\n",
       "      <td>NaN</td>\n",
       "      <td>NaN</td>\n",
       "      <td>NaN</td>\n",
       "      <td>NaN</td>\n",
       "      <td>NaN</td>\n",
       "      <td>NaN</td>\n",
       "      <td>NaN</td>\n",
       "      <td>NaN</td>\n",
       "      <td>NaN</td>\n",
       "      <td>NaN</td>\n",
       "      <td>NaN</td>\n",
       "      <td>NaN</td>\n",
       "      <td>NaN</td>\n",
       "      <td>NaN</td>\n",
       "      <td>NaN</td>\n",
       "      <td>NaN</td>\n",
       "    </tr>\n",
       "  </tbody>\n",
       "</table>\n",
       "</div>"
      ],
      "text/plain": [
       "                            Unnamed: 0  review_score  payment_sequential  \\\n",
       "Unnamed: 0                         NaN           NaN                 NaN   \n",
       "review_score                       NaN           NaN                 NaN   \n",
       "payment_sequential                 NaN           NaN                 NaN   \n",
       "payment_installments               NaN           NaN                 NaN   \n",
       "payment_value                      NaN           NaN                 NaN   \n",
       "customer_zip_code_prefix           NaN           NaN                 NaN   \n",
       "price                              NaN           NaN                 NaN   \n",
       "freight_value                      NaN           NaN                 NaN   \n",
       "product_name_lenght                NaN           NaN                 NaN   \n",
       "product_description_lenght         NaN           NaN                 NaN   \n",
       "product_photos_qty                 NaN           NaN                 NaN   \n",
       "product_weight_g                   NaN           NaN                 NaN   \n",
       "product_length_cm                  NaN           NaN                 NaN   \n",
       "product_height_cm                  NaN           NaN                 NaN   \n",
       "product_width_cm                   NaN           NaN                 NaN   \n",
       "seller_zip_code_prefix             NaN           NaN                 NaN   \n",
       "days_taken_to_deliver              NaN           NaN                 NaN   \n",
       "\n",
       "                            payment_installments  payment_value  \\\n",
       "Unnamed: 0                                   NaN            NaN   \n",
       "review_score                                 NaN            NaN   \n",
       "payment_sequential                           NaN            NaN   \n",
       "payment_installments                         NaN            NaN   \n",
       "payment_value                                NaN            NaN   \n",
       "customer_zip_code_prefix                     NaN            NaN   \n",
       "price                                        NaN       0.739122   \n",
       "freight_value                                NaN            NaN   \n",
       "product_name_lenght                          NaN            NaN   \n",
       "product_description_lenght                   NaN            NaN   \n",
       "product_photos_qty                           NaN            NaN   \n",
       "product_weight_g                             NaN            NaN   \n",
       "product_length_cm                            NaN            NaN   \n",
       "product_height_cm                            NaN            NaN   \n",
       "product_width_cm                             NaN            NaN   \n",
       "seller_zip_code_prefix                       NaN            NaN   \n",
       "days_taken_to_deliver                        NaN            NaN   \n",
       "\n",
       "                            customer_zip_code_prefix     price  freight_value  \\\n",
       "Unnamed: 0                                       NaN       NaN            NaN   \n",
       "review_score                                     NaN       NaN            NaN   \n",
       "payment_sequential                               NaN       NaN            NaN   \n",
       "payment_installments                             NaN       NaN            NaN   \n",
       "payment_value                                    NaN  0.739122            NaN   \n",
       "customer_zip_code_prefix                         NaN       NaN            NaN   \n",
       "price                                            NaN       NaN            NaN   \n",
       "freight_value                                    NaN       NaN            NaN   \n",
       "product_name_lenght                              NaN       NaN            NaN   \n",
       "product_description_lenght                       NaN       NaN            NaN   \n",
       "product_photos_qty                               NaN       NaN            NaN   \n",
       "product_weight_g                                 NaN       NaN       0.611507   \n",
       "product_length_cm                                NaN       NaN            NaN   \n",
       "product_height_cm                                NaN       NaN            NaN   \n",
       "product_width_cm                                 NaN       NaN            NaN   \n",
       "seller_zip_code_prefix                           NaN       NaN            NaN   \n",
       "days_taken_to_deliver                            NaN       NaN            NaN   \n",
       "\n",
       "                            product_name_lenght  product_description_lenght  \\\n",
       "Unnamed: 0                                  NaN                         NaN   \n",
       "review_score                                NaN                         NaN   \n",
       "payment_sequential                          NaN                         NaN   \n",
       "payment_installments                        NaN                         NaN   \n",
       "payment_value                               NaN                         NaN   \n",
       "customer_zip_code_prefix                    NaN                         NaN   \n",
       "price                                       NaN                         NaN   \n",
       "freight_value                               NaN                         NaN   \n",
       "product_name_lenght                         NaN                         NaN   \n",
       "product_description_lenght                  NaN                         NaN   \n",
       "product_photos_qty                          NaN                         NaN   \n",
       "product_weight_g                            NaN                         NaN   \n",
       "product_length_cm                           NaN                         NaN   \n",
       "product_height_cm                           NaN                         NaN   \n",
       "product_width_cm                            NaN                         NaN   \n",
       "seller_zip_code_prefix                      NaN                         NaN   \n",
       "days_taken_to_deliver                       NaN                         NaN   \n",
       "\n",
       "                            product_photos_qty  product_weight_g  \\\n",
       "Unnamed: 0                                 NaN               NaN   \n",
       "review_score                               NaN               NaN   \n",
       "payment_sequential                         NaN               NaN   \n",
       "payment_installments                       NaN               NaN   \n",
       "payment_value                              NaN               NaN   \n",
       "customer_zip_code_prefix                   NaN               NaN   \n",
       "price                                      NaN               NaN   \n",
       "freight_value                              NaN          0.611507   \n",
       "product_name_lenght                        NaN               NaN   \n",
       "product_description_lenght                 NaN               NaN   \n",
       "product_photos_qty                         NaN               NaN   \n",
       "product_weight_g                           NaN               NaN   \n",
       "product_length_cm                          NaN               NaN   \n",
       "product_height_cm                          NaN          0.581940   \n",
       "product_width_cm                           NaN          0.506831   \n",
       "seller_zip_code_prefix                     NaN               NaN   \n",
       "days_taken_to_deliver                      NaN               NaN   \n",
       "\n",
       "                            product_length_cm  product_height_cm  \\\n",
       "Unnamed: 0                                NaN                NaN   \n",
       "review_score                              NaN                NaN   \n",
       "payment_sequential                        NaN                NaN   \n",
       "payment_installments                      NaN                NaN   \n",
       "payment_value                             NaN                NaN   \n",
       "customer_zip_code_prefix                  NaN                NaN   \n",
       "price                                     NaN                NaN   \n",
       "freight_value                             NaN                NaN   \n",
       "product_name_lenght                       NaN                NaN   \n",
       "product_description_lenght                NaN                NaN   \n",
       "product_photos_qty                        NaN                NaN   \n",
       "product_weight_g                          NaN            0.58194   \n",
       "product_length_cm                         NaN                NaN   \n",
       "product_height_cm                         NaN                NaN   \n",
       "product_width_cm                     0.535655                NaN   \n",
       "seller_zip_code_prefix                    NaN                NaN   \n",
       "days_taken_to_deliver                     NaN                NaN   \n",
       "\n",
       "                            product_width_cm  seller_zip_code_prefix  \\\n",
       "Unnamed: 0                               NaN                     NaN   \n",
       "review_score                             NaN                     NaN   \n",
       "payment_sequential                       NaN                     NaN   \n",
       "payment_installments                     NaN                     NaN   \n",
       "payment_value                            NaN                     NaN   \n",
       "customer_zip_code_prefix                 NaN                     NaN   \n",
       "price                                    NaN                     NaN   \n",
       "freight_value                            NaN                     NaN   \n",
       "product_name_lenght                      NaN                     NaN   \n",
       "product_description_lenght               NaN                     NaN   \n",
       "product_photos_qty                       NaN                     NaN   \n",
       "product_weight_g                    0.506831                     NaN   \n",
       "product_length_cm                   0.535655                     NaN   \n",
       "product_height_cm                        NaN                     NaN   \n",
       "product_width_cm                         NaN                     NaN   \n",
       "seller_zip_code_prefix                   NaN                     NaN   \n",
       "days_taken_to_deliver                    NaN                     NaN   \n",
       "\n",
       "                            days_taken_to_deliver  \n",
       "Unnamed: 0                                    NaN  \n",
       "review_score                                  NaN  \n",
       "payment_sequential                            NaN  \n",
       "payment_installments                          NaN  \n",
       "payment_value                                 NaN  \n",
       "customer_zip_code_prefix                      NaN  \n",
       "price                                         NaN  \n",
       "freight_value                                 NaN  \n",
       "product_name_lenght                           NaN  \n",
       "product_description_lenght                    NaN  \n",
       "product_photos_qty                            NaN  \n",
       "product_weight_g                              NaN  \n",
       "product_length_cm                             NaN  \n",
       "product_height_cm                             NaN  \n",
       "product_width_cm                              NaN  \n",
       "seller_zip_code_prefix                        NaN  \n",
       "days_taken_to_deliver                         NaN  "
      ]
     },
     "execution_count": 134,
     "metadata": {},
     "output_type": "execute_result"
    }
   ],
   "source": [
    "filteredDf = corr[((corr >= .5) | (corr <= -.5)) & (corr !=1.000)]\n",
    "filteredDf"
   ]
  },
  {
   "cell_type": "code",
   "execution_count": 137,
   "metadata": {},
   "outputs": [],
   "source": [
    "data=data.drop(['Unnamed: 0','review_answer_timestamp', 'order_purchase_timestamp',\n",
    "            'order_delivered_customer_date','order_estimated_delivery_date',\n",
    "            'review_creation_date','customer_zip_code_prefix','seller_zip_code_prefix'], axis = 1)"
   ]
  },
  {
   "cell_type": "code",
   "execution_count": 141,
   "metadata": {},
   "outputs": [],
   "source": [
    "data=data.drop(['product_name_lenght','product_description_lenght','product_height_cm', 'product_width_cm',\n",
    "                'product_weight_g', 'product_length_cm'],axis=1)"
   ]
  },
  {
   "cell_type": "code",
   "execution_count": 142,
   "metadata": {},
   "outputs": [
    {
     "data": {
      "text/plain": [
       "Index(['review_score', 'order_status', 'payment_sequential', 'payment_type',\n",
       "       'payment_installments', 'payment_value', 'customer_city',\n",
       "       'customer_state', 'price', 'freight_value', 'product_category_name',\n",
       "       'product_photos_qty', 'seller_city', 'seller_state',\n",
       "       'days_taken_to_deliver'],\n",
       "      dtype='object')"
      ]
     },
     "execution_count": 142,
     "metadata": {},
     "output_type": "execute_result"
    }
   ],
   "source": [
    "data.columns"
   ]
  },
  {
   "cell_type": "code",
   "execution_count": 143,
   "metadata": {},
   "outputs": [
    {
     "data": {
      "text/plain": [
       "(117998, 15)"
      ]
     },
     "execution_count": 143,
     "metadata": {},
     "output_type": "execute_result"
    }
   ],
   "source": [
    "data.shape"
   ]
  },
  {
   "cell_type": "markdown",
   "metadata": {},
   "source": [
    "### Label Encoding"
   ]
  },
  {
   "cell_type": "code",
   "execution_count": 144,
   "metadata": {},
   "outputs": [],
   "source": [
    "from sklearn.preprocessing import LabelEncoder"
   ]
  },
  {
   "cell_type": "code",
   "execution_count": 145,
   "metadata": {},
   "outputs": [],
   "source": [
    "customer_city=LabelEncoder()\n",
    "seller_city=LabelEncoder()\n",
    "order_status=LabelEncoder()\n",
    "category_name=LabelEncoder()\n",
    "state=LabelEncoder()\n",
    "payment_type=LabelEncoder()\n",
    "product=LabelEncoder()"
   ]
  },
  {
   "cell_type": "code",
   "execution_count": 148,
   "metadata": {},
   "outputs": [],
   "source": [
    "data['order_status']=order_status.fit_transform(data['order_status'])\n",
    "data['product_category_name']=category_name.fit_transform(data['product_category_name'])\n",
    "data['customer_city']=customer_city.fit_transform(data['customer_city'])\n",
    "data['seller_city']=seller_city.fit_transform(data['seller_city'])\n",
    "data['payment_type']=payment_type.fit_transform(data['payment_type'])\n",
    "data['customer_state']=state.fit_transform(data['customer_state'])\n",
    "data['seller_state']=state.transform(data['seller_state'])\n",
    "data['product_category_name']=product.fit_transform(data['product_category_name'])"
   ]
  },
  {
   "cell_type": "code",
   "execution_count": null,
   "metadata": {},
   "outputs": [],
   "source": []
  },
  {
   "cell_type": "code",
   "execution_count": 149,
   "metadata": {},
   "outputs": [],
   "source": [
    "df=pd.read_csv('final.csv')"
   ]
  },
  {
   "cell_type": "code",
   "execution_count": 150,
   "metadata": {},
   "outputs": [
    {
     "data": {
      "text/plain": [
       "array([2, 5, 1, 4, 3, 6, 0], dtype=int64)"
      ]
     },
     "execution_count": 150,
     "metadata": {},
     "output_type": "execute_result"
    }
   ],
   "source": [
    "df['order_status'].unique()"
   ]
  },
  {
   "cell_type": "code",
   "execution_count": 154,
   "metadata": {},
   "outputs": [
    {
     "data": {
      "text/plain": [
       "array([1, 2, 3, 0], dtype=int64)"
      ]
     },
     "execution_count": 154,
     "metadata": {},
     "output_type": "execute_result"
    }
   ],
   "source": [
    "df['payment_type'].unique()"
   ]
  },
  {
   "cell_type": "code",
   "execution_count": 155,
   "metadata": {},
   "outputs": [
    {
     "data": {
      "text/plain": [
       "array([ 1,  4,  3,  2,  6,  5,  7, 11, 10, 12,  8,  9, 13, 14, 15, 19, 17,\n",
       "       16, 18, 26, 25, 24, 22, 23, 20, 21, 27, 29, 28], dtype=int64)"
      ]
     },
     "execution_count": 155,
     "metadata": {},
     "output_type": "execute_result"
    }
   ],
   "source": [
    "df['payment_sequential'].unique()"
   ]
  },
  {
   "cell_type": "code",
   "execution_count": 157,
   "metadata": {},
   "outputs": [],
   "source": [
    "df=df.drop('Unnamed: 0',axis=1)"
   ]
  },
  {
   "cell_type": "code",
   "execution_count": 158,
   "metadata": {},
   "outputs": [],
   "source": [
    "di = {1:1,2:1,3:3,4:5,5:5}\n",
    "data['review_score']=data['review_score'].map(di)"
   ]
  },
  {
   "cell_type": "markdown",
   "metadata": {},
   "source": [
    "### Train Test Split"
   ]
  },
  {
   "cell_type": "code",
   "execution_count": 159,
   "metadata": {},
   "outputs": [],
   "source": [
    "X=data.drop('review_score',axis=1)\n",
    "y=data['review_score']"
   ]
  },
  {
   "cell_type": "code",
   "execution_count": 160,
   "metadata": {},
   "outputs": [],
   "source": [
    "from sklearn.model_selection import train_test_split\n",
    "X_train, X_test, y_train, y_test = train_test_split(X, y, test_size = 0.25, random_state = 5)"
   ]
  },
  {
   "cell_type": "code",
   "execution_count": 161,
   "metadata": {},
   "outputs": [
    {
     "name": "stdout",
     "output_type": "stream",
     "text": [
      "(88498, 14)\n",
      "(88498,)\n",
      "(29500, 14)\n",
      "(29500,)\n"
     ]
    }
   ],
   "source": [
    "print(X_train.shape)\n",
    "print(y_train.shape)\n",
    "print(X_test.shape)\n",
    "print(y_test.shape)"
   ]
  },
  {
   "cell_type": "code",
   "execution_count": 7,
   "metadata": {},
   "outputs": [],
   "source": [
    "from sklearn.preprocessing import StandardScaler\n",
    "sc = StandardScaler()\n",
    "X_train = sc.fit_transform(X_train)\n",
    "X_test = sc.transform(X_test)"
   ]
  },
  {
   "cell_type": "code",
   "execution_count": 178,
   "metadata": {},
   "outputs": [
    {
     "data": {
      "text/plain": [
       "RandomForestClassifier()"
      ]
     },
     "execution_count": 178,
     "metadata": {},
     "output_type": "execute_result"
    }
   ],
   "source": [
    "from sklearn.ensemble import RandomForestClassifier\n",
    "model=RandomForestClassifier()\n",
    "model.fit(X_train,y_train)"
   ]
  },
  {
   "cell_type": "code",
   "execution_count": 51,
   "metadata": {},
   "outputs": [],
   "source": [
    "#from sklearn.model_selection import GridSearchCV\n",
    "#grid_search = GridSearchCV(estimator=model,param_grid=grid_param,cv=5,n_jobs =-1,verbose = 3)"
   ]
  },
  {
   "cell_type": "code",
   "execution_count": null,
   "metadata": {},
   "outputs": [],
   "source": [
    "#grid_search.best_params_"
   ]
  },
  {
   "cell_type": "code",
   "execution_count": 179,
   "metadata": {},
   "outputs": [
    {
     "data": {
      "text/plain": [
       "0.8407796610169491"
      ]
     },
     "execution_count": 179,
     "metadata": {},
     "output_type": "execute_result"
    }
   ],
   "source": [
    "model.score(X_test,y_test)"
   ]
  },
  {
   "cell_type": "code",
   "execution_count": 180,
   "metadata": {},
   "outputs": [],
   "source": [
    "y_pred=model.predict(X_test)"
   ]
  },
  {
   "cell_type": "code",
   "execution_count": 182,
   "metadata": {},
   "outputs": [
    {
     "name": "stdout",
     "output_type": "stream",
     "text": [
      "Confusion matrix\n",
      "\n",
      " [[ 2683    15  2136]\n",
      " [  191   429  1937]\n",
      " [  378    40 21691]]\n",
      "\n",
      "True Positives(TP) =  2683\n",
      "\n",
      "True Negatives(TN) =  429\n",
      "\n",
      "False Positives(FP){type 1 error} =  15\n",
      "\n",
      "False Negatives(FN){type 2 error} =  191\n",
      "\n",
      "\n",
      "\n"
     ]
    }
   ],
   "source": [
    "# print confusion-matrix\n",
    "from sklearn.metrics import confusion_matrix, classification_report\n",
    "cm = confusion_matrix(y_test, y_pred)\n",
    "\n",
    "print('Confusion matrix\\n\\n', cm)\n",
    "\n",
    "print('\\nTrue Positives(TP) = ', cm[0,0])\n",
    "\n",
    "print('\\nTrue Negatives(TN) = ', cm[1,1])\n",
    "\n",
    "print('\\nFalse Positives(FP){type 1 error} = ', cm[0,1])\n",
    "\n",
    "print('\\nFalse Negatives(FN){type 2 error} = ', cm[1,0])\n",
    "print('\\n\\n')\n"
   ]
  },
  {
   "cell_type": "code",
   "execution_count": null,
   "metadata": {},
   "outputs": [],
   "source": [
    "import pickle\n",
    "#saving the model to the local file system\n",
    "with open('Final_model.pkl','wb') as f:\n",
    "    pickle.dump(model,f)"
   ]
  },
  {
   "cell_type": "code",
   "execution_count": null,
   "metadata": {},
   "outputs": [],
   "source": []
  },
  {
   "cell_type": "code",
   "execution_count": 15,
   "metadata": {},
   "outputs": [],
   "source": [
    "with open('standard_Scaler.pkl','wb') as f:\n",
    "    pickle.dump(sc,f)"
   ]
  },
  {
   "cell_type": "code",
   "execution_count": 183,
   "metadata": {},
   "outputs": [],
   "source": [
    "import pickle\n",
    "with open('order_status.pkl','wb') as f:\n",
    "    pickle.dump(order_status,f)\n",
    "with open('payment_type.pkl','wb') as f:\n",
    "    pickle.dump(payment_type,f)\n",
    "with open('state.pkl','wb') as f:\n",
    "    pickle.dump(state,f)"
   ]
  },
  {
   "cell_type": "code",
   "execution_count": 185,
   "metadata": {},
   "outputs": [],
   "source": [
    "with open('customer_city.pkl','wb') as f:\n",
    "    pickle.dump(customer_city,f)\n",
    "with open('seller_city.pkl','wb') as f:\n",
    "    pickle.dump(seller_city,f)\n",
    "with open('category_name.pkl','wb') as f:\n",
    "    pickle.dump(category_name,f)"
   ]
  },
  {
   "cell_type": "code",
   "execution_count": 190,
   "metadata": {},
   "outputs": [],
   "source": [
    "standard_scaler = pickle.load(open('standard_scaler.pkl','rb'))\n",
    "model = pickle.load(open('final_model.pkl', 'rb'))\n",
    "state = pickle.load(open('state.pkl','rb'))\n",
    "category_name = pickle.load(open('category_name.pkl','rb'))\n",
    "c_city = pickle.load(open('customer_city.pkl','rb'))\n",
    "s_city = pickle.load(open('seller_city.pkl','rb'))"
   ]
  },
  {
   "cell_type": "code",
   "execution_count": null,
   "metadata": {},
   "outputs": [],
   "source": [
    "category_name.transform(['esporte_lazer'])"
   ]
  },
  {
   "cell_type": "code",
   "execution_count": null,
   "metadata": {},
   "outputs": [],
   "source": [
    "state.transform(['SP'])"
   ]
  },
  {
   "cell_type": "code",
   "execution_count": null,
   "metadata": {},
   "outputs": [],
   "source": [
    "c_city.transform(['taquari'])[0]"
   ]
  },
  {
   "cell_type": "code",
   "execution_count": null,
   "metadata": {},
   "outputs": [],
   "source": [
    "s_city.transform(['salto'])[0]"
   ]
  },
  {
   "cell_type": "code",
   "execution_count": 191,
   "metadata": {},
   "outputs": [],
   "source": [
    "scaled=standard_scaler.transform([[ 2, 4,\n",
    "       2, 5, 564,\n",
    "       3761, 25, 4567, 43,\n",
    "       32, 3,\n",
    "       466, 25, 7]])"
   ]
  },
  {
   "cell_type": "code",
   "execution_count": 192,
   "metadata": {},
   "outputs": [],
   "source": [
    "prediction=model.predict(scaled)[0]"
   ]
  },
  {
   "cell_type": "code",
   "execution_count": 193,
   "metadata": {},
   "outputs": [
    {
     "data": {
      "text/plain": [
       "5"
      ]
     },
     "execution_count": 193,
     "metadata": {},
     "output_type": "execute_result"
    }
   ],
   "source": [
    "prediction"
   ]
  },
  {
   "cell_type": "code",
   "execution_count": null,
   "metadata": {},
   "outputs": [],
   "source": []
  }
 ],
 "metadata": {
  "kernelspec": {
   "display_name": "Python 3",
   "language": "python",
   "name": "python3"
  },
  "language_info": {
   "codemirror_mode": {
    "name": "ipython",
    "version": 3
   },
   "file_extension": ".py",
   "mimetype": "text/x-python",
   "name": "python",
   "nbconvert_exporter": "python",
   "pygments_lexer": "ipython3",
   "version": "3.7.6"
  }
 },
 "nbformat": 4,
 "nbformat_minor": 4
}
